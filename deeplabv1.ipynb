{
 "cells": [
  {
   "cell_type": "code",
   "execution_count": 12,
   "metadata": {},
   "outputs": [],
   "source": [
    "import torch\n",
    "import torch.nn as nn\n",
    "import torch.nn.functional as F\n",
    "import torch.optim as optim\n",
    "import torchvision"
   ]
  },
  {
   "cell_type": "code",
   "execution_count": 50,
   "metadata": {},
   "outputs": [],
   "source": [
    "class Branch(nn.Module):\n",
    "    \n",
    "    def __init__(self, in_channel, out_channel, dilation):\n",
    "        super().__init__()\n",
    "        self.conv6 = nn.Conv2d(in_channel, 256, kernel_size=3, stride=1, padding=dilation, dilation=dilation, bias=True)\n",
    "        self.bn6 = nn.BatchNorm2d(256)\n",
    "        self.conv7 = nn.Conv2d(256, 64, kernel_size=1, stride=1, padding=0, bias=True)\n",
    "        self.bn7 = nn.BatchNorm2d(64) \n",
    "        self.conv8 = nn.Conv2d(64, out_channel, kernel_size=1, stride=1, padding=0, bias=True)\n",
    "        self.bn8 = nn.BatchNorm2d(out_channel)\n",
    "    \n",
    "    def forward(self, x):\n",
    "        x = F.relu(self.bn6(self.conv6(x)))\n",
    "        x = F.relu(self.bn7(self.conv7(x)))\n",
    "        return F.relu(self.bn8(self.conv8(x)))"
   ]
  },
  {
   "cell_type": "code",
   "execution_count": 51,
   "metadata": {},
   "outputs": [],
   "source": [
    "class ASPP(nn.Module):\n",
    "    \n",
    "    def __init__(self, in_channel, out_channel, pyramids):\n",
    "        super().__init__()\n",
    "        self.branch1 = Branch(in_channel, out_channel, pyramids[0])\n",
    "        self.branch2 = Branch(in_channel, out_channel, pyramids[1])\n",
    "        self.branch3 = Branch(in_channel, out_channel, pyramids[2])\n",
    "        self.branch4 = Branch(in_channel, out_channel, pyramids[3])\n",
    "        \n",
    "        for m in self.children():\n",
    "            if isninstance(m, nn.Conv2d):\n",
    "                \n",
    "        \n",
    "    def forward(self, x):\n",
    "        h = 0.0\n",
    "        h += self.branch1(x)\n",
    "        h += self.branch2(x)\n",
    "        h += self.branch3(x)\n",
    "        h += self.branch4(x)\n",
    "        return h"
   ]
  },
  {
   "cell_type": "code",
   "execution_count": 59,
   "metadata": {},
   "outputs": [],
   "source": [
    "class DeepLabV1(nn.Module):\n",
    "    def __init__(self, n_classes):\n",
    "        super().__init__()\n",
    "        vgg = torchvision.models.vgg16_bn(pretrained=True)\n",
    "        self.vgg = vgg.features\n",
    "        self.vgg[-1] = nn.MaxPool2d(kernel_size=2, stride=1, padding=0, dilation=1, ceil_mode=False)\n",
    "        \n",
    "        self.aspp = ASPP(512, n_classes, [6, 12, 18, 24])\n",
    "    \n",
    "    def forward(self, x):\n",
    "        x = self.vgg(x)\n",
    "        x = self.aspp(x)\n",
    "        return x\n",
    "    \n",
    "    def freeze_bn(self):\n",
    "        for m in self.vgg.children():\n",
    "            if isinstance(m, nn.BatchNorm2d):\n",
    "                m.eval()"
   ]
  },
  {
   "cell_type": "code",
   "execution_count": null,
   "metadata": {},
   "outputs": [],
   "source": []
  }
 ],
 "metadata": {
  "kernelspec": {
   "display_name": "Python 3",
   "language": "python",
   "name": "python3"
  },
  "language_info": {
   "codemirror_mode": {
    "name": "ipython",
    "version": 3
   },
   "file_extension": ".py",
   "mimetype": "text/x-python",
   "name": "python",
   "nbconvert_exporter": "python",
   "pygments_lexer": "ipython3",
   "version": "3.5.5"
  }
 },
 "nbformat": 4,
 "nbformat_minor": 2
}
