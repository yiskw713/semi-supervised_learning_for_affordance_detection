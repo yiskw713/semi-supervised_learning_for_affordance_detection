{
 "cells": [
  {
   "cell_type": "code",
   "execution_count": 1,
   "metadata": {},
   "outputs": [],
   "source": [
    "import torch\n",
    "import torch.nn as nn\n",
    "import torch.optim as optim\n",
    "import torch.nn.functional as F\n",
    "import torch.utils.data\n",
    "import torchvision\n",
    "\n",
    "from torch.utils.data import Dataset, DataLoader\n",
    "from torchvision import transforms\n",
    "from torchvision.utils import save_image\n",
    "\n",
    "import pandas as pd\n",
    "import numpy as np\n",
    "import scipy.io\n",
    "import skimage.io\n",
    "\n",
    "from PIL import Image, ImageFilter"
   ]
  },
  {
   "cell_type": "markdown",
   "metadata": {},
   "source": [
    "# Define Model"
   ]
  },
  {
   "cell_type": "code",
   "execution_count": 2,
   "metadata": {},
   "outputs": [],
   "source": [
    "class Encoder(nn.Module):\n",
    "    def __init__(self, in_channel, out_channel):\n",
    "        super().__init__()\n",
    "        \n",
    "        self.conv = nn.Conv2d(in_channel, out_channel, kernel_size=3, padding=1)\n",
    "        self.bn = nn.BatchNorm2d(out_channel)\n",
    "        \n",
    "    def forward(self, x):\n",
    "        x = self.conv(x)\n",
    "        x = self.bn(x)\n",
    "        x = F.relu(x)\n",
    "        x, idx = F.max_pool2d(x, kernel_size=2, stride=2, return_indices=True)\n",
    "        return x, idx"
   ]
  },
  {
   "cell_type": "code",
   "execution_count": 3,
   "metadata": {},
   "outputs": [],
   "source": [
    "class Decoder(nn.Module):\n",
    "    def __init__(self, in_channel, out_channel):\n",
    "        super().__init__()\n",
    "        \n",
    "        self.conv = nn.Conv2d(in_channel, out_channel, kernel_size=3, padding=1)\n",
    "        self.bn = nn.BatchNorm2d(out_channel)\n",
    "        \n",
    "    def forward(self, x):\n",
    "        x = self.conv(x)\n",
    "        x = self.bn(x)\n",
    "        x = F.relu(x)\n",
    "        return x"
   ]
  },
  {
   "cell_type": "code",
   "execution_count": 4,
   "metadata": {},
   "outputs": [],
   "source": [
    "class SegNetBasic(nn.Module):\n",
    "    \"\"\" \n",
    "        SegNet Basic is a smaller version of SegNet\n",
    "        Please refer to this repository:\n",
    "        https://github.com/0bserver07/Keras-SegNet-Basic\n",
    "    \"\"\"\n",
    "    \n",
    "    def __init__(self, in_channel, out_channel):\n",
    "        super().__init__()\n",
    "        \n",
    "        self.encoder1 = Encoder(in_channel, 64)\n",
    "        self.encoder2 = Encoder(64, 80)\n",
    "        self.encoder3 = Encoder(80, 96)\n",
    "        self.encoder4 = Encoder(96, 128)\n",
    "        \n",
    "        self.decoder1 = Decoder(128, 96)\n",
    "        self.decoder2 = Decoder(96, 80)\n",
    "        self.decoder3 = Decoder(80, 64)\n",
    "        self.decoder4 = Decoder(64, out_channel)\n",
    "        \n",
    "    def forward(self, x):\n",
    "        size1 = x.size()\n",
    "        x, idx1 = self.encoder1(x)\n",
    "\n",
    "        size2 = x.size()\n",
    "        x, idx2 = self.encoder2(x)\n",
    "\n",
    "        size3 = x.size()\n",
    "        x, idx3 = self.encoder3(x)\n",
    "        \n",
    "        size4 = x.size()\n",
    "        x, idx4 = self.encoder4(x)\n",
    "\n",
    "        x = F.max_unpool2d(x, idx4, kernel_size=2, stride=2, output_size=size4)\n",
    "        x = self.decoder1(x)\n",
    "        \n",
    "        x = F.max_unpool2d(x, idx3, kernel_size=2, stride=2, output_size=size3)\n",
    "        x = self.decoder2(x)\n",
    "\n",
    "        x = F.max_unpool2d(x, idx2, kernel_size=2, stride=2, output_size=size2)\n",
    "        x = self.decoder3(x)\n",
    "\n",
    "        x = F.max_unpool2d(x, idx1, kernel_size=2, stride=2, output_size=size1)\n",
    "        x = self.decoder4(x)\n",
    "\n",
    "        return x"
   ]
  },
  {
   "cell_type": "markdown",
   "metadata": {},
   "source": [
    "# Dataset"
   ]
  },
  {
   "cell_type": "code",
   "execution_count": 7,
   "metadata": {
    "scrolled": true
   },
   "outputs": [
    {
     "name": "stdout",
     "output_type": "stream",
     "text": [
      "['./part-affordance-dataset/tools/mug_15', './part-affordance-dataset/tools/knife_12', './part-affordance-dataset/tools/spoon_01', './part-affordance-dataset/tools/ladle_04', './part-affordance-dataset/tools/trowel_02', './part-affordance-dataset/tools/scissors_01', './part-affordance-dataset/tools/bowl_08', './part-affordance-dataset/tools/tenderizer_02', './part-affordance-dataset/tools/shovel_02', './part-affordance-dataset/tools/bowl_07', './part-affordance-dataset/tools/spoon_02', './part-affordance-dataset/tools/saw_03', './part-affordance-dataset/tools/cup_04', './part-affordance-dataset/tools/spoon_06', './part-affordance-dataset/tools/spoon_04', './part-affordance-dataset/tools/spoon_08', './part-affordance-dataset/tools/mug_19', './part-affordance-dataset/tools/pot_01', './part-affordance-dataset/tools/knife_11', './part-affordance-dataset/tools/scoop_02', './part-affordance-dataset/tools/bowl_02', './part-affordance-dataset/tools/cup_05', './part-affordance-dataset/tools/mug_20', './part-affordance-dataset/tools/bowl_04', './part-affordance-dataset/tools/ladle_05', './part-affordance-dataset/tools/scissors_08', './part-affordance-dataset/tools/bowl_03', './part-affordance-dataset/tools/hammer_02', './part-affordance-dataset/tools/turner_03', './part-affordance-dataset/tools/turner_05', './part-affordance-dataset/tools/knife_04', './part-affordance-dataset/tools/mug_17', './part-affordance-dataset/tools/knife_07', './part-affordance-dataset/tools/cup_03', './part-affordance-dataset/tools/ladle_02', './part-affordance-dataset/tools/scissors_07', './part-affordance-dataset/tools/shears_01', './part-affordance-dataset/tools/scissors_05', './part-affordance-dataset/tools/turner_08', './part-affordance-dataset/tools/mallet_03', './part-affordance-dataset/tools/mug_10', './part-affordance-dataset/tools/mug_09', './part-affordance-dataset/tools/mug_14', './part-affordance-dataset/tools/mug_16', './part-affordance-dataset/tools/scissors_03', './part-affordance-dataset/tools/knife_03', './part-affordance-dataset/tools/ladle_03', './part-affordance-dataset/tools/shovel_01', './part-affordance-dataset/tools/mug_01', './part-affordance-dataset/tools/turner_04', './part-affordance-dataset/tools/spoon_05', './part-affordance-dataset/tools/ladle_01', './part-affordance-dataset/tools/knife_08', './part-affordance-dataset/tools/mug_12', './part-affordance-dataset/tools/tenderizer_01', './part-affordance-dataset/tools/mallet_04', './part-affordance-dataset/tools/saw_01', './part-affordance-dataset/tools/mug_07', './part-affordance-dataset/tools/trowel_03', './part-affordance-dataset/tools/spoon_09', './part-affordance-dataset/tools/scissors_06', './part-affordance-dataset/tools/mug_05', './part-affordance-dataset/tools/bowl_05', './part-affordance-dataset/tools/pot_02', './part-affordance-dataset/tools/knife_01', './part-affordance-dataset/tools/scoop_01', './part-affordance-dataset/tools/trowel_01', './part-affordance-dataset/tools/spoon_10', './part-affordance-dataset/tools/knife_10', './part-affordance-dataset/tools/knife_02', './part-affordance-dataset/tools/cup_06', './part-affordance-dataset/tools/turner_01', './part-affordance-dataset/tools/mug_11', './part-affordance-dataset/tools/knife_09', './part-affordance-dataset/tools/trowel_04', './part-affordance-dataset/tools/turner_06', './part-affordance-dataset/tools/bowl_09', './part-affordance-dataset/tools/cup_02', './part-affordance-dataset/tools/knife_06', './part-affordance-dataset/tools/saw_02', './part-affordance-dataset/tools/cup_01', './part-affordance-dataset/tools/hammer_03', './part-affordance-dataset/tools/mallet_01', './part-affordance-dataset/tools/mug_03', './part-affordance-dataset/tools/turner_02', './part-affordance-dataset/tools/shears_02', './part-affordance-dataset/tools/turner_07', './part-affordance-dataset/tools/mug_08', './part-affordance-dataset/tools/hammer_04', './part-affordance-dataset/tools/bowl_06', './part-affordance-dataset/tools/hammer_01', './part-affordance-dataset/tools/bowl_10', './part-affordance-dataset/tools/mug_04', './part-affordance-dataset/tools/trowel_05', './part-affordance-dataset/tools/mallet_02', './part-affordance-dataset/tools/mug_02', './part-affordance-dataset/tools/spoon_03', './part-affordance-dataset/tools/spoon_07', './part-affordance-dataset/tools/scissors_02', './part-affordance-dataset/tools/mug_06', './part-affordance-dataset/tools/mug_18', './part-affordance-dataset/tools/bowl_01', './part-affordance-dataset/tools/mug_13', './part-affordance-dataset/tools/knife_05', './part-affordance-dataset/tools/scissors_04']\n",
      "105\n"
     ]
    }
   ],
   "source": [
    "# count the number of pixels in each affordance\n",
    "import glob\n",
    "\n",
    "path_list = glob.glob('./part-affordance-dataset/tools/*', recursive=True)\n",
    "print(path_list)\n",
    "print(len(path_list))"
   ]
  },
  {
   "cell_type": "code",
   "execution_count": 8,
   "metadata": {},
   "outputs": [
    {
     "data": {
      "text/plain": [
       "5250"
      ]
     },
     "execution_count": 8,
     "metadata": {},
     "output_type": "execute_result"
    }
   ],
   "source": [
    "105*50"
   ]
  },
  {
   "cell_type": "code",
   "execution_count": 9,
   "metadata": {
    "scrolled": true
   },
   "outputs": [
    {
     "ename": "SyntaxError",
     "evalue": "invalid syntax (<ipython-input-9-dc0bd215e457>, line 5)",
     "output_type": "error",
     "traceback": [
      "\u001b[0;36m  File \u001b[0;32m\"<ipython-input-9-dc0bd215e457>\"\u001b[0;36m, line \u001b[0;32m5\u001b[0m\n\u001b[0;31m    i[]\u001b[0m\n\u001b[0m      ^\u001b[0m\n\u001b[0;31mSyntaxError\u001b[0m\u001b[0;31m:\u001b[0m invalid syntax\n"
     ]
    }
   ],
   "source": [
    "image_path_list = []\n",
    "\n",
    "for path in path_list:\n",
    "    i = glob.glob(path + '/*rgb.jpg')\n",
    "    image_path_list += i"
   ]
  },
  {
   "cell_type": "code",
   "execution_count": 10,
   "metadata": {},
   "outputs": [
    {
     "ename": "NameError",
     "evalue": "name 'image_path_list' is not defined",
     "output_type": "error",
     "traceback": [
      "\u001b[0;31m---------------------------------------------------------------------------\u001b[0m",
      "\u001b[0;31mNameError\u001b[0m                                 Traceback (most recent call last)",
      "\u001b[0;32m<ipython-input-10-f9be3234114f>\u001b[0m in \u001b[0;36m<module>\u001b[0;34m()\u001b[0m\n\u001b[1;32m      1\u001b[0m \u001b[0mclass_path_list\u001b[0m \u001b[0;34m=\u001b[0m \u001b[0;34m[\u001b[0m\u001b[0;34m]\u001b[0m\u001b[0;34m\u001b[0m\u001b[0m\n\u001b[1;32m      2\u001b[0m \u001b[0;34m\u001b[0m\u001b[0m\n\u001b[0;32m----> 3\u001b[0;31m \u001b[0;32mfor\u001b[0m \u001b[0mpath\u001b[0m \u001b[0;32min\u001b[0m \u001b[0mimage_path_list\u001b[0m\u001b[0;34m:\u001b[0m\u001b[0;34m\u001b[0m\u001b[0m\n\u001b[0m\u001b[1;32m      4\u001b[0m     \u001b[0mc\u001b[0m \u001b[0;34m=\u001b[0m \u001b[0mpath\u001b[0m\u001b[0;34m[\u001b[0m\u001b[0;34m:\u001b[0m\u001b[0;34m-\u001b[0m\u001b[0;36m7\u001b[0m\u001b[0;34m]\u001b[0m \u001b[0;34m+\u001b[0m \u001b[0;34m'label.mat'\u001b[0m\u001b[0;34m\u001b[0m\u001b[0m\n\u001b[1;32m      5\u001b[0m     \u001b[0mclass_path_list\u001b[0m\u001b[0;34m.\u001b[0m\u001b[0mappend\u001b[0m\u001b[0;34m(\u001b[0m\u001b[0mc\u001b[0m\u001b[0;34m)\u001b[0m\u001b[0;34m\u001b[0m\u001b[0m\n",
      "\u001b[0;31mNameError\u001b[0m: name 'image_path_list' is not defined"
     ]
    }
   ],
   "source": [
    "class_path_list = []\n",
    "\n",
    "for path in image_path_list:\n",
    "    c = path[:-7] + 'label.mat'\n",
    "    class_path_list.append(c)"
   ]
  },
  {
   "cell_type": "code",
   "execution_count": null,
   "metadata": {},
   "outputs": [],
   "source": [
    "df = pd.DataFrame({\n",
    "    'image_path': image_path_list,\n",
    "    'class_path': class_path_list\n",
    "})"
   ]
  },
  {
   "cell_type": "code",
   "execution_count": null,
   "metadata": {},
   "outputs": [],
   "source": [
    "# # write data as csv_file\n",
    "# df.to_csv('image_class_path.csv', index=None)"
   ]
  },
  {
   "cell_type": "code",
   "execution_count": null,
   "metadata": {},
   "outputs": [],
   "source": [
    "df = pd.read_csv('image_class_path.csv')"
   ]
  },
  {
   "cell_type": "code",
   "execution_count": null,
   "metadata": {},
   "outputs": [],
   "source": [
    "df_s = df.sample(frac=1, random_state=2)"
   ]
  },
  {
   "cell_type": "code",
   "execution_count": 9,
   "metadata": {
    "scrolled": true
   },
   "outputs": [
    {
     "data": {
      "text/html": [
       "<div>\n",
       "<style scoped>\n",
       "    .dataframe tbody tr th:only-of-type {\n",
       "        vertical-align: middle;\n",
       "    }\n",
       "\n",
       "    .dataframe tbody tr th {\n",
       "        vertical-align: top;\n",
       "    }\n",
       "\n",
       "    .dataframe thead th {\n",
       "        text-align: right;\n",
       "    }\n",
       "</style>\n",
       "<table border=\"1\" class=\"dataframe\">\n",
       "  <thead>\n",
       "    <tr style=\"text-align: right;\">\n",
       "      <th></th>\n",
       "      <th>image_path</th>\n",
       "      <th>class_path</th>\n",
       "    </tr>\n",
       "  </thead>\n",
       "  <tbody>\n",
       "    <tr>\n",
       "      <th>6650</th>\n",
       "      <td>./part-affordance-dataset/tools/bowl_04/bowl_0...</td>\n",
       "      <td>./part-affordance-dataset/tools/bowl_04/bowl_0...</td>\n",
       "    </tr>\n",
       "    <tr>\n",
       "      <th>16785</th>\n",
       "      <td>./part-affordance-dataset/tools/scissors_06/sc...</td>\n",
       "      <td>./part-affordance-dataset/tools/scissors_06/sc...</td>\n",
       "    </tr>\n",
       "    <tr>\n",
       "      <th>21334</th>\n",
       "      <td>./part-affordance-dataset/tools/knife_06/knife...</td>\n",
       "      <td>./part-affordance-dataset/tools/knife_06/knife...</td>\n",
       "    </tr>\n",
       "    <tr>\n",
       "      <th>10676</th>\n",
       "      <td>./part-affordance-dataset/tools/turner_08/turn...</td>\n",
       "      <td>./part-affordance-dataset/tools/turner_08/turn...</td>\n",
       "    </tr>\n",
       "    <tr>\n",
       "      <th>3308</th>\n",
       "      <td>./part-affordance-dataset/tools/saw_03/saw_03_...</td>\n",
       "      <td>./part-affordance-dataset/tools/saw_03/saw_03_...</td>\n",
       "    </tr>\n",
       "    <tr>\n",
       "      <th>1304</th>\n",
       "      <td>./part-affordance-dataset/tools/trowel_02/trow...</td>\n",
       "      <td>./part-affordance-dataset/tools/trowel_02/trow...</td>\n",
       "    </tr>\n",
       "    <tr>\n",
       "      <th>23177</th>\n",
       "      <td>./part-affordance-dataset/tools/turner_02/turn...</td>\n",
       "      <td>./part-affordance-dataset/tools/turner_02/turn...</td>\n",
       "    </tr>\n",
       "    <tr>\n",
       "      <th>28795</th>\n",
       "      <td>./part-affordance-dataset/tools/scissors_04/sc...</td>\n",
       "      <td>./part-affordance-dataset/tools/scissors_04/sc...</td>\n",
       "    </tr>\n",
       "    <tr>\n",
       "      <th>4522</th>\n",
       "      <td>./part-affordance-dataset/tools/spoon_08/spoon...</td>\n",
       "      <td>./part-affordance-dataset/tools/spoon_08/spoon...</td>\n",
       "    </tr>\n",
       "    <tr>\n",
       "      <th>5254</th>\n",
       "      <td>./part-affordance-dataset/tools/knife_11/knife...</td>\n",
       "      <td>./part-affordance-dataset/tools/knife_11/knife...</td>\n",
       "    </tr>\n",
       "    <tr>\n",
       "      <th>6610</th>\n",
       "      <td>./part-affordance-dataset/tools/bowl_04/bowl_0...</td>\n",
       "      <td>./part-affordance-dataset/tools/bowl_04/bowl_0...</td>\n",
       "    </tr>\n",
       "    <tr>\n",
       "      <th>10623</th>\n",
       "      <td>./part-affordance-dataset/tools/turner_08/turn...</td>\n",
       "      <td>./part-affordance-dataset/tools/turner_08/turn...</td>\n",
       "    </tr>\n",
       "    <tr>\n",
       "      <th>5966</th>\n",
       "      <td>./part-affordance-dataset/tools/cup_05/cup_05_...</td>\n",
       "      <td>./part-affordance-dataset/tools/cup_05/cup_05_...</td>\n",
       "    </tr>\n",
       "    <tr>\n",
       "      <th>6945</th>\n",
       "      <td>./part-affordance-dataset/tools/ladle_05/ladle...</td>\n",
       "      <td>./part-affordance-dataset/tools/ladle_05/ladle...</td>\n",
       "    </tr>\n",
       "    <tr>\n",
       "      <th>16399</th>\n",
       "      <td>./part-affordance-dataset/tools/spoon_09/spoon...</td>\n",
       "      <td>./part-affordance-dataset/tools/spoon_09/spoon...</td>\n",
       "    </tr>\n",
       "    <tr>\n",
       "      <th>36</th>\n",
       "      <td>./part-affordance-dataset/tools/mug_15/mug_15_...</td>\n",
       "      <td>./part-affordance-dataset/tools/mug_15/mug_15_...</td>\n",
       "    </tr>\n",
       "    <tr>\n",
       "      <th>5921</th>\n",
       "      <td>./part-affordance-dataset/tools/cup_05/cup_05_...</td>\n",
       "      <td>./part-affordance-dataset/tools/cup_05/cup_05_...</td>\n",
       "    </tr>\n",
       "    <tr>\n",
       "      <th>14098</th>\n",
       "      <td>./part-affordance-dataset/tools/ladle_01/ladle...</td>\n",
       "      <td>./part-affordance-dataset/tools/ladle_01/ladle...</td>\n",
       "    </tr>\n",
       "    <tr>\n",
       "      <th>10737</th>\n",
       "      <td>./part-affordance-dataset/tools/turner_08/turn...</td>\n",
       "      <td>./part-affordance-dataset/tools/turner_08/turn...</td>\n",
       "    </tr>\n",
       "    <tr>\n",
       "      <th>4939</th>\n",
       "      <td>./part-affordance-dataset/tools/pot_01/pot_01_...</td>\n",
       "      <td>./part-affordance-dataset/tools/pot_01/pot_01_...</td>\n",
       "    </tr>\n",
       "    <tr>\n",
       "      <th>2241</th>\n",
       "      <td>./part-affordance-dataset/tools/tenderizer_02/...</td>\n",
       "      <td>./part-affordance-dataset/tools/tenderizer_02/...</td>\n",
       "    </tr>\n",
       "    <tr>\n",
       "      <th>27547</th>\n",
       "      <td>./part-affordance-dataset/tools/mug_18/mug_18_...</td>\n",
       "      <td>./part-affordance-dataset/tools/mug_18/mug_18_...</td>\n",
       "    </tr>\n",
       "    <tr>\n",
       "      <th>16391</th>\n",
       "      <td>./part-affordance-dataset/tools/spoon_09/spoon...</td>\n",
       "      <td>./part-affordance-dataset/tools/spoon_09/spoon...</td>\n",
       "    </tr>\n",
       "    <tr>\n",
       "      <th>1476</th>\n",
       "      <td>./part-affordance-dataset/tools/trowel_02/trow...</td>\n",
       "      <td>./part-affordance-dataset/tools/trowel_02/trow...</td>\n",
       "    </tr>\n",
       "    <tr>\n",
       "      <th>20157</th>\n",
       "      <td>./part-affordance-dataset/tools/knife_09/knife...</td>\n",
       "      <td>./part-affordance-dataset/tools/knife_09/knife...</td>\n",
       "    </tr>\n",
       "    <tr>\n",
       "      <th>1968</th>\n",
       "      <td>./part-affordance-dataset/tools/bowl_08/bowl_0...</td>\n",
       "      <td>./part-affordance-dataset/tools/bowl_08/bowl_0...</td>\n",
       "    </tr>\n",
       "    <tr>\n",
       "      <th>23159</th>\n",
       "      <td>./part-affordance-dataset/tools/turner_02/turn...</td>\n",
       "      <td>./part-affordance-dataset/tools/turner_02/turn...</td>\n",
       "    </tr>\n",
       "    <tr>\n",
       "      <th>28588</th>\n",
       "      <td>./part-affordance-dataset/tools/scissors_04/sc...</td>\n",
       "      <td>./part-affordance-dataset/tools/scissors_04/sc...</td>\n",
       "    </tr>\n",
       "    <tr>\n",
       "      <th>321</th>\n",
       "      <td>./part-affordance-dataset/tools/knife_12/knife...</td>\n",
       "      <td>./part-affordance-dataset/tools/knife_12/knife...</td>\n",
       "    </tr>\n",
       "    <tr>\n",
       "      <th>25970</th>\n",
       "      <td>./part-affordance-dataset/tools/mallet_02/mall...</td>\n",
       "      <td>./part-affordance-dataset/tools/mallet_02/mall...</td>\n",
       "    </tr>\n",
       "    <tr>\n",
       "      <th>...</th>\n",
       "      <td>...</td>\n",
       "      <td>...</td>\n",
       "    </tr>\n",
       "    <tr>\n",
       "      <th>17137</th>\n",
       "      <td>./part-affordance-dataset/tools/bowl_05/bowl_0...</td>\n",
       "      <td>./part-affordance-dataset/tools/bowl_05/bowl_0...</td>\n",
       "    </tr>\n",
       "    <tr>\n",
       "      <th>19433</th>\n",
       "      <td>./part-affordance-dataset/tools/cup_06/cup_06_...</td>\n",
       "      <td>./part-affordance-dataset/tools/cup_06/cup_06_...</td>\n",
       "    </tr>\n",
       "    <tr>\n",
       "      <th>24535</th>\n",
       "      <td>./part-affordance-dataset/tools/hammer_04/hamm...</td>\n",
       "      <td>./part-affordance-dataset/tools/hammer_04/hamm...</td>\n",
       "    </tr>\n",
       "    <tr>\n",
       "      <th>27204</th>\n",
       "      <td>./part-affordance-dataset/tools/scissors_02/sc...</td>\n",
       "      <td>./part-affordance-dataset/tools/scissors_02/sc...</td>\n",
       "    </tr>\n",
       "    <tr>\n",
       "      <th>16946</th>\n",
       "      <td>./part-affordance-dataset/tools/mug_05/mug_05_...</td>\n",
       "      <td>./part-affordance-dataset/tools/mug_05/mug_05_...</td>\n",
       "    </tr>\n",
       "    <tr>\n",
       "      <th>22926</th>\n",
       "      <td>./part-affordance-dataset/tools/mug_03/mug_03_...</td>\n",
       "      <td>./part-affordance-dataset/tools/mug_03/mug_03_...</td>\n",
       "    </tr>\n",
       "    <tr>\n",
       "      <th>24477</th>\n",
       "      <td>./part-affordance-dataset/tools/hammer_04/hamm...</td>\n",
       "      <td>./part-affordance-dataset/tools/hammer_04/hamm...</td>\n",
       "    </tr>\n",
       "    <tr>\n",
       "      <th>4764</th>\n",
       "      <td>./part-affordance-dataset/tools/mug_19/mug_19_...</td>\n",
       "      <td>./part-affordance-dataset/tools/mug_19/mug_19_...</td>\n",
       "    </tr>\n",
       "    <tr>\n",
       "      <th>19946</th>\n",
       "      <td>./part-affordance-dataset/tools/mug_11/mug_11_...</td>\n",
       "      <td>./part-affordance-dataset/tools/mug_11/mug_11_...</td>\n",
       "    </tr>\n",
       "    <tr>\n",
       "      <th>8444</th>\n",
       "      <td>./part-affordance-dataset/tools/knife_04/knife...</td>\n",
       "      <td>./part-affordance-dataset/tools/knife_04/knife...</td>\n",
       "    </tr>\n",
       "    <tr>\n",
       "      <th>18900</th>\n",
       "      <td>./part-affordance-dataset/tools/knife_10/knife...</td>\n",
       "      <td>./part-affordance-dataset/tools/knife_10/knife...</td>\n",
       "    </tr>\n",
       "    <tr>\n",
       "      <th>2962</th>\n",
       "      <td>./part-affordance-dataset/tools/spoon_02/spoon...</td>\n",
       "      <td>./part-affordance-dataset/tools/spoon_02/spoon...</td>\n",
       "    </tr>\n",
       "    <tr>\n",
       "      <th>12645</th>\n",
       "      <td>./part-affordance-dataset/tools/ladle_03/ladle...</td>\n",
       "      <td>./part-affordance-dataset/tools/ladle_03/ladle...</td>\n",
       "    </tr>\n",
       "    <tr>\n",
       "      <th>21758</th>\n",
       "      <td>./part-affordance-dataset/tools/saw_02/saw_02_...</td>\n",
       "      <td>./part-affordance-dataset/tools/saw_02/saw_02_...</td>\n",
       "    </tr>\n",
       "    <tr>\n",
       "      <th>21780</th>\n",
       "      <td>./part-affordance-dataset/tools/saw_02/saw_02_...</td>\n",
       "      <td>./part-affordance-dataset/tools/saw_02/saw_02_...</td>\n",
       "    </tr>\n",
       "    <tr>\n",
       "      <th>25778</th>\n",
       "      <td>./part-affordance-dataset/tools/trowel_05/trow...</td>\n",
       "      <td>./part-affordance-dataset/tools/trowel_05/trow...</td>\n",
       "    </tr>\n",
       "    <tr>\n",
       "      <th>3462</th>\n",
       "      <td>./part-affordance-dataset/tools/cup_04/cup_04_...</td>\n",
       "      <td>./part-affordance-dataset/tools/cup_04/cup_04_...</td>\n",
       "    </tr>\n",
       "    <tr>\n",
       "      <th>10989</th>\n",
       "      <td>./part-affordance-dataset/tools/mallet_03/mall...</td>\n",
       "      <td>./part-affordance-dataset/tools/mallet_03/mall...</td>\n",
       "    </tr>\n",
       "    <tr>\n",
       "      <th>7751</th>\n",
       "      <td>./part-affordance-dataset/tools/hammer_02/hamm...</td>\n",
       "      <td>./part-affordance-dataset/tools/hammer_02/hamm...</td>\n",
       "    </tr>\n",
       "    <tr>\n",
       "      <th>16332</th>\n",
       "      <td>./part-affordance-dataset/tools/spoon_09/spoon...</td>\n",
       "      <td>./part-affordance-dataset/tools/spoon_09/spoon...</td>\n",
       "    </tr>\n",
       "    <tr>\n",
       "      <th>20609</th>\n",
       "      <td>./part-affordance-dataset/tools/turner_06/turn...</td>\n",
       "      <td>./part-affordance-dataset/tools/turner_06/turn...</td>\n",
       "    </tr>\n",
       "    <tr>\n",
       "      <th>144</th>\n",
       "      <td>./part-affordance-dataset/tools/mug_15/mug_15_...</td>\n",
       "      <td>./part-affordance-dataset/tools/mug_15/mug_15_...</td>\n",
       "    </tr>\n",
       "    <tr>\n",
       "      <th>21440</th>\n",
       "      <td>./part-affordance-dataset/tools/knife_06/knife...</td>\n",
       "      <td>./part-affordance-dataset/tools/knife_06/knife...</td>\n",
       "    </tr>\n",
       "    <tr>\n",
       "      <th>19279</th>\n",
       "      <td>./part-affordance-dataset/tools/cup_06/cup_06_...</td>\n",
       "      <td>./part-affordance-dataset/tools/cup_06/cup_06_...</td>\n",
       "    </tr>\n",
       "    <tr>\n",
       "      <th>7813</th>\n",
       "      <td>./part-affordance-dataset/tools/turner_03/turn...</td>\n",
       "      <td>./part-affordance-dataset/tools/turner_03/turn...</td>\n",
       "    </tr>\n",
       "    <tr>\n",
       "      <th>10955</th>\n",
       "      <td>./part-affordance-dataset/tools/mallet_03/mall...</td>\n",
       "      <td>./part-affordance-dataset/tools/mallet_03/mall...</td>\n",
       "    </tr>\n",
       "    <tr>\n",
       "      <th>17289</th>\n",
       "      <td>./part-affordance-dataset/tools/pot_02/pot_02_...</td>\n",
       "      <td>./part-affordance-dataset/tools/pot_02/pot_02_...</td>\n",
       "    </tr>\n",
       "    <tr>\n",
       "      <th>5192</th>\n",
       "      <td>./part-affordance-dataset/tools/knife_11/knife...</td>\n",
       "      <td>./part-affordance-dataset/tools/knife_11/knife...</td>\n",
       "    </tr>\n",
       "    <tr>\n",
       "      <th>12172</th>\n",
       "      <td>./part-affordance-dataset/tools/scissors_03/sc...</td>\n",
       "      <td>./part-affordance-dataset/tools/scissors_03/sc...</td>\n",
       "    </tr>\n",
       "    <tr>\n",
       "      <th>235</th>\n",
       "      <td>./part-affordance-dataset/tools/mug_15/mug_15_...</td>\n",
       "      <td>./part-affordance-dataset/tools/mug_15/mug_15_...</td>\n",
       "    </tr>\n",
       "  </tbody>\n",
       "</table>\n",
       "<p>28843 rows × 2 columns</p>\n",
       "</div>"
      ],
      "text/plain": [
       "                                              image_path  \\\n",
       "6650   ./part-affordance-dataset/tools/bowl_04/bowl_0...   \n",
       "16785  ./part-affordance-dataset/tools/scissors_06/sc...   \n",
       "21334  ./part-affordance-dataset/tools/knife_06/knife...   \n",
       "10676  ./part-affordance-dataset/tools/turner_08/turn...   \n",
       "3308   ./part-affordance-dataset/tools/saw_03/saw_03_...   \n",
       "1304   ./part-affordance-dataset/tools/trowel_02/trow...   \n",
       "23177  ./part-affordance-dataset/tools/turner_02/turn...   \n",
       "28795  ./part-affordance-dataset/tools/scissors_04/sc...   \n",
       "4522   ./part-affordance-dataset/tools/spoon_08/spoon...   \n",
       "5254   ./part-affordance-dataset/tools/knife_11/knife...   \n",
       "6610   ./part-affordance-dataset/tools/bowl_04/bowl_0...   \n",
       "10623  ./part-affordance-dataset/tools/turner_08/turn...   \n",
       "5966   ./part-affordance-dataset/tools/cup_05/cup_05_...   \n",
       "6945   ./part-affordance-dataset/tools/ladle_05/ladle...   \n",
       "16399  ./part-affordance-dataset/tools/spoon_09/spoon...   \n",
       "36     ./part-affordance-dataset/tools/mug_15/mug_15_...   \n",
       "5921   ./part-affordance-dataset/tools/cup_05/cup_05_...   \n",
       "14098  ./part-affordance-dataset/tools/ladle_01/ladle...   \n",
       "10737  ./part-affordance-dataset/tools/turner_08/turn...   \n",
       "4939   ./part-affordance-dataset/tools/pot_01/pot_01_...   \n",
       "2241   ./part-affordance-dataset/tools/tenderizer_02/...   \n",
       "27547  ./part-affordance-dataset/tools/mug_18/mug_18_...   \n",
       "16391  ./part-affordance-dataset/tools/spoon_09/spoon...   \n",
       "1476   ./part-affordance-dataset/tools/trowel_02/trow...   \n",
       "20157  ./part-affordance-dataset/tools/knife_09/knife...   \n",
       "1968   ./part-affordance-dataset/tools/bowl_08/bowl_0...   \n",
       "23159  ./part-affordance-dataset/tools/turner_02/turn...   \n",
       "28588  ./part-affordance-dataset/tools/scissors_04/sc...   \n",
       "321    ./part-affordance-dataset/tools/knife_12/knife...   \n",
       "25970  ./part-affordance-dataset/tools/mallet_02/mall...   \n",
       "...                                                  ...   \n",
       "17137  ./part-affordance-dataset/tools/bowl_05/bowl_0...   \n",
       "19433  ./part-affordance-dataset/tools/cup_06/cup_06_...   \n",
       "24535  ./part-affordance-dataset/tools/hammer_04/hamm...   \n",
       "27204  ./part-affordance-dataset/tools/scissors_02/sc...   \n",
       "16946  ./part-affordance-dataset/tools/mug_05/mug_05_...   \n",
       "22926  ./part-affordance-dataset/tools/mug_03/mug_03_...   \n",
       "24477  ./part-affordance-dataset/tools/hammer_04/hamm...   \n",
       "4764   ./part-affordance-dataset/tools/mug_19/mug_19_...   \n",
       "19946  ./part-affordance-dataset/tools/mug_11/mug_11_...   \n",
       "8444   ./part-affordance-dataset/tools/knife_04/knife...   \n",
       "18900  ./part-affordance-dataset/tools/knife_10/knife...   \n",
       "2962   ./part-affordance-dataset/tools/spoon_02/spoon...   \n",
       "12645  ./part-affordance-dataset/tools/ladle_03/ladle...   \n",
       "21758  ./part-affordance-dataset/tools/saw_02/saw_02_...   \n",
       "21780  ./part-affordance-dataset/tools/saw_02/saw_02_...   \n",
       "25778  ./part-affordance-dataset/tools/trowel_05/trow...   \n",
       "3462   ./part-affordance-dataset/tools/cup_04/cup_04_...   \n",
       "10989  ./part-affordance-dataset/tools/mallet_03/mall...   \n",
       "7751   ./part-affordance-dataset/tools/hammer_02/hamm...   \n",
       "16332  ./part-affordance-dataset/tools/spoon_09/spoon...   \n",
       "20609  ./part-affordance-dataset/tools/turner_06/turn...   \n",
       "144    ./part-affordance-dataset/tools/mug_15/mug_15_...   \n",
       "21440  ./part-affordance-dataset/tools/knife_06/knife...   \n",
       "19279  ./part-affordance-dataset/tools/cup_06/cup_06_...   \n",
       "7813   ./part-affordance-dataset/tools/turner_03/turn...   \n",
       "10955  ./part-affordance-dataset/tools/mallet_03/mall...   \n",
       "17289  ./part-affordance-dataset/tools/pot_02/pot_02_...   \n",
       "5192   ./part-affordance-dataset/tools/knife_11/knife...   \n",
       "12172  ./part-affordance-dataset/tools/scissors_03/sc...   \n",
       "235    ./part-affordance-dataset/tools/mug_15/mug_15_...   \n",
       "\n",
       "                                              class_path  \n",
       "6650   ./part-affordance-dataset/tools/bowl_04/bowl_0...  \n",
       "16785  ./part-affordance-dataset/tools/scissors_06/sc...  \n",
       "21334  ./part-affordance-dataset/tools/knife_06/knife...  \n",
       "10676  ./part-affordance-dataset/tools/turner_08/turn...  \n",
       "3308   ./part-affordance-dataset/tools/saw_03/saw_03_...  \n",
       "1304   ./part-affordance-dataset/tools/trowel_02/trow...  \n",
       "23177  ./part-affordance-dataset/tools/turner_02/turn...  \n",
       "28795  ./part-affordance-dataset/tools/scissors_04/sc...  \n",
       "4522   ./part-affordance-dataset/tools/spoon_08/spoon...  \n",
       "5254   ./part-affordance-dataset/tools/knife_11/knife...  \n",
       "6610   ./part-affordance-dataset/tools/bowl_04/bowl_0...  \n",
       "10623  ./part-affordance-dataset/tools/turner_08/turn...  \n",
       "5966   ./part-affordance-dataset/tools/cup_05/cup_05_...  \n",
       "6945   ./part-affordance-dataset/tools/ladle_05/ladle...  \n",
       "16399  ./part-affordance-dataset/tools/spoon_09/spoon...  \n",
       "36     ./part-affordance-dataset/tools/mug_15/mug_15_...  \n",
       "5921   ./part-affordance-dataset/tools/cup_05/cup_05_...  \n",
       "14098  ./part-affordance-dataset/tools/ladle_01/ladle...  \n",
       "10737  ./part-affordance-dataset/tools/turner_08/turn...  \n",
       "4939   ./part-affordance-dataset/tools/pot_01/pot_01_...  \n",
       "2241   ./part-affordance-dataset/tools/tenderizer_02/...  \n",
       "27547  ./part-affordance-dataset/tools/mug_18/mug_18_...  \n",
       "16391  ./part-affordance-dataset/tools/spoon_09/spoon...  \n",
       "1476   ./part-affordance-dataset/tools/trowel_02/trow...  \n",
       "20157  ./part-affordance-dataset/tools/knife_09/knife...  \n",
       "1968   ./part-affordance-dataset/tools/bowl_08/bowl_0...  \n",
       "23159  ./part-affordance-dataset/tools/turner_02/turn...  \n",
       "28588  ./part-affordance-dataset/tools/scissors_04/sc...  \n",
       "321    ./part-affordance-dataset/tools/knife_12/knife...  \n",
       "25970  ./part-affordance-dataset/tools/mallet_02/mall...  \n",
       "...                                                  ...  \n",
       "17137  ./part-affordance-dataset/tools/bowl_05/bowl_0...  \n",
       "19433  ./part-affordance-dataset/tools/cup_06/cup_06_...  \n",
       "24535  ./part-affordance-dataset/tools/hammer_04/hamm...  \n",
       "27204  ./part-affordance-dataset/tools/scissors_02/sc...  \n",
       "16946  ./part-affordance-dataset/tools/mug_05/mug_05_...  \n",
       "22926  ./part-affordance-dataset/tools/mug_03/mug_03_...  \n",
       "24477  ./part-affordance-dataset/tools/hammer_04/hamm...  \n",
       "4764   ./part-affordance-dataset/tools/mug_19/mug_19_...  \n",
       "19946  ./part-affordance-dataset/tools/mug_11/mug_11_...  \n",
       "8444   ./part-affordance-dataset/tools/knife_04/knife...  \n",
       "18900  ./part-affordance-dataset/tools/knife_10/knife...  \n",
       "2962   ./part-affordance-dataset/tools/spoon_02/spoon...  \n",
       "12645  ./part-affordance-dataset/tools/ladle_03/ladle...  \n",
       "21758  ./part-affordance-dataset/tools/saw_02/saw_02_...  \n",
       "21780  ./part-affordance-dataset/tools/saw_02/saw_02_...  \n",
       "25778  ./part-affordance-dataset/tools/trowel_05/trow...  \n",
       "3462   ./part-affordance-dataset/tools/cup_04/cup_04_...  \n",
       "10989  ./part-affordance-dataset/tools/mallet_03/mall...  \n",
       "7751   ./part-affordance-dataset/tools/hammer_02/hamm...  \n",
       "16332  ./part-affordance-dataset/tools/spoon_09/spoon...  \n",
       "20609  ./part-affordance-dataset/tools/turner_06/turn...  \n",
       "144    ./part-affordance-dataset/tools/mug_15/mug_15_...  \n",
       "21440  ./part-affordance-dataset/tools/knife_06/knife...  \n",
       "19279  ./part-affordance-dataset/tools/cup_06/cup_06_...  \n",
       "7813   ./part-affordance-dataset/tools/turner_03/turn...  \n",
       "10955  ./part-affordance-dataset/tools/mallet_03/mall...  \n",
       "17289  ./part-affordance-dataset/tools/pot_02/pot_02_...  \n",
       "5192   ./part-affordance-dataset/tools/knife_11/knife...  \n",
       "12172  ./part-affordance-dataset/tools/scissors_03/sc...  \n",
       "235    ./part-affordance-dataset/tools/mug_15/mug_15_...  \n",
       "\n",
       "[28843 rows x 2 columns]"
      ]
     },
     "execution_count": 9,
     "metadata": {},
     "output_type": "execute_result"
    }
   ],
   "source": [
    "df_s"
   ]
  },
  {
   "cell_type": "code",
   "execution_count": 20,
   "metadata": {
    "scrolled": true
   },
   "outputs": [
    {
     "data": {
      "text/plain": [
       "28843"
      ]
     },
     "execution_count": 20,
     "metadata": {},
     "output_type": "execute_result"
    }
   ],
   "source": [
    "len(image_path_list)"
   ]
  },
  {
   "cell_type": "code",
   "execution_count": 21,
   "metadata": {},
   "outputs": [
    {
     "data": {
      "text/plain": [
       "23074.4"
      ]
     },
     "execution_count": 21,
     "metadata": {},
     "output_type": "execute_result"
    }
   ],
   "source": [
    "28843*0.8"
   ]
  },
  {
   "cell_type": "code",
   "execution_count": 10,
   "metadata": {},
   "outputs": [],
   "source": [
    "df_train = df_s[:23100]"
   ]
  },
  {
   "cell_type": "code",
   "execution_count": 11,
   "metadata": {},
   "outputs": [],
   "source": [
    "df_train.to_csv('train.csv', index=None)"
   ]
  },
  {
   "cell_type": "code",
   "execution_count": 12,
   "metadata": {},
   "outputs": [],
   "source": [
    "df_test = df_s[23100:]"
   ]
  },
  {
   "cell_type": "code",
   "execution_count": 13,
   "metadata": {},
   "outputs": [],
   "source": [
    "df_test.to_csv('test.csv', index=None)"
   ]
  },
  {
   "cell_type": "markdown",
   "metadata": {},
   "source": [
    "### the number of the pixels before center crop"
   ]
  },
  {
   "cell_type": "code",
   "execution_count": 172,
   "metadata": {},
   "outputs": [],
   "source": [
    "cnt_dict = {0:0, 1:0, 2:0, 3:0, 4:0, 5:0, 6:0, 7:0}\n",
    "\n",
    "for path in class_path_list:\n",
    "    mat = scipy.io.loadmat(path)\n",
    "    num, cnt = np.unique(mat['gt_label'], return_counts=True)\n",
    "    \n",
    "    for n, c in zip(num, cnt):\n",
    "        cnt_dict[n] += c"
   ]
  },
  {
   "cell_type": "markdown",
   "metadata": {},
   "source": [
    "cnt_dict"
   ]
  },
  {
   "cell_type": "markdown",
   "metadata": {},
   "source": [
    "0: 8723340880,<br>\n",
    " 1: 34159284,<br>\n",
    " 2: 16009552,<br>\n",
    " 3: 12433420,<br>\n",
    " 4: 38476964,<br>\n",
    " 5: 6773540,<br>\n",
    " 6: 9273880,<br>\n",
    " 7: 20102080<br>"
   ]
  },
  {
   "cell_type": "markdown",
   "metadata": {},
   "source": [
    "# Define Dataset Class"
   ]
  },
  {
   "cell_type": "code",
   "execution_count": 5,
   "metadata": {},
   "outputs": [],
   "source": [
    "from torch.utils.data import Dataset, DataLoader\n",
    "from torchvision import transforms\n",
    "\n",
    "import pandas as pd\n",
    "import numpy as np\n",
    "import scipy.io\n",
    "import skimage.io\n",
    "from PIL import Image, ImageFilter\n",
    "from sklearn.model_selection import train_test_split"
   ]
  },
  {
   "cell_type": "code",
   "execution_count": 11,
   "metadata": {},
   "outputs": [],
   "source": [
    "class PartAffordanceDataset(Dataset):\n",
    "    \"\"\"Part Affordance Dataset\"\"\"\n",
    "    \n",
    "    def __init__(self, csv_file, transform=None):\n",
    "        super().__init__()\n",
    "        \n",
    "        self.image_class_path = pd.read_csv(csv_file)\n",
    "        self.transform = transform\n",
    "        \n",
    "    def __len__(self):\n",
    "        return len(self.image_class_path)\n",
    "    \n",
    "    def __getitem__(self, idx):\n",
    "        image_path = self.image_class_path.iloc[idx, 0]\n",
    "        class_path = self.image_class_path.iloc[idx, 1]\n",
    "        image = skimage.io.imread(image_path) # read as numpy array\n",
    "        cls = scipy.io.loadmat(class_path)[\"gt_label\"]\n",
    "        \n",
    "        sample = {'image': image, 'class': cls}\n",
    "        \n",
    "        if self.transform:\n",
    "            sample = self.transform(sample)\n",
    "            \n",
    "        return sample"
   ]
  },
  {
   "cell_type": "code",
   "execution_count": 12,
   "metadata": {},
   "outputs": [],
   "source": [
    "def crop_center_numpy(array, crop_height, crop_weight):\n",
    "    h, w = array.shape\n",
    "    return array[h//2 - crop_height//2: h//2 + crop_height//2,\n",
    "                 w//2 - crop_weight//2: w//2 + crop_weight//2\n",
    "                ]"
   ]
  },
  {
   "cell_type": "code",
   "execution_count": 13,
   "metadata": {},
   "outputs": [],
   "source": [
    "def crop_center_pil_image(pil_img, crop_width, crop_height):\n",
    "    img_width, img_height = pil_img.size\n",
    "    return pil_img.crop(((img_width - crop_width) // 2,\n",
    "                         (img_height - crop_height) // 2,\n",
    "                         (img_width + crop_width) // 2,\n",
    "                         (img_height + crop_height) // 2))"
   ]
  },
  {
   "cell_type": "code",
   "execution_count": 14,
   "metadata": {},
   "outputs": [],
   "source": [
    "class CenterCrop(object):\n",
    "    def __call__(self, sample):\n",
    "        image, cls = sample['image'], sample['class']\n",
    "        \n",
    "        image = Image.fromarray(np.uint8(image))\n",
    "        \n",
    "        image = crop_center_pil_image(image, 320, 240)\n",
    "        cls = crop_center_numpy(cls, 240, 320)\n",
    "        \n",
    "        image = np.asarray(image)\n",
    "        \n",
    "        return {'image': image, 'class': cls}"
   ]
  },
  {
   "cell_type": "code",
   "execution_count": 15,
   "metadata": {},
   "outputs": [],
   "source": [
    "class ToTensor(object):\n",
    "    def __call__(self, sample):\n",
    "        image, cls = sample['image'], sample['class']\n",
    "        \n",
    "        image = image.transpose((2, 0, 1))\n",
    "        return {'image': torch.from_numpy(image).float(), \n",
    "                'class': torch.from_numpy(cls).long()}"
   ]
  },
  {
   "cell_type": "code",
   "execution_count": 16,
   "metadata": {},
   "outputs": [],
   "source": [
    "# data = PartAffordanceDataset('image_class_path.csv',\n",
    "#                                 transform=transforms.Compose([\n",
    "#                                     CenterCrop(),\n",
    "#                                     ToTensor()\n",
    "#                                 ]))\n",
    "\n",
    "# data_loader = DataLoader(data, batch_size=10, shuffle=False)"
   ]
  },
  {
   "cell_type": "code",
   "execution_count": 17,
   "metadata": {},
   "outputs": [],
   "source": [
    "# mean = 0\n",
    "# std = 0\n",
    "# n = 0\n",
    "\n",
    "# for sample in data_loader:\n",
    "#     img = sample['image']   \n",
    "#     img = img.view(len(img), 3, -1)\n",
    "#     mean += img.mean(2).sum(0)\n",
    "#     std += img.std(2).sum(0)\n",
    "#     n += len(img)\n",
    "    \n",
    "# mean /= n\n",
    "# std /= n"
   ]
  },
  {
   "cell_type": "code",
   "execution_count": 18,
   "metadata": {},
   "outputs": [],
   "source": [
    "mean=[55.8630, 59.9099, 91.7419]\n",
    "std=[31.6852, 29.8496, 19.0835]"
   ]
  },
  {
   "cell_type": "code",
   "execution_count": 19,
   "metadata": {},
   "outputs": [],
   "source": [
    "class Normalize(object):\n",
    "    def __call__(self, sample):\n",
    "        image, cls = sample['image'], sample['class']\n",
    "        \n",
    "        image = transforms.functional.normalize(image, mean, std)\n",
    "        \n",
    "        return {'image': image, 'class': cls}"
   ]
  },
  {
   "cell_type": "code",
   "execution_count": 15,
   "metadata": {},
   "outputs": [],
   "source": [
    "train_data = PartAffordanceDataset('train.csv',\n",
    "                                transform=transforms.Compose([\n",
    "                                    CenterCrop(),\n",
    "                                    ToTensor(),\n",
    "                                    Normalize()\n",
    "                                ]))"
   ]
  },
  {
   "cell_type": "code",
   "execution_count": 16,
   "metadata": {},
   "outputs": [],
   "source": [
    "test_data = PartAffordanceDataset('test.csv',\n",
    "                                transform=transforms.Compose([\n",
    "                                    CenterCrop(),\n",
    "                                    ToTensor(),\n",
    "                                    Normalize()\n",
    "                                ]))"
   ]
  },
  {
   "cell_type": "code",
   "execution_count": 17,
   "metadata": {},
   "outputs": [],
   "source": [
    "train_loader = DataLoader(train_data, batch_size=10, shuffle=True)\n",
    "test_loader = DataLoader(test_data, batch_size=10, shuffle=False)"
   ]
  },
  {
   "cell_type": "markdown",
   "metadata": {},
   "source": [
    "### count the number of pixels in each class after center crop"
   ]
  },
  {
   "cell_type": "code",
   "execution_count": 25,
   "metadata": {},
   "outputs": [],
   "source": [
    "dataset = PartAffordanceDataset('image_class_path.csv',\n",
    "                                transform=transforms.Compose([\n",
    "                                    CenterCrop(),\n",
    "                                    ToTensor()\n",
    "                                ]))\n",
    "data_laoder = DataLoader(dataset, batch_size=100, shuffle=False)"
   ]
  },
  {
   "cell_type": "code",
   "execution_count": 175,
   "metadata": {},
   "outputs": [],
   "source": [
    "cnt_dict = {0:0, 1:0, 2:0, 3:0, 4:0, 5:0, 6:0, 7:0}\n",
    "\n",
    "for sample in data_laoder:\n",
    "    img = sample['class'].numpy()\n",
    "    \n",
    "    num, cnt = np.unique(img, return_counts=True)\n",
    "    \n",
    "    for n, c in zip(num, cnt):\n",
    "        cnt_dict[n] += c"
   ]
  },
  {
   "cell_type": "markdown",
   "metadata": {},
   "source": [
    "cnt_dict"
   ]
  },
  {
   "cell_type": "markdown",
   "metadata": {},
   "source": [
    "0: 2078085712,  \n",
    " 1: 34078992,  \n",
    " 2: 15921090,  \n",
    " 3: 12433420,  \n",
    " 4: 38473752,  \n",
    " 5: 6773528,  \n",
    " 6: 9273826,  \n",
    " 7: 20102080  "
   ]
  },
  {
   "cell_type": "markdown",
   "metadata": {},
   "source": [
    "# Training"
   ]
  },
  {
   "cell_type": "code",
   "execution_count": 18,
   "metadata": {},
   "outputs": [],
   "source": [
    "from tensorboardX import SummaryWriter\n",
    "import tqdm"
   ]
  },
  {
   "cell_type": "code",
   "execution_count": 19,
   "metadata": {},
   "outputs": [],
   "source": [
    "def eval_model(model, test_loader, device='cpu'):\n",
    "    model.eval()\n",
    "    \n",
    "    intersection = torch.zeros(8)   # the dataset has 8 classes including background\n",
    "    union = torch.zeros(8)\n",
    "    \n",
    "    for sample in test_loader:\n",
    "        x, y = sample['image'], sample['class']\n",
    "        \n",
    "        x = x.to(device)\n",
    "        y = y.to(device)\n",
    "        \n",
    "        with torch.no_grad():\n",
    "            _, ypred = model(x).max(1)    # y_pred.shape => (N, 240, 320)\n",
    "        \n",
    "        for i in range(8):\n",
    "            y_i = (y == i)           \n",
    "            ypred_i = (ypred == i)   \n",
    "            \n",
    "            inter = (y_i.byte() & ypred_i.byte()).float().sum().to('cpu')\n",
    "            intersection[i] += inter\n",
    "            union[i] += (y_i.float().sum() + ypred_i.float().sum()).to('cpu') - inter\n",
    "    \n",
    "    \"\"\" iou[i] is the IoU of class i \"\"\"\n",
    "    iou = intersection / union\n",
    "    \n",
    "    return iou"
   ]
  },
  {
   "cell_type": "code",
   "execution_count": 20,
   "metadata": {},
   "outputs": [],
   "source": [
    "def train_model(model, train_loader, test_loader, optimizer_cls=optim.Adam, \n",
    "                criterion=nn.CrossEntropyLoss(), max_epoch=200, device='cpu', writer=None):\n",
    "    \n",
    "    model.to(device)\n",
    "    \n",
    "    train_losses = []\n",
    "    val_iou = []\n",
    "    mean_iou = []\n",
    "    best_iou = 0.0\n",
    "    \n",
    "    optimizer = optimizer_cls(model.parameters(), lr=0.01)\n",
    "    \n",
    "    for epoch in range(max_epoch):\n",
    "        model.train()\n",
    "        running_loss = 0.0\n",
    "        \n",
    "        for i, sample in tqdm.tqdm(enumerate(train_loader), total=len(train_loader)):\n",
    "            optimizer.zero_grad()\n",
    "            \n",
    "            x, y = sample['image'], sample['class']\n",
    "            \n",
    "            x = x.to(device)\n",
    "            y = y.to(device)\n",
    "\n",
    "            h = model(x)\n",
    "            loss = criterion(h, y)\n",
    "            loss.backward()\n",
    "            optimizer.step()\n",
    "            \n",
    "            running_loss += loss.item()\n",
    "\n",
    "        train_losses.append(running_loss / i)\n",
    "        \n",
    "        val_iou.append(eval_model(model, test_loader, device))\n",
    "        mean_iou.append(val_iou[-1].mean().item())\n",
    "        \n",
    "        if best_iou < mean_iou[-1]:\n",
    "            best_iou = mean_iou[-1]\n",
    "            torch.save(model.state_dict(), \"./SegNet_without_class_weights_results/best_iou_model.prm\")\n",
    "        \n",
    "        if writer is not None:\n",
    "            writer.add_scalar(\"train_loss\", train_losses[-1], epoch)\n",
    "            writer.add_scalar(\"mean_IoU\", mean_iou[-1], epoch)\n",
    "            writer.add_scalars(\"class_IoU\", {'iou of class 0': val_iou[-1][0],\n",
    "                                           'iou of class 1': val_iou[-1][1],\n",
    "                                           'iou of class 2': val_iou[-1][2],\n",
    "                                           'iou of class 3': val_iou[-1][3],\n",
    "                                           'iou of class 4': val_iou[-1][4],\n",
    "                                           'iou of class 5': val_iou[-1][5],\n",
    "                                           'iou of class 6': val_iou[-1][6],\n",
    "                                           'iou of class 7': val_iou[-1][7]}, epoch)\n",
    "            \n",
    "        print(epoch, train_losses[-1], mean_iou[-1])\n",
    "        \n",
    "    torch.save(model.state_dict(), \"./SegNet_without_class_weights_results/final_model.prm\")"
   ]
  },
  {
   "cell_type": "code",
   "execution_count": 21,
   "metadata": {},
   "outputs": [],
   "source": [
    "# num0 = 2078085712\n",
    "# ratio = [1, num0 / 34078992, num0 / 15921090, num0/12433420, \n",
    "#          num0 / 38473752, num0 / 6773528, num0 / 9273826, num0 / 20102080]\n",
    "# class_weight = torch.tensor(ratio, dtype=torch.float32) / 100"
   ]
  },
  {
   "cell_type": "code",
   "execution_count": 22,
   "metadata": {
    "scrolled": true
   },
   "outputs": [
    {
     "name": "stderr",
     "output_type": "stream",
     "text": [
      "100%|██████████| 2360/2360 [07:48<00:00,  5.04it/s]\n",
      "  0%|          | 0/2360 [00:00<?, ?it/s]"
     ]
    },
    {
     "name": "stdout",
     "output_type": "stream",
     "text": [
      "0 0.25749609359761527 0.34269246459007263\n"
     ]
    },
    {
     "name": "stderr",
     "output_type": "stream",
     "text": [
      "100%|██████████| 2360/2360 [07:48<00:00,  5.03it/s]\n",
      "  0%|          | 0/2360 [00:00<?, ?it/s]"
     ]
    },
    {
     "name": "stdout",
     "output_type": "stream",
     "text": [
      "1 0.07439514800460852 0.602653443813324\n"
     ]
    },
    {
     "name": "stderr",
     "output_type": "stream",
     "text": [
      "100%|██████████| 2360/2360 [07:55<00:00,  4.96it/s]\n",
      "  0%|          | 1/2360 [00:00<06:05,  6.45it/s]"
     ]
    },
    {
     "name": "stdout",
     "output_type": "stream",
     "text": [
      "2 0.03932775350642083 0.741662323474884\n"
     ]
    },
    {
     "name": "stderr",
     "output_type": "stream",
     "text": [
      "100%|██████████| 2360/2360 [07:31<00:00,  5.23it/s]\n",
      "  0%|          | 1/2360 [00:00<07:43,  5.09it/s]"
     ]
    },
    {
     "name": "stdout",
     "output_type": "stream",
     "text": [
      "3 0.032143937092197046 0.7682681679725647\n"
     ]
    },
    {
     "name": "stderr",
     "output_type": "stream",
     "text": [
      "100%|██████████| 2360/2360 [07:54<00:00,  4.97it/s]\n",
      "  0%|          | 1/2360 [00:00<06:10,  6.36it/s]"
     ]
    },
    {
     "name": "stdout",
     "output_type": "stream",
     "text": [
      "4 0.02816715541099494 0.7248371839523315\n"
     ]
    },
    {
     "name": "stderr",
     "output_type": "stream",
     "text": [
      "100%|██████████| 2360/2360 [07:27<00:00,  5.28it/s]\n",
      "  0%|          | 0/2360 [00:00<?, ?it/s]"
     ]
    },
    {
     "name": "stdout",
     "output_type": "stream",
     "text": [
      "5 0.027425403638034997 0.8078756332397461\n"
     ]
    },
    {
     "name": "stderr",
     "output_type": "stream",
     "text": [
      "100%|██████████| 2360/2360 [07:52<00:00,  5.00it/s]\n",
      "  0%|          | 0/2360 [00:00<?, ?it/s]"
     ]
    },
    {
     "name": "stdout",
     "output_type": "stream",
     "text": [
      "6 0.023980272443504747 0.8095967173576355\n"
     ]
    },
    {
     "name": "stderr",
     "output_type": "stream",
     "text": [
      "100%|██████████| 2360/2360 [07:24<00:00,  5.31it/s]\n",
      "  0%|          | 0/2360 [00:00<?, ?it/s]"
     ]
    },
    {
     "name": "stdout",
     "output_type": "stream",
     "text": [
      "7 0.0224203361275686 0.8410762548446655\n"
     ]
    },
    {
     "name": "stderr",
     "output_type": "stream",
     "text": [
      "100%|██████████| 2360/2360 [07:53<00:00,  4.99it/s]\n",
      "  0%|          | 0/2360 [00:00<?, ?it/s]"
     ]
    },
    {
     "name": "stdout",
     "output_type": "stream",
     "text": [
      "8 0.021891408017589764 0.83408522605896\n"
     ]
    },
    {
     "name": "stderr",
     "output_type": "stream",
     "text": [
      "100%|██████████| 2360/2360 [07:26<00:00,  5.29it/s]\n",
      "  0%|          | 0/2360 [00:00<?, ?it/s]"
     ]
    },
    {
     "name": "stdout",
     "output_type": "stream",
     "text": [
      "9 0.021183367417481756 0.839994490146637\n"
     ]
    },
    {
     "name": "stderr",
     "output_type": "stream",
     "text": [
      "100%|██████████| 2360/2360 [07:54<00:00,  4.97it/s]\n",
      "  0%|          | 0/2360 [00:00<?, ?it/s]"
     ]
    },
    {
     "name": "stdout",
     "output_type": "stream",
     "text": [
      "10 0.020901540436810764 0.8322322368621826\n"
     ]
    },
    {
     "name": "stderr",
     "output_type": "stream",
     "text": [
      "100%|██████████| 2360/2360 [07:28<00:00,  5.26it/s]\n",
      "  0%|          | 0/2360 [00:00<?, ?it/s]"
     ]
    },
    {
     "name": "stdout",
     "output_type": "stream",
     "text": [
      "11 0.020406621709251213 0.8374950289726257\n"
     ]
    },
    {
     "name": "stderr",
     "output_type": "stream",
     "text": [
      "100%|██████████| 2360/2360 [07:53<00:00,  4.98it/s]\n",
      "  0%|          | 0/2360 [00:00<?, ?it/s]"
     ]
    },
    {
     "name": "stdout",
     "output_type": "stream",
     "text": [
      "12 0.02003540012917563 0.83253413438797\n"
     ]
    },
    {
     "name": "stderr",
     "output_type": "stream",
     "text": [
      "100%|██████████| 2360/2360 [07:48<00:00,  5.04it/s]\n",
      "  0%|          | 1/2360 [00:00<07:41,  5.12it/s]"
     ]
    },
    {
     "name": "stdout",
     "output_type": "stream",
     "text": [
      "13 0.01962782215364925 0.8292673826217651\n"
     ]
    },
    {
     "name": "stderr",
     "output_type": "stream",
     "text": [
      "100%|██████████| 2360/2360 [07:45<00:00,  5.07it/s]\n",
      "  0%|          | 1/2360 [00:00<06:07,  6.42it/s]"
     ]
    },
    {
     "name": "stdout",
     "output_type": "stream",
     "text": [
      "14 0.0196143306879427 0.8371412754058838\n"
     ]
    },
    {
     "name": "stderr",
     "output_type": "stream",
     "text": [
      "100%|██████████| 2360/2360 [07:53<00:00,  4.98it/s]\n",
      "  0%|          | 1/2360 [00:00<05:58,  6.58it/s]"
     ]
    },
    {
     "name": "stdout",
     "output_type": "stream",
     "text": [
      "15 0.018905301399500554 0.8413196206092834\n"
     ]
    },
    {
     "name": "stderr",
     "output_type": "stream",
     "text": [
      "100%|██████████| 2360/2360 [07:28<00:00,  5.26it/s]\n",
      "  0%|          | 1/2360 [00:00<06:54,  5.69it/s]"
     ]
    },
    {
     "name": "stdout",
     "output_type": "stream",
     "text": [
      "16 0.018938368602074294 0.8393340706825256\n"
     ]
    },
    {
     "name": "stderr",
     "output_type": "stream",
     "text": [
      "100%|██████████| 2360/2360 [07:54<00:00,  4.97it/s]\n",
      "  0%|          | 1/2360 [00:00<05:46,  6.80it/s]"
     ]
    },
    {
     "name": "stdout",
     "output_type": "stream",
     "text": [
      "17 0.018627684465883875 0.8509811162948608\n"
     ]
    },
    {
     "name": "stderr",
     "output_type": "stream",
     "text": [
      "100%|██████████| 2360/2360 [07:27<00:00,  5.28it/s]\n",
      "  0%|          | 0/2360 [00:00<?, ?it/s]"
     ]
    },
    {
     "name": "stdout",
     "output_type": "stream",
     "text": [
      "18 0.018589611038101358 0.8444779515266418\n"
     ]
    },
    {
     "name": "stderr",
     "output_type": "stream",
     "text": [
      "100%|██████████| 2360/2360 [07:55<00:00,  4.96it/s]\n",
      "  0%|          | 1/2360 [00:00<05:46,  6.81it/s]"
     ]
    },
    {
     "name": "stdout",
     "output_type": "stream",
     "text": [
      "19 0.018128387896077975 0.8627512454986572\n"
     ]
    },
    {
     "name": "stderr",
     "output_type": "stream",
     "text": [
      "100%|██████████| 2360/2360 [07:27<00:00,  5.27it/s]\n",
      "  0%|          | 0/2360 [00:00<?, ?it/s]"
     ]
    },
    {
     "name": "stdout",
     "output_type": "stream",
     "text": [
      "20 0.0181199998427822 0.851839542388916\n"
     ]
    },
    {
     "name": "stderr",
     "output_type": "stream",
     "text": [
      "100%|██████████| 2360/2360 [07:55<00:00,  4.96it/s]\n",
      "  0%|          | 0/2360 [00:00<?, ?it/s]"
     ]
    },
    {
     "name": "stdout",
     "output_type": "stream",
     "text": [
      "21 0.01791338395167832 0.8565146923065186\n"
     ]
    },
    {
     "name": "stderr",
     "output_type": "stream",
     "text": [
      "100%|██████████| 2360/2360 [07:24<00:00,  5.31it/s]\n",
      "  0%|          | 1/2360 [00:00<06:50,  5.75it/s]"
     ]
    },
    {
     "name": "stdout",
     "output_type": "stream",
     "text": [
      "22 0.01795774766399149 0.84378981590271\n"
     ]
    },
    {
     "name": "stderr",
     "output_type": "stream",
     "text": [
      "100%|██████████| 2360/2360 [07:52<00:00,  4.99it/s]\n",
      "  0%|          | 0/2360 [00:00<?, ?it/s]"
     ]
    },
    {
     "name": "stdout",
     "output_type": "stream",
     "text": [
      "23 0.017511765469037766 0.839311957359314\n"
     ]
    },
    {
     "name": "stderr",
     "output_type": "stream",
     "text": [
      "100%|██████████| 2360/2360 [07:37<00:00,  5.16it/s]\n",
      "  0%|          | 0/2360 [00:00<?, ?it/s]"
     ]
    },
    {
     "name": "stdout",
     "output_type": "stream",
     "text": [
      "24 0.017764932583368472 0.8473342657089233\n"
     ]
    },
    {
     "name": "stderr",
     "output_type": "stream",
     "text": [
      "100%|██████████| 2360/2360 [07:53<00:00,  4.99it/s]\n",
      "  0%|          | 0/2360 [00:00<?, ?it/s]"
     ]
    },
    {
     "name": "stdout",
     "output_type": "stream",
     "text": [
      "25 0.01718672868768452 0.8529242873191833\n"
     ]
    },
    {
     "name": "stderr",
     "output_type": "stream",
     "text": [
      "100%|██████████| 2360/2360 [07:54<00:00,  4.97it/s]\n",
      "  0%|          | 0/2360 [00:00<?, ?it/s]"
     ]
    },
    {
     "name": "stdout",
     "output_type": "stream",
     "text": [
      "26 0.017252955336996993 0.8483675718307495\n"
     ]
    },
    {
     "name": "stderr",
     "output_type": "stream",
     "text": [
      "100%|██████████| 2360/2360 [07:36<00:00,  5.17it/s]\n",
      "  0%|          | 0/2360 [00:00<?, ?it/s]"
     ]
    },
    {
     "name": "stdout",
     "output_type": "stream",
     "text": [
      "27 0.017077775566470336 0.8497467637062073\n"
     ]
    },
    {
     "name": "stderr",
     "output_type": "stream",
     "text": [
      "100%|██████████| 2360/2360 [07:53<00:00,  4.98it/s]\n",
      "  0%|          | 0/2360 [00:00<?, ?it/s]"
     ]
    },
    {
     "name": "stdout",
     "output_type": "stream",
     "text": [
      "28 0.016998787072612327 0.8490786552429199\n"
     ]
    },
    {
     "name": "stderr",
     "output_type": "stream",
     "text": [
      "100%|██████████| 2360/2360 [07:27<00:00,  5.28it/s]\n",
      "  0%|          | 0/2360 [00:00<?, ?it/s]"
     ]
    },
    {
     "name": "stdout",
     "output_type": "stream",
     "text": [
      "29 0.016855085489307357 0.8416799902915955\n"
     ]
    },
    {
     "name": "stderr",
     "output_type": "stream",
     "text": [
      "100%|██████████| 2360/2360 [07:51<00:00,  5.01it/s]\n",
      "  0%|          | 1/2360 [00:00<06:13,  6.32it/s]"
     ]
    },
    {
     "name": "stdout",
     "output_type": "stream",
     "text": [
      "30 0.01673808080452562 0.854082465171814\n"
     ]
    },
    {
     "name": "stderr",
     "output_type": "stream",
     "text": [
      "100%|██████████| 2360/2360 [07:22<00:00,  5.34it/s]\n",
      "  0%|          | 0/2360 [00:00<?, ?it/s]"
     ]
    },
    {
     "name": "stdout",
     "output_type": "stream",
     "text": [
      "31 0.016691506926748853 0.8490341305732727\n"
     ]
    },
    {
     "name": "stderr",
     "output_type": "stream",
     "text": [
      "100%|██████████| 2360/2360 [07:54<00:00,  4.97it/s]\n",
      "  0%|          | 1/2360 [00:00<07:38,  5.15it/s]"
     ]
    },
    {
     "name": "stdout",
     "output_type": "stream",
     "text": [
      "32 0.016627072878955734 0.8447034955024719\n"
     ]
    },
    {
     "name": "stderr",
     "output_type": "stream",
     "text": [
      "100%|██████████| 2360/2360 [07:25<00:00,  5.30it/s]\n",
      "  0%|          | 1/2360 [00:00<06:12,  6.34it/s]"
     ]
    },
    {
     "name": "stdout",
     "output_type": "stream",
     "text": [
      "33 0.016538741457504634 0.8381818532943726\n"
     ]
    },
    {
     "name": "stderr",
     "output_type": "stream",
     "text": [
      "100%|██████████| 2360/2360 [07:55<00:00,  4.96it/s]\n",
      "  0%|          | 0/2360 [00:00<?, ?it/s]"
     ]
    },
    {
     "name": "stdout",
     "output_type": "stream",
     "text": [
      "34 0.01640959445350804 0.8442271947860718\n"
     ]
    },
    {
     "name": "stderr",
     "output_type": "stream",
     "text": [
      "100%|██████████| 2360/2360 [07:25<00:00,  5.30it/s]\n",
      "  0%|          | 1/2360 [00:00<06:51,  5.74it/s]"
     ]
    },
    {
     "name": "stdout",
     "output_type": "stream",
     "text": [
      "35 0.016313451858084995 0.8504714965820312\n"
     ]
    },
    {
     "name": "stderr",
     "output_type": "stream",
     "text": [
      "100%|██████████| 2360/2360 [07:55<00:00,  4.96it/s]\n",
      "  0%|          | 1/2360 [00:00<07:32,  5.21it/s]"
     ]
    },
    {
     "name": "stdout",
     "output_type": "stream",
     "text": [
      "36 0.016357069935739647 0.8545243144035339\n"
     ]
    },
    {
     "name": "stderr",
     "output_type": "stream",
     "text": [
      "100%|██████████| 2360/2360 [07:43<00:00,  5.09it/s]\n",
      "  0%|          | 1/2360 [00:00<06:51,  5.73it/s]"
     ]
    },
    {
     "name": "stdout",
     "output_type": "stream",
     "text": [
      "37 0.016081522025235846 0.8569158911705017\n"
     ]
    },
    {
     "name": "stderr",
     "output_type": "stream",
     "text": [
      "100%|██████████| 2360/2360 [07:49<00:00,  5.03it/s]\n",
      "  0%|          | 1/2360 [00:00<06:38,  5.93it/s]"
     ]
    },
    {
     "name": "stdout",
     "output_type": "stream",
     "text": [
      "38 0.01619640770461055 0.8559517860412598\n"
     ]
    },
    {
     "name": "stderr",
     "output_type": "stream",
     "text": [
      "100%|██████████| 2360/2360 [07:55<00:00,  4.96it/s]\n",
      "  0%|          | 1/2360 [00:00<06:23,  6.16it/s]"
     ]
    },
    {
     "name": "stdout",
     "output_type": "stream",
     "text": [
      "39 0.01599217887854124 0.8495839834213257\n"
     ]
    },
    {
     "name": "stderr",
     "output_type": "stream",
     "text": [
      "100%|██████████| 2360/2360 [07:32<00:00,  5.22it/s]\n",
      "  0%|          | 0/2360 [00:00<?, ?it/s]"
     ]
    },
    {
     "name": "stdout",
     "output_type": "stream",
     "text": [
      "40 0.01594794035272143 0.8573684096336365\n"
     ]
    },
    {
     "name": "stderr",
     "output_type": "stream",
     "text": [
      "100%|██████████| 2360/2360 [07:55<00:00,  4.96it/s]\n",
      "  0%|          | 0/2360 [00:00<?, ?it/s]"
     ]
    },
    {
     "name": "stdout",
     "output_type": "stream",
     "text": [
      "41 0.015991021409013314 0.8601050972938538\n"
     ]
    },
    {
     "name": "stderr",
     "output_type": "stream",
     "text": [
      "100%|██████████| 2360/2360 [07:27<00:00,  5.28it/s]\n",
      "  0%|          | 0/2360 [00:00<?, ?it/s]"
     ]
    },
    {
     "name": "stdout",
     "output_type": "stream",
     "text": [
      "42 0.015734781691944286 0.8607248067855835\n"
     ]
    },
    {
     "name": "stderr",
     "output_type": "stream",
     "text": [
      "100%|██████████| 2360/2360 [07:55<00:00,  4.96it/s]\n",
      "  0%|          | 1/2360 [00:00<07:34,  5.18it/s]"
     ]
    },
    {
     "name": "stdout",
     "output_type": "stream",
     "text": [
      "43 0.016112521521142287 0.8744149804115295\n"
     ]
    },
    {
     "name": "stderr",
     "output_type": "stream",
     "text": [
      "100%|██████████| 2360/2360 [07:27<00:00,  5.28it/s]\n",
      "  0%|          | 0/2360 [00:00<?, ?it/s]"
     ]
    },
    {
     "name": "stdout",
     "output_type": "stream",
     "text": [
      "44 0.015601149669778503 0.8647000193595886\n"
     ]
    },
    {
     "name": "stderr",
     "output_type": "stream",
     "text": [
      "100%|██████████| 2360/2360 [08:38<00:00,  4.55it/s]\n",
      "  0%|          | 1/2360 [00:00<07:38,  5.15it/s]"
     ]
    },
    {
     "name": "stdout",
     "output_type": "stream",
     "text": [
      "45 0.015703619683999134 0.8602010607719421\n"
     ]
    },
    {
     "name": "stderr",
     "output_type": "stream",
     "text": [
      "100%|██████████| 2360/2360 [08:08<00:00,  4.83it/s]\n",
      "  0%|          | 0/2360 [00:00<?, ?it/s]"
     ]
    },
    {
     "name": "stdout",
     "output_type": "stream",
     "text": [
      "46 0.015584229841045072 0.8700461387634277\n"
     ]
    },
    {
     "name": "stderr",
     "output_type": "stream",
     "text": [
      "100%|██████████| 2360/2360 [08:44<00:00,  4.50it/s]\n",
      "  0%|          | 0/2360 [00:00<?, ?it/s]"
     ]
    },
    {
     "name": "stdout",
     "output_type": "stream",
     "text": [
      "47 0.015692343465366406 0.8467915654182434\n"
     ]
    },
    {
     "name": "stderr",
     "output_type": "stream",
     "text": [
      "100%|██████████| 2360/2360 [08:31<00:00,  4.61it/s]\n",
      "  0%|          | 0/2360 [00:00<?, ?it/s]"
     ]
    },
    {
     "name": "stdout",
     "output_type": "stream",
     "text": [
      "48 0.015495990823058947 0.8591222763061523\n"
     ]
    },
    {
     "name": "stderr",
     "output_type": "stream",
     "text": [
      "100%|██████████| 2360/2360 [08:29<00:00,  4.64it/s]\n",
      "  0%|          | 0/2360 [00:00<?, ?it/s]"
     ]
    },
    {
     "name": "stdout",
     "output_type": "stream",
     "text": [
      "49 0.015600039479182579 0.8579229116439819\n"
     ]
    },
    {
     "name": "stderr",
     "output_type": "stream",
     "text": [
      "100%|██████████| 2360/2360 [08:45<00:00,  4.49it/s]\n",
      "  0%|          | 0/2360 [00:00<?, ?it/s]"
     ]
    },
    {
     "name": "stdout",
     "output_type": "stream",
     "text": [
      "50 0.015314728839637972 0.8505256175994873\n"
     ]
    },
    {
     "name": "stderr",
     "output_type": "stream",
     "text": [
      "100%|██████████| 2360/2360 [08:09<00:00,  4.82it/s]\n",
      "  0%|          | 1/2360 [00:00<07:15,  5.41it/s]"
     ]
    },
    {
     "name": "stdout",
     "output_type": "stream",
     "text": [
      "51 0.015347000857362712 0.854249894618988\n"
     ]
    },
    {
     "name": "stderr",
     "output_type": "stream",
     "text": [
      "100%|██████████| 2360/2360 [08:45<00:00,  4.49it/s]\n",
      "  0%|          | 0/2360 [00:00<?, ?it/s]"
     ]
    },
    {
     "name": "stdout",
     "output_type": "stream",
     "text": [
      "52 0.015442573217475324 0.8833284378051758\n"
     ]
    },
    {
     "name": "stderr",
     "output_type": "stream",
     "text": [
      "100%|██████████| 2360/2360 [08:10<00:00,  4.81it/s]\n",
      "  0%|          | 0/2360 [00:00<?, ?it/s]"
     ]
    },
    {
     "name": "stdout",
     "output_type": "stream",
     "text": [
      "53 0.015210982896711309 0.865283191204071\n"
     ]
    },
    {
     "name": "stderr",
     "output_type": "stream",
     "text": [
      "100%|██████████| 2360/2360 [08:42<00:00,  4.52it/s]\n",
      "  0%|          | 0/2360 [00:00<?, ?it/s]"
     ]
    },
    {
     "name": "stdout",
     "output_type": "stream",
     "text": [
      "54 0.015265444077072872 0.8584712147712708\n"
     ]
    },
    {
     "name": "stderr",
     "output_type": "stream",
     "text": [
      "100%|██████████| 2360/2360 [08:10<00:00,  4.82it/s]\n",
      "  0%|          | 0/2360 [00:00<?, ?it/s]"
     ]
    },
    {
     "name": "stdout",
     "output_type": "stream",
     "text": [
      "55 0.015203256193578445 0.8525657653808594\n"
     ]
    },
    {
     "name": "stderr",
     "output_type": "stream",
     "text": [
      "100%|██████████| 2360/2360 [08:44<00:00,  4.50it/s]\n",
      "  0%|          | 1/2360 [00:00<06:23,  6.16it/s]"
     ]
    },
    {
     "name": "stdout",
     "output_type": "stream",
     "text": [
      "56 0.015111118397545567 0.8559494018554688\n"
     ]
    },
    {
     "name": "stderr",
     "output_type": "stream",
     "text": [
      "100%|██████████| 2360/2360 [08:34<00:00,  4.59it/s]\n",
      "  0%|          | 0/2360 [00:00<?, ?it/s]"
     ]
    },
    {
     "name": "stdout",
     "output_type": "stream",
     "text": [
      "57 0.015087264697547117 0.8589873313903809\n"
     ]
    },
    {
     "name": "stderr",
     "output_type": "stream",
     "text": [
      "100%|██████████| 2360/2360 [08:24<00:00,  4.68it/s]\n",
      "  0%|          | 0/2360 [00:00<?, ?it/s]"
     ]
    },
    {
     "name": "stdout",
     "output_type": "stream",
     "text": [
      "58 0.015024140852630997 0.8623402714729309\n"
     ]
    },
    {
     "name": "stderr",
     "output_type": "stream",
     "text": [
      "100%|██████████| 2360/2360 [08:44<00:00,  4.50it/s]\n",
      "  0%|          | 1/2360 [00:00<06:44,  5.83it/s]"
     ]
    },
    {
     "name": "stdout",
     "output_type": "stream",
     "text": [
      "59 0.015206929633213068 0.8582804799079895\n"
     ]
    },
    {
     "name": "stderr",
     "output_type": "stream",
     "text": [
      "100%|██████████| 2360/2360 [08:09<00:00,  4.82it/s]\n",
      "  0%|          | 0/2360 [00:00<?, ?it/s]"
     ]
    },
    {
     "name": "stdout",
     "output_type": "stream",
     "text": [
      "60 0.014994985993277248 0.8545204401016235\n"
     ]
    },
    {
     "name": "stderr",
     "output_type": "stream",
     "text": [
      "100%|██████████| 2360/2360 [08:44<00:00,  4.50it/s]\n",
      "  0%|          | 0/2360 [00:00<?, ?it/s]"
     ]
    },
    {
     "name": "stdout",
     "output_type": "stream",
     "text": [
      "61 0.014905040128880599 0.8790791630744934\n"
     ]
    },
    {
     "name": "stderr",
     "output_type": "stream",
     "text": [
      "100%|██████████| 2360/2360 [08:08<00:00,  4.83it/s]\n",
      "  0%|          | 0/2360 [00:00<?, ?it/s]"
     ]
    },
    {
     "name": "stdout",
     "output_type": "stream",
     "text": [
      "62 0.014936003870132959 0.8911903500556946\n"
     ]
    },
    {
     "name": "stderr",
     "output_type": "stream",
     "text": [
      "100%|██████████| 2360/2360 [08:44<00:00,  4.50it/s]\n",
      "  0%|          | 0/2360 [00:00<?, ?it/s]"
     ]
    },
    {
     "name": "stdout",
     "output_type": "stream",
     "text": [
      "63 0.01486788006975533 0.8619596362113953\n"
     ]
    },
    {
     "name": "stderr",
     "output_type": "stream",
     "text": [
      "100%|██████████| 2360/2360 [08:10<00:00,  4.81it/s]\n",
      "  0%|          | 0/2360 [00:00<?, ?it/s]"
     ]
    },
    {
     "name": "stdout",
     "output_type": "stream",
     "text": [
      "64 0.014864735866905888 0.8563994765281677\n"
     ]
    },
    {
     "name": "stderr",
     "output_type": "stream",
     "text": [
      "100%|██████████| 2360/2360 [08:43<00:00,  4.50it/s]\n",
      "  0%|          | 0/2360 [00:00<?, ?it/s]"
     ]
    },
    {
     "name": "stdout",
     "output_type": "stream",
     "text": [
      "65 0.014781253188122071 0.8637582063674927\n"
     ]
    },
    {
     "name": "stderr",
     "output_type": "stream",
     "text": [
      "100%|██████████| 2360/2360 [08:35<00:00,  4.57it/s]\n",
      "  0%|          | 0/2360 [00:00<?, ?it/s]"
     ]
    },
    {
     "name": "stdout",
     "output_type": "stream",
     "text": [
      "66 0.014785968406215128 0.8547287583351135\n"
     ]
    },
    {
     "name": "stderr",
     "output_type": "stream",
     "text": [
      "100%|██████████| 2360/2360 [08:24<00:00,  4.68it/s]\n",
      "  0%|          | 0/2360 [00:00<?, ?it/s]"
     ]
    },
    {
     "name": "stdout",
     "output_type": "stream",
     "text": [
      "67 0.014709967927989084 0.8791029453277588\n"
     ]
    },
    {
     "name": "stderr",
     "output_type": "stream",
     "text": [
      "100%|██████████| 2360/2360 [08:43<00:00,  4.51it/s]\n",
      "  0%|          | 0/2360 [00:00<?, ?it/s]"
     ]
    },
    {
     "name": "stdout",
     "output_type": "stream",
     "text": [
      "68 0.014713169541999527 0.8658230304718018\n"
     ]
    },
    {
     "name": "stderr",
     "output_type": "stream",
     "text": [
      "100%|██████████| 2360/2360 [08:09<00:00,  4.83it/s]\n",
      "  0%|          | 0/2360 [00:00<?, ?it/s]"
     ]
    },
    {
     "name": "stdout",
     "output_type": "stream",
     "text": [
      "69 0.014688880971604078 0.848665714263916\n"
     ]
    },
    {
     "name": "stderr",
     "output_type": "stream",
     "text": [
      "100%|██████████| 2360/2360 [08:45<00:00,  4.49it/s]\n",
      "  0%|          | 0/2360 [00:00<?, ?it/s]"
     ]
    },
    {
     "name": "stdout",
     "output_type": "stream",
     "text": [
      "70 0.014675219746203103 0.8584675192832947\n"
     ]
    },
    {
     "name": "stderr",
     "output_type": "stream",
     "text": [
      "100%|██████████| 2360/2360 [08:08<00:00,  4.83it/s]\n",
      "  0%|          | 0/2360 [00:00<?, ?it/s]"
     ]
    },
    {
     "name": "stdout",
     "output_type": "stream",
     "text": [
      "71 0.014555164665140088 0.8596745729446411\n"
     ]
    },
    {
     "name": "stderr",
     "output_type": "stream",
     "text": [
      "100%|██████████| 2360/2360 [08:45<00:00,  4.49it/s]\n",
      "  0%|          | 0/2360 [00:00<?, ?it/s]"
     ]
    },
    {
     "name": "stdout",
     "output_type": "stream",
     "text": [
      "72 0.014669002179054827 0.865885853767395\n"
     ]
    },
    {
     "name": "stderr",
     "output_type": "stream",
     "text": [
      "100%|██████████| 2360/2360 [08:08<00:00,  4.83it/s]\n",
      "  0%|          | 0/2360 [00:00<?, ?it/s]"
     ]
    },
    {
     "name": "stdout",
     "output_type": "stream",
     "text": [
      "73 0.01452944882296187 0.8600696325302124\n"
     ]
    },
    {
     "name": "stderr",
     "output_type": "stream",
     "text": [
      "100%|██████████| 2360/2360 [08:43<00:00,  4.51it/s]\n",
      "  0%|          | 0/2360 [00:00<?, ?it/s]"
     ]
    },
    {
     "name": "stdout",
     "output_type": "stream",
     "text": [
      "74 0.01456420093947716 0.8678543567657471\n"
     ]
    },
    {
     "name": "stderr",
     "output_type": "stream",
     "text": [
      "100%|██████████| 2360/2360 [08:33<00:00,  4.60it/s]\n",
      "  0%|          | 0/2360 [00:00<?, ?it/s]"
     ]
    },
    {
     "name": "stdout",
     "output_type": "stream",
     "text": [
      "75 0.014463069088142736 0.8573943376541138\n"
     ]
    },
    {
     "name": "stderr",
     "output_type": "stream",
     "text": [
      "100%|██████████| 2360/2360 [08:27<00:00,  4.65it/s]\n",
      "  0%|          | 0/2360 [00:00<?, ?it/s]"
     ]
    },
    {
     "name": "stdout",
     "output_type": "stream",
     "text": [
      "76 0.014522715724551449 0.8644660711288452\n"
     ]
    },
    {
     "name": "stderr",
     "output_type": "stream",
     "text": [
      "100%|██████████| 2360/2360 [08:42<00:00,  4.51it/s]\n",
      "  0%|          | 0/2360 [00:00<?, ?it/s]"
     ]
    },
    {
     "name": "stdout",
     "output_type": "stream",
     "text": [
      "77 0.014368890313097623 0.8611115217208862\n"
     ]
    },
    {
     "name": "stderr",
     "output_type": "stream",
     "text": [
      "100%|██████████| 2360/2360 [08:09<00:00,  4.83it/s]\n",
      "  0%|          | 0/2360 [00:00<?, ?it/s]"
     ]
    },
    {
     "name": "stdout",
     "output_type": "stream",
     "text": [
      "78 0.014455381199329043 0.8639352917671204\n"
     ]
    },
    {
     "name": "stderr",
     "output_type": "stream",
     "text": [
      "100%|██████████| 2360/2360 [08:44<00:00,  4.50it/s]\n",
      "  0%|          | 1/2360 [00:00<06:39,  5.90it/s]"
     ]
    },
    {
     "name": "stdout",
     "output_type": "stream",
     "text": [
      "79 0.014399187199158682 0.867906928062439\n"
     ]
    },
    {
     "name": "stderr",
     "output_type": "stream",
     "text": [
      "100%|██████████| 2360/2360 [08:09<00:00,  4.82it/s]\n",
      "  0%|          | 0/2360 [00:00<?, ?it/s]"
     ]
    },
    {
     "name": "stdout",
     "output_type": "stream",
     "text": [
      "80 0.014771594888806633 0.8689473867416382\n"
     ]
    },
    {
     "name": "stderr",
     "output_type": "stream",
     "text": [
      "100%|██████████| 2360/2360 [08:42<00:00,  4.52it/s]\n",
      "  0%|          | 1/2360 [00:00<07:05,  5.54it/s]"
     ]
    },
    {
     "name": "stdout",
     "output_type": "stream",
     "text": [
      "81 0.014278772336222791 0.8676146864891052\n"
     ]
    },
    {
     "name": "stderr",
     "output_type": "stream",
     "text": [
      "100%|██████████| 2360/2360 [08:09<00:00,  4.83it/s]\n",
      "  0%|          | 0/2360 [00:00<?, ?it/s]"
     ]
    },
    {
     "name": "stdout",
     "output_type": "stream",
     "text": [
      "82 0.014336011589249346 0.8583075404167175\n"
     ]
    },
    {
     "name": "stderr",
     "output_type": "stream",
     "text": [
      "100%|██████████| 2360/2360 [08:44<00:00,  4.50it/s]\n",
      "  0%|          | 0/2360 [00:00<?, ?it/s]"
     ]
    },
    {
     "name": "stdout",
     "output_type": "stream",
     "text": [
      "83 0.01426651282670255 0.8629851341247559\n"
     ]
    },
    {
     "name": "stderr",
     "output_type": "stream",
     "text": [
      "100%|██████████| 2360/2360 [08:33<00:00,  4.60it/s]\n",
      "  0%|          | 0/2360 [00:00<?, ?it/s]"
     ]
    },
    {
     "name": "stdout",
     "output_type": "stream",
     "text": [
      "84 0.014418235480557968 0.8762858510017395\n"
     ]
    },
    {
     "name": "stderr",
     "output_type": "stream",
     "text": [
      "100%|██████████| 2360/2360 [08:25<00:00,  4.67it/s]\n",
      "  0%|          | 1/2360 [00:00<06:06,  6.43it/s]"
     ]
    },
    {
     "name": "stdout",
     "output_type": "stream",
     "text": [
      "85 0.01418127643632189 0.8725388050079346\n"
     ]
    },
    {
     "name": "stderr",
     "output_type": "stream",
     "text": [
      "100%|██████████| 2360/2360 [08:44<00:00,  4.50it/s]\n",
      "  0%|          | 0/2360 [00:00<?, ?it/s]"
     ]
    },
    {
     "name": "stdout",
     "output_type": "stream",
     "text": [
      "86 0.014185761447384758 0.8512136936187744\n"
     ]
    },
    {
     "name": "stderr",
     "output_type": "stream",
     "text": [
      "100%|██████████| 2360/2360 [08:09<00:00,  4.83it/s]\n",
      "  0%|          | 1/2360 [00:00<05:26,  7.22it/s]"
     ]
    },
    {
     "name": "stdout",
     "output_type": "stream",
     "text": [
      "87 0.014164131900059527 0.8928039073944092\n"
     ]
    },
    {
     "name": "stderr",
     "output_type": "stream",
     "text": [
      "100%|██████████| 2360/2360 [07:19<00:00,  5.37it/s]\n",
      "  0%|          | 1/2360 [00:00<05:22,  7.30it/s]"
     ]
    },
    {
     "name": "stdout",
     "output_type": "stream",
     "text": [
      "88 0.014173353563255112 0.8923461437225342\n"
     ]
    },
    {
     "name": "stderr",
     "output_type": "stream",
     "text": [
      "100%|██████████| 2360/2360 [07:01<00:00,  5.59it/s]\n",
      "  0%|          | 1/2360 [00:00<05:27,  7.19it/s]"
     ]
    },
    {
     "name": "stdout",
     "output_type": "stream",
     "text": [
      "89 0.01420355076680924 0.8659934997558594\n"
     ]
    },
    {
     "name": "stderr",
     "output_type": "stream",
     "text": [
      "100%|██████████| 2360/2360 [07:19<00:00,  5.37it/s]\n",
      "  0%|          | 1/2360 [00:00<06:48,  5.77it/s]"
     ]
    },
    {
     "name": "stdout",
     "output_type": "stream",
     "text": [
      "90 0.014121529537846459 0.8987671732902527\n"
     ]
    },
    {
     "name": "stderr",
     "output_type": "stream",
     "text": [
      "100%|██████████| 2360/2360 [07:11<00:00,  5.47it/s]\n",
      "  0%|          | 1/2360 [00:00<05:25,  7.25it/s]"
     ]
    },
    {
     "name": "stdout",
     "output_type": "stream",
     "text": [
      "91 0.014059006263734476 0.8974979519844055\n"
     ]
    },
    {
     "name": "stderr",
     "output_type": "stream",
     "text": [
      "100%|██████████| 2360/2360 [07:01<00:00,  5.60it/s]\n",
      "  0%|          | 1/2360 [00:00<06:35,  5.96it/s]"
     ]
    },
    {
     "name": "stdout",
     "output_type": "stream",
     "text": [
      "92 0.014098578189736949 0.8738524317741394\n"
     ]
    },
    {
     "name": "stderr",
     "output_type": "stream",
     "text": [
      "100%|██████████| 2360/2360 [07:20<00:00,  5.36it/s]\n",
      "  0%|          | 1/2360 [00:00<05:28,  7.18it/s]"
     ]
    },
    {
     "name": "stdout",
     "output_type": "stream",
     "text": [
      "93 0.014035457146684463 0.8576726913452148\n"
     ]
    },
    {
     "name": "stderr",
     "output_type": "stream",
     "text": [
      "100%|██████████| 2360/2360 [07:02<00:00,  5.59it/s]\n",
      "  0%|          | 1/2360 [00:00<05:23,  7.30it/s]"
     ]
    },
    {
     "name": "stdout",
     "output_type": "stream",
     "text": [
      "94 0.014027266569108706 0.8737738728523254\n"
     ]
    },
    {
     "name": "stderr",
     "output_type": "stream",
     "text": [
      "100%|██████████| 2360/2360 [07:20<00:00,  5.36it/s]\n",
      "  0%|          | 1/2360 [00:00<06:04,  6.48it/s]"
     ]
    },
    {
     "name": "stdout",
     "output_type": "stream",
     "text": [
      "95 0.014034084566513921 0.8597263097763062\n"
     ]
    },
    {
     "name": "stderr",
     "output_type": "stream",
     "text": [
      "100%|██████████| 2360/2360 [07:04<00:00,  5.56it/s]\n",
      "  0%|          | 1/2360 [00:00<05:22,  7.30it/s]"
     ]
    },
    {
     "name": "stdout",
     "output_type": "stream",
     "text": [
      "96 0.014003629602757158 0.8640711903572083\n"
     ]
    },
    {
     "name": "stderr",
     "output_type": "stream",
     "text": [
      "100%|██████████| 2360/2360 [07:06<00:00,  5.53it/s]\n",
      "  0%|          | 1/2360 [00:00<06:34,  5.98it/s]"
     ]
    },
    {
     "name": "stdout",
     "output_type": "stream",
     "text": [
      "97 0.014004591477568206 0.848856508731842\n"
     ]
    },
    {
     "name": "stderr",
     "output_type": "stream",
     "text": [
      "100%|██████████| 2360/2360 [07:19<00:00,  5.36it/s]\n",
      "  0%|          | 1/2360 [00:00<06:35,  5.96it/s]"
     ]
    },
    {
     "name": "stdout",
     "output_type": "stream",
     "text": [
      "98 0.014018157584692978 0.8690809011459351\n"
     ]
    },
    {
     "name": "stderr",
     "output_type": "stream",
     "text": [
      "100%|██████████| 2360/2360 [07:02<00:00,  5.59it/s]\n",
      "  0%|          | 1/2360 [00:00<06:35,  5.97it/s]"
     ]
    },
    {
     "name": "stdout",
     "output_type": "stream",
     "text": [
      "99 0.013934629099169567 0.8734709620475769\n"
     ]
    },
    {
     "name": "stderr",
     "output_type": "stream",
     "text": [
      "100%|██████████| 2360/2360 [07:20<00:00,  5.36it/s]\n",
      "  0%|          | 1/2360 [00:00<05:31,  7.12it/s]"
     ]
    },
    {
     "name": "stdout",
     "output_type": "stream",
     "text": [
      "100 0.013987466751156835 0.8629025220870972\n"
     ]
    },
    {
     "name": "stderr",
     "output_type": "stream",
     "text": [
      "100%|██████████| 2360/2360 [07:02<00:00,  5.59it/s]\n",
      "  0%|          | 0/2360 [00:00<?, ?it/s]"
     ]
    },
    {
     "name": "stdout",
     "output_type": "stream",
     "text": [
      "101 0.013865645261676433 0.8537488579750061\n"
     ]
    },
    {
     "name": "stderr",
     "output_type": "stream",
     "text": [
      "100%|██████████| 2360/2360 [07:14<00:00,  5.44it/s]\n",
      "  0%|          | 1/2360 [00:00<05:26,  7.22it/s]"
     ]
    },
    {
     "name": "stdout",
     "output_type": "stream",
     "text": [
      "102 0.013888385944540607 0.8625053763389587\n"
     ]
    },
    {
     "name": "stderr",
     "output_type": "stream",
     "text": [
      "100%|██████████| 2360/2360 [07:19<00:00,  5.37it/s]\n",
      "  0%|          | 0/2360 [00:00<?, ?it/s]"
     ]
    },
    {
     "name": "stdout",
     "output_type": "stream",
     "text": [
      "103 0.013921418574280585 0.8565607070922852\n"
     ]
    },
    {
     "name": "stderr",
     "output_type": "stream",
     "text": [
      "100%|██████████| 2360/2360 [07:02<00:00,  5.59it/s]\n",
      "  0%|          | 0/2360 [00:00<?, ?it/s]"
     ]
    },
    {
     "name": "stdout",
     "output_type": "stream",
     "text": [
      "104 0.013852702794046209 0.883345365524292\n"
     ]
    },
    {
     "name": "stderr",
     "output_type": "stream",
     "text": [
      "100%|██████████| 2360/2360 [07:20<00:00,  5.35it/s]\n",
      "  0%|          | 1/2360 [00:00<06:36,  5.95it/s]"
     ]
    },
    {
     "name": "stdout",
     "output_type": "stream",
     "text": [
      "105 0.013825850776819517 0.8661392331123352\n"
     ]
    },
    {
     "name": "stderr",
     "output_type": "stream",
     "text": [
      "100%|██████████| 2360/2360 [07:02<00:00,  5.59it/s]\n",
      "  0%|          | 1/2360 [00:00<06:36,  5.95it/s]"
     ]
    },
    {
     "name": "stdout",
     "output_type": "stream",
     "text": [
      "106 0.013797090679403962 0.8617722392082214\n"
     ]
    },
    {
     "name": "stderr",
     "output_type": "stream",
     "text": [
      "100%|██████████| 2360/2360 [07:20<00:00,  5.36it/s]\n",
      "  0%|          | 1/2360 [00:00<06:03,  6.50it/s]"
     ]
    },
    {
     "name": "stdout",
     "output_type": "stream",
     "text": [
      "107 0.013804545061289317 0.8737964034080505\n"
     ]
    },
    {
     "name": "stderr",
     "output_type": "stream",
     "text": [
      "100%|██████████| 2360/2360 [07:11<00:00,  5.48it/s]\n",
      "  0%|          | 1/2360 [00:00<06:36,  5.94it/s]"
     ]
    },
    {
     "name": "stdout",
     "output_type": "stream",
     "text": [
      "108 0.01377751700613283 0.8648096323013306\n"
     ]
    },
    {
     "name": "stderr",
     "output_type": "stream",
     "text": [
      "100%|██████████| 2360/2360 [07:02<00:00,  5.59it/s]\n",
      "  0%|          | 0/2360 [00:00<?, ?it/s]"
     ]
    },
    {
     "name": "stdout",
     "output_type": "stream",
     "text": [
      "109 0.013744346377996064 0.8834155797958374\n"
     ]
    },
    {
     "name": "stderr",
     "output_type": "stream",
     "text": [
      "100%|██████████| 2360/2360 [07:19<00:00,  5.37it/s]\n",
      "  0%|          | 1/2360 [00:00<07:38,  5.14it/s]"
     ]
    },
    {
     "name": "stdout",
     "output_type": "stream",
     "text": [
      "110 0.01379752393173162 0.8658259510993958\n"
     ]
    },
    {
     "name": "stderr",
     "output_type": "stream",
     "text": [
      "100%|██████████| 2360/2360 [07:02<00:00,  5.59it/s]\n",
      "  0%|          | 0/2360 [00:00<?, ?it/s]"
     ]
    },
    {
     "name": "stdout",
     "output_type": "stream",
     "text": [
      "111 0.013755831310399992 0.8700324296951294\n"
     ]
    },
    {
     "name": "stderr",
     "output_type": "stream",
     "text": [
      "100%|██████████| 2360/2360 [07:20<00:00,  5.35it/s]\n",
      "  0%|          | 1/2360 [00:00<06:25,  6.12it/s]"
     ]
    },
    {
     "name": "stdout",
     "output_type": "stream",
     "text": [
      "112 0.013673652102045585 0.8609415888786316\n"
     ]
    },
    {
     "name": "stderr",
     "output_type": "stream",
     "text": [
      "100%|██████████| 2360/2360 [07:04<00:00,  5.56it/s]\n",
      "  0%|          | 0/2360 [00:00<?, ?it/s]"
     ]
    },
    {
     "name": "stdout",
     "output_type": "stream",
     "text": [
      "113 0.013706092821807616 0.8963622450828552\n"
     ]
    },
    {
     "name": "stderr",
     "output_type": "stream",
     "text": [
      "100%|██████████| 2360/2360 [07:06<00:00,  5.53it/s]\n",
      "  0%|          | 0/2360 [00:00<?, ?it/s]"
     ]
    },
    {
     "name": "stdout",
     "output_type": "stream",
     "text": [
      "114 0.013752276020818605 0.8547776341438293\n"
     ]
    },
    {
     "name": "stderr",
     "output_type": "stream",
     "text": [
      "100%|██████████| 2360/2360 [07:20<00:00,  5.36it/s]\n",
      "  0%|          | 1/2360 [00:00<05:25,  7.25it/s]"
     ]
    },
    {
     "name": "stdout",
     "output_type": "stream",
     "text": [
      "115 0.013676829129179538 0.8648966550827026\n"
     ]
    },
    {
     "name": "stderr",
     "output_type": "stream",
     "text": [
      "100%|██████████| 2360/2360 [07:02<00:00,  5.59it/s]\n",
      "  0%|          | 1/2360 [00:00<05:23,  7.29it/s]"
     ]
    },
    {
     "name": "stdout",
     "output_type": "stream",
     "text": [
      "116 0.01366382540705416 0.8670176267623901\n"
     ]
    },
    {
     "name": "stderr",
     "output_type": "stream",
     "text": [
      "100%|██████████| 2360/2360 [07:20<00:00,  5.36it/s]\n",
      "  0%|          | 1/2360 [00:00<06:29,  6.06it/s]"
     ]
    },
    {
     "name": "stdout",
     "output_type": "stream",
     "text": [
      "117 0.01361322387478118 0.872445285320282\n"
     ]
    },
    {
     "name": "stderr",
     "output_type": "stream",
     "text": [
      "100%|██████████| 2360/2360 [07:02<00:00,  5.59it/s]\n",
      "  0%|          | 0/2360 [00:00<?, ?it/s]"
     ]
    },
    {
     "name": "stdout",
     "output_type": "stream",
     "text": [
      "118 0.013653798874873462 0.8624249696731567\n"
     ]
    },
    {
     "name": "stderr",
     "output_type": "stream",
     "text": [
      "100%|██████████| 2360/2360 [07:13<00:00,  5.44it/s]\n",
      "  0%|          | 1/2360 [00:00<06:24,  6.13it/s]"
     ]
    },
    {
     "name": "stdout",
     "output_type": "stream",
     "text": [
      "119 0.0136764098464931 0.9023815989494324\n"
     ]
    },
    {
     "name": "stderr",
     "output_type": "stream",
     "text": [
      "100%|██████████| 2360/2360 [07:20<00:00,  5.36it/s]\n",
      "  0%|          | 1/2360 [00:00<06:36,  5.96it/s]"
     ]
    },
    {
     "name": "stdout",
     "output_type": "stream",
     "text": [
      "120 0.013533351057567944 0.8697843551635742\n"
     ]
    },
    {
     "name": "stderr",
     "output_type": "stream",
     "text": [
      "100%|██████████| 2360/2360 [07:02<00:00,  5.59it/s]\n",
      "  0%|          | 1/2360 [00:00<05:27,  7.20it/s]"
     ]
    },
    {
     "name": "stdout",
     "output_type": "stream",
     "text": [
      "121 0.013624415971574048 0.869778037071228\n"
     ]
    },
    {
     "name": "stderr",
     "output_type": "stream",
     "text": [
      "100%|██████████| 2360/2360 [07:20<00:00,  5.36it/s]\n",
      "  0%|          | 0/2360 [00:00<?, ?it/s]"
     ]
    },
    {
     "name": "stdout",
     "output_type": "stream",
     "text": [
      "122 0.013569164580194538 0.8709573149681091\n"
     ]
    },
    {
     "name": "stderr",
     "output_type": "stream",
     "text": [
      "100%|██████████| 2360/2360 [07:02<00:00,  5.59it/s]\n",
      "  0%|          | 1/2360 [00:00<06:30,  6.03it/s]"
     ]
    },
    {
     "name": "stdout",
     "output_type": "stream",
     "text": [
      "123 0.0135685044246828 0.8672856688499451\n"
     ]
    },
    {
     "name": "stderr",
     "output_type": "stream",
     "text": [
      "100%|██████████| 2360/2360 [07:20<00:00,  5.36it/s]\n",
      "  0%|          | 1/2360 [00:00<06:03,  6.49it/s]"
     ]
    },
    {
     "name": "stdout",
     "output_type": "stream",
     "text": [
      "124 0.013546040803375651 0.8552590012550354\n"
     ]
    },
    {
     "name": "stderr",
     "output_type": "stream",
     "text": [
      "100%|██████████| 2360/2360 [07:11<00:00,  5.47it/s]\n",
      "  0%|          | 1/2360 [00:00<06:34,  5.99it/s]"
     ]
    },
    {
     "name": "stdout",
     "output_type": "stream",
     "text": [
      "125 0.013567717536461143 0.8893975019454956\n"
     ]
    },
    {
     "name": "stderr",
     "output_type": "stream",
     "text": [
      "100%|██████████| 2360/2360 [07:01<00:00,  5.60it/s]\n",
      "  0%|          | 1/2360 [00:00<06:37,  5.93it/s]"
     ]
    },
    {
     "name": "stdout",
     "output_type": "stream",
     "text": [
      "126 0.0135365221941557 0.8832588195800781\n"
     ]
    },
    {
     "name": "stderr",
     "output_type": "stream",
     "text": [
      "100%|██████████| 2360/2360 [07:19<00:00,  5.36it/s]\n",
      "  0%|          | 1/2360 [00:00<05:24,  7.26it/s]"
     ]
    },
    {
     "name": "stdout",
     "output_type": "stream",
     "text": [
      "127 0.013640894075076286 0.887403666973114\n"
     ]
    },
    {
     "name": "stderr",
     "output_type": "stream",
     "text": [
      "100%|██████████| 2360/2360 [07:02<00:00,  5.59it/s]\n",
      "  0%|          | 1/2360 [00:00<06:27,  6.09it/s]"
     ]
    },
    {
     "name": "stdout",
     "output_type": "stream",
     "text": [
      "128 0.013431386410007226 0.8681719899177551\n"
     ]
    },
    {
     "name": "stderr",
     "output_type": "stream",
     "text": [
      "100%|██████████| 2360/2360 [07:20<00:00,  5.36it/s]\n",
      "  0%|          | 1/2360 [00:00<06:26,  6.11it/s]"
     ]
    },
    {
     "name": "stdout",
     "output_type": "stream",
     "text": [
      "129 0.013407725665320364 0.8661791086196899\n"
     ]
    },
    {
     "name": "stderr",
     "output_type": "stream",
     "text": [
      "100%|██████████| 2360/2360 [07:04<00:00,  5.56it/s]\n",
      "  0%|          | 0/2360 [00:00<?, ?it/s]"
     ]
    },
    {
     "name": "stdout",
     "output_type": "stream",
     "text": [
      "130 0.013476474136595772 0.8672317266464233\n"
     ]
    },
    {
     "name": "stderr",
     "output_type": "stream",
     "text": [
      "100%|██████████| 2360/2360 [07:05<00:00,  5.54it/s]\n",
      "  0%|          | 0/2360 [00:00<?, ?it/s]"
     ]
    },
    {
     "name": "stdout",
     "output_type": "stream",
     "text": [
      "131 0.013443082185906657 0.8757042288780212\n"
     ]
    },
    {
     "name": "stderr",
     "output_type": "stream",
     "text": [
      "100%|██████████| 2360/2360 [07:19<00:00,  5.37it/s]\n",
      "  0%|          | 1/2360 [00:00<06:29,  6.05it/s]"
     ]
    },
    {
     "name": "stdout",
     "output_type": "stream",
     "text": [
      "132 0.013413754125426145 0.8709167838096619\n"
     ]
    },
    {
     "name": "stderr",
     "output_type": "stream",
     "text": [
      "100%|██████████| 2360/2360 [07:02<00:00,  5.59it/s]\n",
      "  0%|          | 1/2360 [00:00<06:33,  5.99it/s]"
     ]
    },
    {
     "name": "stdout",
     "output_type": "stream",
     "text": [
      "133 0.01346205702409205 0.900867223739624\n"
     ]
    },
    {
     "name": "stderr",
     "output_type": "stream",
     "text": [
      "100%|██████████| 2360/2360 [07:20<00:00,  5.36it/s]\n",
      "  0%|          | 1/2360 [00:00<05:26,  7.23it/s]"
     ]
    },
    {
     "name": "stdout",
     "output_type": "stream",
     "text": [
      "134 0.013444814260933751 0.8598535656929016\n"
     ]
    },
    {
     "name": "stderr",
     "output_type": "stream",
     "text": [
      "100%|██████████| 2360/2360 [07:02<00:00,  5.58it/s]\n",
      "  0%|          | 1/2360 [00:00<06:29,  6.06it/s]"
     ]
    },
    {
     "name": "stdout",
     "output_type": "stream",
     "text": [
      "135 0.01344803474834027 0.8735413551330566\n"
     ]
    },
    {
     "name": "stderr",
     "output_type": "stream",
     "text": [
      "100%|██████████| 2360/2360 [07:14<00:00,  5.43it/s]\n",
      "  0%|          | 1/2360 [00:00<05:25,  7.24it/s]"
     ]
    },
    {
     "name": "stdout",
     "output_type": "stream",
     "text": [
      "136 0.013356405829883648 0.8651074171066284\n"
     ]
    },
    {
     "name": "stderr",
     "output_type": "stream",
     "text": [
      "100%|██████████| 2360/2360 [07:20<00:00,  5.36it/s]\n",
      "  0%|          | 0/2360 [00:00<?, ?it/s]"
     ]
    },
    {
     "name": "stdout",
     "output_type": "stream",
     "text": [
      "137 0.013395050216241945 0.8747798204421997\n"
     ]
    },
    {
     "name": "stderr",
     "output_type": "stream",
     "text": [
      "100%|██████████| 2360/2360 [07:01<00:00,  5.60it/s]\n",
      "  0%|          | 0/2360 [00:00<?, ?it/s]"
     ]
    },
    {
     "name": "stdout",
     "output_type": "stream",
     "text": [
      "138 0.013390734225816332 0.8684653639793396\n"
     ]
    },
    {
     "name": "stderr",
     "output_type": "stream",
     "text": [
      "100%|██████████| 2360/2360 [07:19<00:00,  5.37it/s]\n",
      "  0%|          | 1/2360 [00:00<05:28,  7.18it/s]"
     ]
    },
    {
     "name": "stdout",
     "output_type": "stream",
     "text": [
      "139 0.013368987351981271 0.8752294182777405\n"
     ]
    },
    {
     "name": "stderr",
     "output_type": "stream",
     "text": [
      "100%|██████████| 2360/2360 [07:01<00:00,  5.59it/s]\n",
      "  0%|          | 1/2360 [00:00<07:18,  5.37it/s]"
     ]
    },
    {
     "name": "stdout",
     "output_type": "stream",
     "text": [
      "140 0.013321739911240332 0.8610833883285522\n"
     ]
    },
    {
     "name": "stderr",
     "output_type": "stream",
     "text": [
      "100%|██████████| 2360/2360 [07:19<00:00,  5.37it/s]\n",
      "  0%|          | 1/2360 [00:00<06:30,  6.04it/s]"
     ]
    },
    {
     "name": "stdout",
     "output_type": "stream",
     "text": [
      "141 0.01333948027365456 0.863467276096344\n"
     ]
    },
    {
     "name": "stderr",
     "output_type": "stream",
     "text": [
      "100%|██████████| 2360/2360 [07:11<00:00,  5.47it/s]\n",
      "  0%|          | 0/2360 [00:00<?, ?it/s]"
     ]
    },
    {
     "name": "stdout",
     "output_type": "stream",
     "text": [
      "142 0.013364451107912116 0.8698132038116455\n"
     ]
    },
    {
     "name": "stderr",
     "output_type": "stream",
     "text": [
      "100%|██████████| 2360/2360 [07:02<00:00,  5.59it/s]\n",
      "  0%|          | 0/2360 [00:00<?, ?it/s]"
     ]
    },
    {
     "name": "stdout",
     "output_type": "stream",
     "text": [
      "143 0.013255656435698801 0.8734846115112305\n"
     ]
    },
    {
     "name": "stderr",
     "output_type": "stream",
     "text": [
      "100%|██████████| 2360/2360 [07:19<00:00,  5.37it/s]\n",
      "  0%|          | 1/2360 [00:00<06:21,  6.19it/s]"
     ]
    },
    {
     "name": "stdout",
     "output_type": "stream",
     "text": [
      "144 0.01329978417459877 0.904060959815979\n"
     ]
    },
    {
     "name": "stderr",
     "output_type": "stream",
     "text": [
      "100%|██████████| 2360/2360 [07:02<00:00,  5.59it/s]\n",
      "  0%|          | 0/2360 [00:00<?, ?it/s]"
     ]
    },
    {
     "name": "stdout",
     "output_type": "stream",
     "text": [
      "145 0.013296147824816593 0.8669014573097229\n"
     ]
    },
    {
     "name": "stderr",
     "output_type": "stream",
     "text": [
      "100%|██████████| 2360/2360 [07:19<00:00,  5.36it/s]\n",
      "  0%|          | 1/2360 [00:00<06:27,  6.09it/s]"
     ]
    },
    {
     "name": "stdout",
     "output_type": "stream",
     "text": [
      "146 0.013301448329600958 0.8872202634811401\n"
     ]
    },
    {
     "name": "stderr",
     "output_type": "stream",
     "text": [
      "100%|██████████| 2360/2360 [07:03<00:00,  5.57it/s]\n",
      "  0%|          | 1/2360 [00:00<06:35,  5.96it/s]"
     ]
    },
    {
     "name": "stdout",
     "output_type": "stream",
     "text": [
      "147 0.013341476983853054 0.8558257222175598\n"
     ]
    },
    {
     "name": "stderr",
     "output_type": "stream",
     "text": [
      "100%|██████████| 2360/2360 [07:06<00:00,  5.53it/s]\n",
      "  0%|          | 0/2360 [00:00<?, ?it/s]"
     ]
    },
    {
     "name": "stdout",
     "output_type": "stream",
     "text": [
      "148 0.013224813878503062 0.8678972721099854\n"
     ]
    },
    {
     "name": "stderr",
     "output_type": "stream",
     "text": [
      "100%|██████████| 2360/2360 [07:19<00:00,  5.37it/s]\n",
      "  0%|          | 0/2360 [00:00<?, ?it/s]"
     ]
    },
    {
     "name": "stdout",
     "output_type": "stream",
     "text": [
      "149 0.013294480231145635 0.8618655204772949\n"
     ]
    },
    {
     "name": "stderr",
     "output_type": "stream",
     "text": [
      "100%|██████████| 2360/2360 [07:02<00:00,  5.59it/s]\n",
      "  0%|          | 1/2360 [00:00<06:30,  6.04it/s]"
     ]
    },
    {
     "name": "stdout",
     "output_type": "stream",
     "text": [
      "150 0.013243761078042782 0.8869732022285461\n"
     ]
    },
    {
     "name": "stderr",
     "output_type": "stream",
     "text": [
      "100%|██████████| 2360/2360 [07:20<00:00,  5.36it/s]\n",
      "  0%|          | 1/2360 [00:00<06:31,  6.02it/s]"
     ]
    },
    {
     "name": "stdout",
     "output_type": "stream",
     "text": [
      "151 0.013271891862357721 0.8852930665016174\n"
     ]
    },
    {
     "name": "stderr",
     "output_type": "stream",
     "text": [
      "100%|██████████| 2360/2360 [07:02<00:00,  5.59it/s]\n",
      "  0%|          | 0/2360 [00:00<?, ?it/s]"
     ]
    },
    {
     "name": "stdout",
     "output_type": "stream",
     "text": [
      "152 0.013194621446249898 0.8694198727607727\n"
     ]
    },
    {
     "name": "stderr",
     "output_type": "stream",
     "text": [
      "100%|██████████| 2360/2360 [07:13<00:00,  5.44it/s]\n",
      "  0%|          | 0/2360 [00:00<?, ?it/s]"
     ]
    },
    {
     "name": "stdout",
     "output_type": "stream",
     "text": [
      "153 0.013167378117400251 0.8694524168968201\n"
     ]
    },
    {
     "name": "stderr",
     "output_type": "stream",
     "text": [
      "100%|██████████| 2360/2360 [07:20<00:00,  5.36it/s]\n",
      "  0%|          | 1/2360 [00:00<06:35,  5.96it/s]"
     ]
    },
    {
     "name": "stdout",
     "output_type": "stream",
     "text": [
      "154 0.01321091355725131 0.8713523149490356\n"
     ]
    },
    {
     "name": "stderr",
     "output_type": "stream",
     "text": [
      "100%|██████████| 2360/2360 [07:02<00:00,  5.59it/s]\n",
      "  0%|          | 1/2360 [00:00<06:36,  5.95it/s]"
     ]
    },
    {
     "name": "stdout",
     "output_type": "stream",
     "text": [
      "155 0.013190649681965039 0.8749017715454102\n"
     ]
    },
    {
     "name": "stderr",
     "output_type": "stream",
     "text": [
      "100%|██████████| 2360/2360 [07:19<00:00,  5.37it/s]\n",
      "  0%|          | 1/2360 [00:00<06:35,  5.97it/s]"
     ]
    },
    {
     "name": "stdout",
     "output_type": "stream",
     "text": [
      "156 0.013164959768770596 0.8595268130302429\n"
     ]
    },
    {
     "name": "stderr",
     "output_type": "stream",
     "text": [
      "100%|██████████| 2360/2360 [07:02<00:00,  5.59it/s]\n",
      "  0%|          | 1/2360 [00:00<05:21,  7.34it/s]"
     ]
    },
    {
     "name": "stdout",
     "output_type": "stream",
     "text": [
      "157 0.013145354143910397 0.8588370084762573\n"
     ]
    },
    {
     "name": "stderr",
     "output_type": "stream",
     "text": [
      "100%|██████████| 2360/2360 [07:19<00:00,  5.37it/s]\n",
      "  0%|          | 1/2360 [00:00<06:40,  5.89it/s]"
     ]
    },
    {
     "name": "stdout",
     "output_type": "stream",
     "text": [
      "158 0.013127166693165564 0.8796624541282654\n"
     ]
    },
    {
     "name": "stderr",
     "output_type": "stream",
     "text": [
      "100%|██████████| 2360/2360 [07:12<00:00,  5.46it/s]\n",
      "  0%|          | 1/2360 [00:00<06:38,  5.92it/s]"
     ]
    },
    {
     "name": "stdout",
     "output_type": "stream",
     "text": [
      "159 0.01315585099024072 0.8743121027946472\n"
     ]
    },
    {
     "name": "stderr",
     "output_type": "stream",
     "text": [
      "100%|██████████| 2360/2360 [07:02<00:00,  5.59it/s]\n",
      "  0%|          | 0/2360 [00:00<?, ?it/s]"
     ]
    },
    {
     "name": "stdout",
     "output_type": "stream",
     "text": [
      "160 0.013148074871740032 0.8770698308944702\n"
     ]
    },
    {
     "name": "stderr",
     "output_type": "stream",
     "text": [
      "100%|██████████| 2360/2360 [07:19<00:00,  5.37it/s]\n",
      "  0%|          | 0/2360 [00:00<?, ?it/s]"
     ]
    },
    {
     "name": "stdout",
     "output_type": "stream",
     "text": [
      "161 0.01315865586320315 0.8635058403015137\n"
     ]
    },
    {
     "name": "stderr",
     "output_type": "stream",
     "text": [
      "100%|██████████| 2360/2360 [07:02<00:00,  5.58it/s]\n",
      "  0%|          | 1/2360 [00:00<06:25,  6.12it/s]"
     ]
    },
    {
     "name": "stdout",
     "output_type": "stream",
     "text": [
      "162 0.01311766139664713 0.8680830001831055\n"
     ]
    },
    {
     "name": "stderr",
     "output_type": "stream",
     "text": [
      "100%|██████████| 2360/2360 [07:20<00:00,  5.36it/s]\n",
      "  0%|          | 1/2360 [00:00<06:31,  6.03it/s]"
     ]
    },
    {
     "name": "stdout",
     "output_type": "stream",
     "text": [
      "163 0.01312240290950199 0.8753772974014282\n"
     ]
    },
    {
     "name": "stderr",
     "output_type": "stream",
     "text": [
      "100%|██████████| 2360/2360 [07:04<00:00,  5.56it/s]\n",
      "  0%|          | 0/2360 [00:00<?, ?it/s]"
     ]
    },
    {
     "name": "stdout",
     "output_type": "stream",
     "text": [
      "164 0.013209525668688021 0.8672376275062561\n"
     ]
    },
    {
     "name": "stderr",
     "output_type": "stream",
     "text": [
      "100%|██████████| 2360/2360 [07:05<00:00,  5.54it/s]\n",
      "  0%|          | 0/2360 [00:00<?, ?it/s]"
     ]
    },
    {
     "name": "stdout",
     "output_type": "stream",
     "text": [
      "165 0.013148051713036247 0.8663107752799988\n"
     ]
    },
    {
     "name": "stderr",
     "output_type": "stream",
     "text": [
      "100%|██████████| 2360/2360 [07:20<00:00,  5.36it/s]\n",
      "  0%|          | 1/2360 [00:00<06:37,  5.94it/s]"
     ]
    },
    {
     "name": "stdout",
     "output_type": "stream",
     "text": [
      "166 0.013088445015324279 0.8723428845405579\n"
     ]
    },
    {
     "name": "stderr",
     "output_type": "stream",
     "text": [
      "100%|██████████| 2360/2360 [07:02<00:00,  5.59it/s]\n",
      "  0%|          | 1/2360 [00:00<06:35,  5.96it/s]"
     ]
    },
    {
     "name": "stdout",
     "output_type": "stream",
     "text": [
      "167 0.013048970009444653 0.8664073944091797\n"
     ]
    },
    {
     "name": "stderr",
     "output_type": "stream",
     "text": [
      "100%|██████████| 2360/2360 [07:20<00:00,  5.36it/s]\n",
      "  0%|          | 1/2360 [00:00<05:28,  7.17it/s]"
     ]
    },
    {
     "name": "stdout",
     "output_type": "stream",
     "text": [
      "168 0.013076405439465835 0.8706517219543457\n"
     ]
    },
    {
     "name": "stderr",
     "output_type": "stream",
     "text": [
      "100%|██████████| 2360/2360 [07:02<00:00,  5.59it/s]\n",
      "  0%|          | 1/2360 [00:00<06:31,  6.02it/s]"
     ]
    },
    {
     "name": "stdout",
     "output_type": "stream",
     "text": [
      "169 0.013052148140821607 0.8582512736320496\n"
     ]
    },
    {
     "name": "stderr",
     "output_type": "stream",
     "text": [
      "100%|██████████| 2360/2360 [07:12<00:00,  5.45it/s]\n",
      "  0%|          | 1/2360 [00:00<05:33,  7.08it/s]"
     ]
    },
    {
     "name": "stdout",
     "output_type": "stream",
     "text": [
      "170 0.013057554951794335 0.8665174245834351\n"
     ]
    },
    {
     "name": "stderr",
     "output_type": "stream",
     "text": [
      "100%|██████████| 2360/2360 [07:20<00:00,  5.36it/s]\n",
      "  0%|          | 1/2360 [00:00<05:28,  7.18it/s]"
     ]
    },
    {
     "name": "stdout",
     "output_type": "stream",
     "text": [
      "171 0.013092061481033911 0.8635299801826477\n"
     ]
    },
    {
     "name": "stderr",
     "output_type": "stream",
     "text": [
      "100%|██████████| 2360/2360 [07:01<00:00,  5.60it/s]\n",
      "  0%|          | 1/2360 [00:00<06:29,  6.06it/s]"
     ]
    },
    {
     "name": "stdout",
     "output_type": "stream",
     "text": [
      "172 0.012991038673794614 0.8642004132270813\n"
     ]
    },
    {
     "name": "stderr",
     "output_type": "stream",
     "text": [
      "100%|██████████| 2360/2360 [07:20<00:00,  5.36it/s]\n",
      "  0%|          | 1/2360 [00:00<06:35,  5.96it/s]"
     ]
    },
    {
     "name": "stdout",
     "output_type": "stream",
     "text": [
      "173 0.01306364733442323 0.8660329580307007\n"
     ]
    },
    {
     "name": "stderr",
     "output_type": "stream",
     "text": [
      "100%|██████████| 2360/2360 [07:02<00:00,  5.59it/s]\n",
      "  0%|          | 1/2360 [00:00<06:28,  6.07it/s]"
     ]
    },
    {
     "name": "stdout",
     "output_type": "stream",
     "text": [
      "174 0.013018399852455521 0.8677811026573181\n"
     ]
    },
    {
     "name": "stderr",
     "output_type": "stream",
     "text": [
      "100%|██████████| 2360/2360 [07:19<00:00,  5.37it/s]\n",
      "  0%|          | 1/2360 [00:00<06:24,  6.13it/s]"
     ]
    },
    {
     "name": "stdout",
     "output_type": "stream",
     "text": [
      "175 0.012969579068559327 0.8652368187904358\n"
     ]
    },
    {
     "name": "stderr",
     "output_type": "stream",
     "text": [
      "100%|██████████| 2360/2360 [07:12<00:00,  5.46it/s]\n",
      "  0%|          | 1/2360 [00:00<05:21,  7.33it/s]"
     ]
    },
    {
     "name": "stdout",
     "output_type": "stream",
     "text": [
      "176 0.013051391718968363 0.8762533664703369\n"
     ]
    },
    {
     "name": "stderr",
     "output_type": "stream",
     "text": [
      "100%|██████████| 2360/2360 [07:03<00:00,  5.58it/s]\n",
      "  0%|          | 1/2360 [00:00<05:25,  7.24it/s]"
     ]
    },
    {
     "name": "stdout",
     "output_type": "stream",
     "text": [
      "177 0.012934905026209094 0.8676360845565796\n"
     ]
    },
    {
     "name": "stderr",
     "output_type": "stream",
     "text": [
      "100%|██████████| 2360/2360 [07:19<00:00,  5.37it/s]\n",
      "  0%|          | 1/2360 [00:00<05:28,  7.18it/s]"
     ]
    },
    {
     "name": "stdout",
     "output_type": "stream",
     "text": [
      "178 0.012974097432340478 0.8778597116470337\n"
     ]
    },
    {
     "name": "stderr",
     "output_type": "stream",
     "text": [
      "100%|██████████| 2360/2360 [07:02<00:00,  5.59it/s]\n",
      "  0%|          | 1/2360 [00:00<06:32,  6.02it/s]"
     ]
    },
    {
     "name": "stdout",
     "output_type": "stream",
     "text": [
      "179 0.012975947674989208 0.8694836497306824\n"
     ]
    },
    {
     "name": "stderr",
     "output_type": "stream",
     "text": [
      "100%|██████████| 2360/2360 [07:19<00:00,  5.36it/s]\n",
      "  0%|          | 1/2360 [00:00<06:04,  6.47it/s]"
     ]
    },
    {
     "name": "stdout",
     "output_type": "stream",
     "text": [
      "180 0.01305264845528356 0.8646611571311951\n"
     ]
    },
    {
     "name": "stderr",
     "output_type": "stream",
     "text": [
      "100%|██████████| 2360/2360 [07:04<00:00,  5.56it/s]\n",
      "  0%|          | 1/2360 [00:00<06:29,  6.05it/s]"
     ]
    },
    {
     "name": "stdout",
     "output_type": "stream",
     "text": [
      "181 0.012912220800877401 0.8646316528320312\n"
     ]
    },
    {
     "name": "stderr",
     "output_type": "stream",
     "text": [
      "100%|██████████| 2360/2360 [07:05<00:00,  5.54it/s]\n",
      "  0%|          | 1/2360 [00:00<06:30,  6.05it/s]"
     ]
    },
    {
     "name": "stdout",
     "output_type": "stream",
     "text": [
      "182 0.012959904682314423 0.8706281185150146\n"
     ]
    },
    {
     "name": "stderr",
     "output_type": "stream",
     "text": [
      "100%|██████████| 2360/2360 [07:19<00:00,  5.37it/s]\n",
      "  0%|          | 0/2360 [00:00<?, ?it/s]"
     ]
    },
    {
     "name": "stdout",
     "output_type": "stream",
     "text": [
      "183 0.01305668536516798 0.8715200424194336\n"
     ]
    },
    {
     "name": "stderr",
     "output_type": "stream",
     "text": [
      "100%|██████████| 2360/2360 [07:01<00:00,  5.59it/s]\n",
      "  0%|          | 0/2360 [00:00<?, ?it/s]"
     ]
    },
    {
     "name": "stdout",
     "output_type": "stream",
     "text": [
      "184 0.012927964132913989 0.8693456053733826\n"
     ]
    },
    {
     "name": "stderr",
     "output_type": "stream",
     "text": [
      "100%|██████████| 2360/2360 [07:20<00:00,  5.36it/s]\n",
      "  0%|          | 1/2360 [00:00<06:35,  5.97it/s]"
     ]
    },
    {
     "name": "stdout",
     "output_type": "stream",
     "text": [
      "185 0.012920002900924646 0.8669033050537109\n"
     ]
    },
    {
     "name": "stderr",
     "output_type": "stream",
     "text": [
      "100%|██████████| 2360/2360 [07:02<00:00,  5.59it/s]\n",
      "  0%|          | 0/2360 [00:00<?, ?it/s]"
     ]
    },
    {
     "name": "stdout",
     "output_type": "stream",
     "text": [
      "186 0.01294841428811221 0.8564243912696838\n"
     ]
    },
    {
     "name": "stderr",
     "output_type": "stream",
     "text": [
      "100%|██████████| 2360/2360 [07:13<00:00,  5.44it/s]\n",
      "  0%|          | 1/2360 [00:00<06:27,  6.09it/s]"
     ]
    },
    {
     "name": "stdout",
     "output_type": "stream",
     "text": [
      "187 0.01293149699574244 0.8799216151237488\n"
     ]
    },
    {
     "name": "stderr",
     "output_type": "stream",
     "text": [
      "100%|██████████| 2360/2360 [07:20<00:00,  5.36it/s]\n",
      "  0%|          | 1/2360 [00:00<06:29,  6.05it/s]"
     ]
    },
    {
     "name": "stdout",
     "output_type": "stream",
     "text": [
      "188 0.012916284972969988 0.8810272216796875\n"
     ]
    },
    {
     "name": "stderr",
     "output_type": "stream",
     "text": [
      "100%|██████████| 2360/2360 [07:02<00:00,  5.59it/s]\n",
      "  0%|          | 1/2360 [00:00<05:25,  7.24it/s]"
     ]
    },
    {
     "name": "stdout",
     "output_type": "stream",
     "text": [
      "189 0.012896470290076914 0.8691161274909973\n"
     ]
    },
    {
     "name": "stderr",
     "output_type": "stream",
     "text": [
      "100%|██████████| 2360/2360 [07:20<00:00,  5.36it/s]\n",
      "  0%|          | 1/2360 [00:00<06:27,  6.08it/s]"
     ]
    },
    {
     "name": "stdout",
     "output_type": "stream",
     "text": [
      "190 0.012871482146010846 0.8675312399864197\n"
     ]
    },
    {
     "name": "stderr",
     "output_type": "stream",
     "text": [
      "100%|██████████| 2360/2360 [07:02<00:00,  5.58it/s]\n",
      "  0%|          | 0/2360 [00:00<?, ?it/s]"
     ]
    },
    {
     "name": "stdout",
     "output_type": "stream",
     "text": [
      "191 0.012927050260497687 0.8751747012138367\n"
     ]
    },
    {
     "name": "stderr",
     "output_type": "stream",
     "text": [
      "100%|██████████| 2360/2360 [07:19<00:00,  5.37it/s]\n",
      "  0%|          | 1/2360 [00:00<06:06,  6.44it/s]"
     ]
    },
    {
     "name": "stdout",
     "output_type": "stream",
     "text": [
      "192 0.012893478105009714 0.8678687810897827\n"
     ]
    },
    {
     "name": "stderr",
     "output_type": "stream",
     "text": [
      "100%|██████████| 2360/2360 [07:12<00:00,  5.46it/s]\n",
      "  0%|          | 0/2360 [00:00<?, ?it/s]"
     ]
    },
    {
     "name": "stdout",
     "output_type": "stream",
     "text": [
      "193 0.012847475633901616 0.8813547492027283\n"
     ]
    },
    {
     "name": "stderr",
     "output_type": "stream",
     "text": [
      "100%|██████████| 2360/2360 [07:02<00:00,  5.59it/s]\n",
      "  0%|          | 1/2360 [00:00<06:47,  5.79it/s]"
     ]
    },
    {
     "name": "stdout",
     "output_type": "stream",
     "text": [
      "194 0.012880410427987992 0.8655335903167725\n"
     ]
    },
    {
     "name": "stderr",
     "output_type": "stream",
     "text": [
      "100%|██████████| 2360/2360 [07:19<00:00,  5.37it/s]\n",
      "  0%|          | 1/2360 [00:00<06:35,  5.97it/s]"
     ]
    },
    {
     "name": "stdout",
     "output_type": "stream",
     "text": [
      "195 0.012910398220562074 0.8821432590484619\n"
     ]
    },
    {
     "name": "stderr",
     "output_type": "stream",
     "text": [
      "100%|██████████| 2360/2360 [07:02<00:00,  5.59it/s]\n",
      "  0%|          | 1/2360 [00:00<06:29,  6.06it/s]"
     ]
    },
    {
     "name": "stdout",
     "output_type": "stream",
     "text": [
      "196 0.01286649992456561 0.8779321312904358\n"
     ]
    },
    {
     "name": "stderr",
     "output_type": "stream",
     "text": [
      "100%|██████████| 2360/2360 [07:20<00:00,  5.36it/s]\n",
      "  0%|          | 1/2360 [00:00<06:26,  6.10it/s]"
     ]
    },
    {
     "name": "stdout",
     "output_type": "stream",
     "text": [
      "197 0.012849311990013575 0.873960018157959\n"
     ]
    },
    {
     "name": "stderr",
     "output_type": "stream",
     "text": [
      "100%|██████████| 2360/2360 [07:05<00:00,  5.55it/s]\n",
      "  0%|          | 1/2360 [00:00<05:26,  7.24it/s]"
     ]
    },
    {
     "name": "stdout",
     "output_type": "stream",
     "text": [
      "198 0.012817848483065003 0.8674715757369995\n"
     ]
    },
    {
     "name": "stderr",
     "output_type": "stream",
     "text": [
      "100%|██████████| 2360/2360 [07:05<00:00,  5.55it/s]\n"
     ]
    },
    {
     "name": "stdout",
     "output_type": "stream",
     "text": [
      "199 0.013007371443204957 0.8684117197990417\n"
     ]
    }
   ],
   "source": [
    "model = SegNetBasic(3, 8)\n",
    "writer = SummaryWriter(\"./SegNet_without_class_weights_results/\")\n",
    "train_model(model, train_loader, test_loader, device=\"cuda\", writer=writer)"
   ]
  },
  {
   "cell_type": "code",
   "execution_count": 7,
   "metadata": {},
   "outputs": [],
   "source": [
    "colors = torch.tensor([[0, 0, 0],         # class 0 'background'  black\n",
    "                       [255, 0, 0],       # class 1 'grasp'       red\n",
    "                       [255, 255, 0],     # class 2 'cut'         yellow\n",
    "                       [0, 255, 0],       # class 3 'scoop'       green\n",
    "                       [0, 255, 255],     # class 4 'contain'     sky blue\n",
    "                       [0, 0, 255],       # class 5 'pound'       blue\n",
    "                       [255, 0, 255],     # class 6 'support'     purple\n",
    "                       [255, 255, 255]    # class 7 'wrap grasp'  white\n",
    "                      ])"
   ]
  },
  {
   "cell_type": "code",
   "execution_count": 8,
   "metadata": {},
   "outputs": [],
   "source": [
    "def class_to_mask(cls):\n",
    "    \n",
    "    mask = colors[cls].transpose(1, 2).transpose(1, 3)\n",
    "    \n",
    "    return mask"
   ]
  },
  {
   "cell_type": "code",
   "execution_count": 30,
   "metadata": {},
   "outputs": [],
   "source": [
    "def predict(model, sample, device='cpu'):\n",
    "    model.eval()\n",
    "    model.to(device)\n",
    "    \n",
    "    x, y = sample['image'], sample['class']\n",
    "    \n",
    "    \n",
    "    x = x.to(device)\n",
    "    y = y.to(device)\n",
    "\n",
    "    with torch.no_grad():\n",
    "        _, y_pred = model(x).max(1)    # y_pred.shape => (N, 240, 320)\n",
    "    \n",
    "    true_mask = class_to_mask(y).to('cpu')\n",
    "    pred_mask = class_to_mask(y_pred).to('cpu')\n",
    "    \n",
    "    save_image(true_mask, \"./SegNet_without_class_weights_results/true_mask_with_SegNet_without_class_weights.jpg\")\n",
    "    save_image(pred_mask, \"./SegNet_without_class_weights_results/pred_mask_with_SegNet_without_class_weights.jpg\")"
   ]
  },
  {
   "cell_type": "code",
   "execution_count": 59,
   "metadata": {},
   "outputs": [],
   "source": [
    "trained_model = SegNetBasic(3, 8)\n",
    "trained_model.load_state_dict(torch.load(\"./SegNet_without_class_weights_results/final_model.prm\"))"
   ]
  },
  {
   "cell_type": "code",
   "execution_count": 32,
   "metadata": {},
   "outputs": [],
   "source": [
    "eval_data = PartAffordanceDataset('eval.csv',\n",
    "                                transform=transforms.Compose([\n",
    "                                    CenterCrop(),\n",
    "                                    ToTensor(),\n",
    "                                    Normalize()\n",
    "                                ]))"
   ]
  },
  {
   "cell_type": "code",
   "execution_count": 33,
   "metadata": {},
   "outputs": [],
   "source": [
    "def reverse_normalize(x, mean, std):\n",
    "    x[:, 0, :, :] = x[:, 0, :, :] * std[0] + mean[0]\n",
    "    x[:, 1, :, :] = x[:, 1, :, :] * std[1] + mean[1]\n",
    "    x[:, 2, :, :] = x[:, 2, :, :] * std[2] + mean[2]\n",
    "    return x"
   ]
  },
  {
   "cell_type": "code",
   "execution_count": 36,
   "metadata": {},
   "outputs": [],
   "source": [
    "eval_loader = DataLoader(eval_data, batch_size=8, shuffle=False)\n",
    "\n",
    "mean=[55.8630, 59.9099, 91.7419]\n",
    "std=[31.6852, 29.8496, 19.0835]\n",
    "\n",
    "for sample in eval_loader:\n",
    "    trained_model.eval()\n",
    "    \n",
    "    predict(trained_model, sample)\n",
    "    \n",
    "    x = sample[\"image\"]\n",
    "    x = reverse_normalize(x, mean, std)\n",
    "    save_image(x/255, \"./SegNet_without_class_weights_results/original_img_with_SegNet_without_class_weights.jpg\")\n",
    "    \n",
    "    break"
   ]
  },
  {
   "cell_type": "code",
   "execution_count": 6,
   "metadata": {},
   "outputs": [],
   "source": [
    "def crop_center_pil_image(pil_img, crop_width, crop_height):\n",
    "    img_width, img_height = pil_img.size\n",
    "    return pil_img.crop(((img_width - crop_width) // 2,\n",
    "                         (img_height - crop_height) // 2,\n",
    "                         (img_width + crop_width) // 2,\n",
    "                         (img_height + crop_height) // 2))"
   ]
  },
  {
   "cell_type": "code",
   "execution_count": 112,
   "metadata": {},
   "outputs": [],
   "source": [
    "mean=[55.8630, 59.9099, 91.7419]\n",
    "std=[31.6852, 29.8496, 19.0835]\n",
    "\n",
    "def predict_from_image(model, image, device='cpu'):\n",
    "    model.eval()\n",
    "    \n",
    "    image = transforms.functional.resize(image, 420)\n",
    "    image = crop_center_pil_image(image, 320, 240)\n",
    "    image = transforms.functional.to_tensor(image)\n",
    "    image = transforms.functional.normalize(image, mean, std)\n",
    "    image = image.view((1, 3, 240, 320))\n",
    "    print(image.shape)\n",
    "    \n",
    "    with torch.no_grad():\n",
    "        _, y_pred = model(image).max(1)\n",
    "        \n",
    "    y_pred = class_to_mask(y_pred)\n",
    "    \n",
    "    save_image(y_pred, './test_image_with_segnet.jpg')"
   ]
  },
  {
   "cell_type": "code",
   "execution_count": 113,
   "metadata": {},
   "outputs": [],
   "source": [
    "image = Image.open('Image from iOS.jpg')                                                                                "
   ]
  },
  {
   "cell_type": "code",
   "execution_count": 114,
   "metadata": {},
   "outputs": [
    {
     "name": "stdout",
     "output_type": "stream",
     "text": [
      "torch.Size([1, 3, 240, 320])\n"
     ]
    }
   ],
   "source": [
    "predict_from_image(trained_model, image)"
   ]
  },
  {
   "cell_type": "code",
   "execution_count": null,
   "metadata": {},
   "outputs": [],
   "source": []
  }
 ],
 "metadata": {
  "kernelspec": {
   "display_name": "Python 3",
   "language": "python",
   "name": "python3"
  },
  "language_info": {
   "codemirror_mode": {
    "name": "ipython",
    "version": 3
   },
   "file_extension": ".py",
   "mimetype": "text/x-python",
   "name": "python",
   "nbconvert_exporter": "python",
   "pygments_lexer": "ipython3",
   "version": "3.5.5"
  }
 },
 "nbformat": 4,
 "nbformat_minor": 2
}
