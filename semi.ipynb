{
 "cells": [
  {
   "cell_type": "code",
   "execution_count": 4,
   "metadata": {},
   "outputs": [],
   "source": [
    "import torch\n",
    "import torch.optim as optim\n",
    "import torch.nn as nn\n",
    "import torch.nn.functional as F\n",
    "import torchvision\n",
    "\n",
    "import numpy as np"
   ]
  },
  {
   "cell_type": "markdown",
   "metadata": {},
   "source": [
    "### self-training 次元合わせ"
   ]
  },
  {
   "cell_type": "code",
   "execution_count": 57,
   "metadata": {},
   "outputs": [],
   "source": [
    "a = torch.rand((3,240,320))     # confidence map\n",
    "b = torch.rand((3, 8, 240, 320))   # before max\n",
    "c, _ = torch.max(b, dim=1)    # segmentation from DeepLab after max"
   ]
  },
  {
   "cell_type": "code",
   "execution_count": 58,
   "metadata": {
    "scrolled": true
   },
   "outputs": [
    {
     "data": {
      "text/plain": [
       "torch.Size([3, 240, 320])"
      ]
     },
     "execution_count": 58,
     "metadata": {},
     "output_type": "execute_result"
    }
   ],
   "source": [
    "c.shape"
   ]
  },
  {
   "cell_type": "code",
   "execution_count": 59,
   "metadata": {},
   "outputs": [],
   "source": [
    "c[a<0.4] = -1"
   ]
  },
  {
   "cell_type": "code",
   "execution_count": 60,
   "metadata": {
    "collapsed": true
   },
   "outputs": [
    {
     "data": {
      "text/plain": [
       "tensor([[[ 0.9246,  0.9158,  0.7777,  ...,  0.8583,  0.9398,  0.9359],\n",
       "         [-1.0000,  0.8132,  0.9205,  ..., -1.0000,  0.7952,  0.9939],\n",
       "         [-1.0000,  0.9001, -1.0000,  ..., -1.0000,  0.9548, -1.0000],\n",
       "         ...,\n",
       "         [ 0.5817,  0.9697, -1.0000,  ..., -1.0000,  0.9225, -1.0000],\n",
       "         [ 0.9850, -1.0000, -1.0000,  ..., -1.0000,  0.8060,  0.8010],\n",
       "         [ 0.9903,  0.7812, -1.0000,  ..., -1.0000, -1.0000,  0.9551]],\n",
       "\n",
       "        [[-1.0000,  0.9994,  0.9742,  ...,  0.9942,  0.9622,  0.9956],\n",
       "         [-1.0000,  0.9607,  0.9943,  ...,  0.8836, -1.0000,  0.9784],\n",
       "         [ 0.9930, -1.0000,  0.8907,  ...,  0.8023, -1.0000, -1.0000],\n",
       "         ...,\n",
       "         [ 0.9428, -1.0000, -1.0000,  ...,  0.9413,  0.9289, -1.0000],\n",
       "         [ 0.8957,  0.7855,  0.7239,  ..., -1.0000,  0.8861,  0.8826],\n",
       "         [ 0.9620, -1.0000,  0.8585,  ...,  0.9540,  0.8886, -1.0000]],\n",
       "\n",
       "        [[ 0.9821,  0.8477, -1.0000,  ...,  0.7883,  0.9274,  0.5886],\n",
       "         [-1.0000, -1.0000,  0.8914,  ...,  0.8586,  0.8628, -1.0000],\n",
       "         [ 0.9517,  0.9454,  0.7612,  ..., -1.0000, -1.0000, -1.0000],\n",
       "         ...,\n",
       "         [-1.0000,  0.9118,  0.7912,  ..., -1.0000, -1.0000,  0.8124],\n",
       "         [-1.0000, -1.0000, -1.0000,  ...,  0.9024, -1.0000,  0.9615],\n",
       "         [ 0.8013, -1.0000,  0.7339,  ..., -1.0000,  0.7793,  0.7463]]])"
      ]
     },
     "execution_count": 60,
     "metadata": {},
     "output_type": "execute_result"
    }
   ],
   "source": [
    "c"
   ]
  },
  {
   "cell_type": "markdown",
   "metadata": {},
   "source": [
    "# training"
   ]
  },
  {
   "cell_type": "code",
   "execution_count": 62,
   "metadata": {},
   "outputs": [],
   "source": [
    "model = 1\n",
    "model_D = 1"
   ]
  },
  {
   "cell_type": "code",
   "execution_count": 65,
   "metadata": {
    "collapsed": true
   },
   "outputs": [
    {
     "ename": "NameError",
     "evalue": "name 'get_params' is not defined",
     "output_type": "error",
     "traceback": [
      "\u001b[0;31m---------------------------------------------------------------------------\u001b[0m",
      "\u001b[0;31mNameError\u001b[0m                                 Traceback (most recent call last)",
      "\u001b[0;32m<ipython-input-65-f8514795bf15>\u001b[0m in \u001b[0;36m<module>\u001b[0;34m()\u001b[0m\n\u001b[1;32m      2\u001b[0m                         params=[\n\u001b[1;32m      3\u001b[0m                                         {\n\u001b[0;32m----> 4\u001b[0;31m                                             \u001b[0;34m\"params\"\u001b[0m\u001b[0;34m:\u001b[0m \u001b[0mget_params\u001b[0m\u001b[0;34m(\u001b[0m\u001b[0mmodel\u001b[0m\u001b[0;34m.\u001b[0m\u001b[0mmodule\u001b[0m\u001b[0;34m,\u001b[0m \u001b[0mkey\u001b[0m\u001b[0;34m=\u001b[0m\u001b[0;34m\"1x\"\u001b[0m\u001b[0;34m)\u001b[0m\u001b[0;34m,\u001b[0m\u001b[0;34m\u001b[0m\u001b[0m\n\u001b[0m\u001b[1;32m      5\u001b[0m                                             \u001b[0;34m\"lr\"\u001b[0m\u001b[0;34m:\u001b[0m \u001b[0mlearning_rate\u001b[0m\u001b[0;34m,\u001b[0m\u001b[0;34m\u001b[0m\u001b[0m\n\u001b[1;32m      6\u001b[0m                                             \u001b[0;34m\"weight_decay\"\u001b[0m\u001b[0;34m:\u001b[0m \u001b[0mCONFIG\u001b[0m\u001b[0;34m.\u001b[0m\u001b[0mWEIGHT_DECAY\u001b[0m\u001b[0;34m,\u001b[0m\u001b[0;34m\u001b[0m\u001b[0m\n",
      "\u001b[0;31mNameError\u001b[0m: name 'get_params' is not defined"
     ]
    }
   ],
   "source": [
    "optimizer = optim.SGD(\n",
    "                        params=[\n",
    "                                        {\n",
    "                                            \"params\": get_params(model.module, key=\"1x\"),\n",
    "                                            \"lr\": learning_rate,\n",
    "                                            \"weight_decay\": CONFIG.WEIGHT_DECAY,\n",
    "                                        },\n",
    "                                        {\n",
    "                                            \"params\": get_params(model.module, key=\"10x\"),\n",
    "                                            \"lr\": 10 * CONFIG.LR,\n",
    "                                            \"weight_decay\": CONFIG.WEIGHT_DECAY,\n",
    "                                        },\n",
    "                                        {\n",
    "                                            \"params\": get_params(model.module, key=\"20x\"),\n",
    "                                            \"lr\": 20 * CONFIG.LR,\n",
    "                                            \"weight_decay\": 0.0,\n",
    "                                        }],\n",
    "                    momentum=CONFIG.MOMENTUM)\n",
    "\n",
    "optimizer_D = optim.Adam(model_D.parameters(), lr=1e-4, betas=(0.9,0.99))"
   ]
  },
  {
   "cell_type": "code",
   "execution_count": null,
   "metadata": {},
   "outputs": [],
   "source": [
    "def poly_lr_scheduler(optimizer, init_lr, iter, lr_decay_iter, max_iter, power):\n",
    "    if iter % lr_decay_iter or iter > max_iter:\n",
    "        return None\n",
    "    new_lr = init_lr * (1 - float(iter) / max_iter) ** power\n",
    "    optimizer.param_groups[0][\"lr\"] = new_lr\n",
    "    optimizer.param_groups[1][\"lr\"] = 10 * new_lr\n",
    "    optimizer.param_groups[2][\"lr\"] = 20 * new_lr"
   ]
  },
  {
   "cell_type": "code",
   "execution_count": 66,
   "metadata": {},
   "outputs": [],
   "source": [
    "def poly_lr_scheduler_D(optimizer, init_lr, iter, lr_decay_iter, max_iter, power):\n",
    "    if iter % lr_decay_iter or iter > max_iter:\n",
    "        return None\n",
    "    new_lr = init_lr * (1 - float(iter) / max_iter) ** power\n",
    "    optimizer.param_groups[0][\"lr\"] = new_lr\n",
    "    if len(optimizer.param_groups) > 1:\n",
    "        optimizer.param_groups[1]['lr'] = 10 * new_lr"
   ]
  },
  {
   "cell_type": "code",
   "execution_count": 75,
   "metadata": {},
   "outputs": [],
   "source": [
    "criterion_ce_full = nn.CrossEntropyLoss()    # weight=class_weight.to(device)\n",
    "criterion_ce_semi = nn.CrossEntropyLoss(ignore_index=255)\n",
    "criterion_bce = nn.BCEWithLogitsLoss()"
   ]
  },
  {
   "cell_type": "code",
   "execution_count": 67,
   "metadata": {
    "collapsed": true
   },
   "outputs": [
    {
     "ename": "NameError",
     "evalue": "name 'batch_size' is not defined",
     "output_type": "error",
     "traceback": [
      "\u001b[0;31m---------------------------------------------------------------------------\u001b[0m",
      "\u001b[0;31mNameError\u001b[0m                                 Traceback (most recent call last)",
      "\u001b[0;32m<ipython-input-67-988b385938a5>\u001b[0m in \u001b[0;36m<module>\u001b[0;34m()\u001b[0m\n\u001b[1;32m      1\u001b[0m \u001b[0;31m# supplementary constant for discriminator\u001b[0m\u001b[0;34m\u001b[0m\u001b[0;34m\u001b[0m\u001b[0m\n\u001b[0;32m----> 2\u001b[0;31m \u001b[0mones\u001b[0m \u001b[0;34m=\u001b[0m \u001b[0mtorch\u001b[0m\u001b[0;34m.\u001b[0m\u001b[0mones\u001b[0m\u001b[0;34m(\u001b[0m\u001b[0mbatch_size\u001b[0m\u001b[0;34m,\u001b[0m \u001b[0;36m240\u001b[0m\u001b[0;34m,\u001b[0m \u001b[0;36m320\u001b[0m\u001b[0;34m)\u001b[0m\u001b[0;34m.\u001b[0m\u001b[0mto\u001b[0m\u001b[0;34m(\u001b[0m\u001b[0mdevice\u001b[0m\u001b[0;34m)\u001b[0m\u001b[0;34m\u001b[0m\u001b[0m\n\u001b[0m\u001b[1;32m      3\u001b[0m \u001b[0mzeros\u001b[0m \u001b[0;34m=\u001b[0m \u001b[0mtorch\u001b[0m\u001b[0;34m.\u001b[0m\u001b[0mzeros\u001b[0m\u001b[0;34m(\u001b[0m\u001b[0mbatch_size\u001b[0m\u001b[0;34m,\u001b[0m \u001b[0;36m240\u001b[0m\u001b[0;34m,\u001b[0m \u001b[0;36m320\u001b[0m\u001b[0;34m)\u001b[0m\u001b[0;34m.\u001b[0m\u001b[0mto\u001b[0m\u001b[0;34m(\u001b[0m\u001b[0mdevice\u001b[0m\u001b[0;34m)\u001b[0m\u001b[0;34m\u001b[0m\u001b[0m\n",
      "\u001b[0;31mNameError\u001b[0m: name 'batch_size' is not defined"
     ]
    }
   ],
   "source": [
    "# supplementary constant for discriminator\n",
    "ones = torch.ones(batch_size, 240, 320).to(device)\n",
    "zeros = torch.zeros(batch_size, 240, 320).to(device)"
   ]
  },
  {
   "cell_type": "code",
   "execution_count": null,
   "metadata": {},
   "outputs": [],
   "source": [
    "if writer_flag:\n",
    "    writer = SummaryWriter('./result/')"
   ]
  },
  {
   "cell_type": "code",
   "execution_count": 79,
   "metadata": {},
   "outputs": [],
   "source": [
    "def full_train(model, model_D, sample, device):\n",
    "    ''' full supervised learning '''\n",
    "   \n",
    "    model.train()\n",
    "    mode.freeze_bn()\n",
    "    model_D.train()\n",
    "\n",
    "    # train segmentation network\n",
    "    batch_len = len(sample)\n",
    "    x, y = sample['image'], sample['class']\n",
    "\n",
    "    x = x.to(device)\n",
    "    y = y.to(device)\n",
    "\n",
    "    h = model(x)     # shape => (N, 8, H/8, W/8)\n",
    "    h = F.interpolate(h, (240, 320), mode='bilinear')\n",
    "\n",
    "    h_ = h.detach()    # h_ is for calculating loss for discriminator\n",
    "    y_ = h.detach()    # y_is for the same purpose\n",
    "\n",
    "    loss_ce = criterion_ce_full(h, y)\n",
    " loss_adv = criterion_bce(model_D(h), one[:batch_len]) 出力検証\n",
    "    loss_full = loss_ce + loss_adv\n",
    "\n",
    "    optimizer.zero_grad()\n",
    "    optimizer_D.zero_grad()\n",
    "    loss_full.backward()\n",
    "    optimizer.step()\n",
    "\n",
    "\n",
    "    # train discriminator\n",
    "    loss_D_fake = criterion_bce(h_, zeros[:batch_len])\n",
    "    loss_D_real = criterion_bce(y_, ones[:batch_len])\n",
    "    loss_D = loss_D_fake + loss_D_real\n",
    "\n",
    "    optimizer.zero_grad()\n",
    "    optimizer_D.zero_grad()\n",
    "    loss_D.backward()\n",
    "    optimizer_D.step()\n",
    "\n",
    "    return loss_full.item(), loss_D.item()"
   ]
  },
  {
   "cell_type": "code",
   "execution_count": null,
   "metadata": {},
   "outputs": [],
   "source": [
    "def semi_train(model, model_D, sample, device):\n",
    "    \"\"\" semi-supervised learning. Discriminator is not trained. \"\"\"\n",
    "\n",
    "    # train segmentation network\n",
    "    batch_len = len(sample)\n",
    "    x = sample['image']\n",
    "    x = x.to(device)\n",
    "\n",
    "    h = model(x)     # shape => (N, 8, H/8, W/8)\n",
    "    h = F.interpolate(h, (240, 320), mode='bilinear')\n",
    "    \n",
    "    out = model_D(h)    # shape => (N, W, H)\n",
    "    \n",
    " loss_adv = criterion_bce(model_D(h), one[:batch_len])    出力検証 one-hot の逆にしなきゃいけない？\n",
    "\n",
    "    \n",
    "    optimizer.zero_grad()\n",
    "    optimizer_D.zero_grad()\n",
    "    loss_D.backward()\n",
    "    optimizer_D.step()\n",
    "\n",
    "    return loss_full.item(), loss_D.item()"
   ]
  },
  {
   "cell_type": "code",
   "execution_count": null,
   "metadata": {},
   "outputs": [],
   "source": [
    "losses_full = []\n",
    "losses_semi =[]\n",
    "losses_D = []\n",
    "class_IOU = []\n",
    "\n",
    "for epoch in range(max_epoch=200):\n",
    "    \n",
    "    model.train()\n",
    "    mode.freeze_bn()\n",
    "    model_D.train()\n",
    "    \n",
    "    epoch_loss_full = 0.0\n",
    "    epoch_loss_D = 0.0\n",
    "    epoch_loss_semi = 0.0\n",
    "    \n",
    "    poly_lr_scheduler(\n",
    "        optimizer=optimizer,\n",
    "        init_lr=CONFIG.LR,\n",
    "        iter=iteration - 1,\n",
    "        lr_decay_iter=CONFIG.LR_DECAY,\n",
    "        max_iter=CONFIG.ITER_MAX,\n",
    "        power=CONFIG.POLY_POWER,\n",
    "    )\n",
    "\n",
    "    poly_lr_scheduler(\n",
    "        optimizer=optimizer,\n",
    "        init_lr=CONFIG.LR,\n",
    "        iter=iteration - 1,\n",
    "        lr_decay_iter=CONFIG.LR_DECAY,\n",
    "        max_iter=CONFIG.ITER_MAX,\n",
    "        power=CONFIG.POLY_POWER,\n",
    "    )\n",
    "    \n",
    "    \n",
    "    # only supervised learning\n",
    "    if epoch < 5:\n",
    "        for i, sample in enumerate(train_loader_with_label):\n",
    "            \n",
    "            loss_full, loss_D = full_train(model, model_D, sample, device)\n",
    "            \n",
    "            epoch_loss_full += loss_full\n",
    "            epoch_loss_D += loss_D\n",
    "            \n",
    "        losses_full.append(epoch_loss_full / i)   # mean loss over all samples\n",
    "        losses_full.append(epoch_loss_D / i)\n",
    "        \n",
    "    \n",
    "    # semi-supervised learning\n",
    "    if epoch >= 5:\n",
    "        for i, (sample1, sample2) in enumerate(zip(train_loader_with_label, train_loader_without_label)):\n",
    "            \n",
    "            \n",
    "        \n",
    "        "
   ]
  },
  {
   "cell_type": "code",
   "execution_count": 71,
   "metadata": {},
   "outputs": [
    {
     "data": {
      "text/plain": [
       "3"
      ]
     },
     "execution_count": 71,
     "metadata": {},
     "output_type": "execute_result"
    }
   ],
   "source": []
  },
  {
   "cell_type": "code",
   "execution_count": null,
   "metadata": {},
   "outputs": [],
   "source": []
  },
  {
   "cell_type": "code",
   "execution_count": null,
   "metadata": {},
   "outputs": [],
   "source": []
  },
  {
   "cell_type": "code",
   "execution_count": null,
   "metadata": {},
   "outputs": [],
   "source": []
  },
  {
   "cell_type": "code",
   "execution_count": null,
   "metadata": {},
   "outputs": [],
   "source": []
  },
  {
   "cell_type": "code",
   "execution_count": null,
   "metadata": {},
   "outputs": [],
   "source": []
  },
  {
   "cell_type": "code",
   "execution_count": null,
   "metadata": {},
   "outputs": [],
   "source": []
  },
  {
   "cell_type": "code",
   "execution_count": null,
   "metadata": {},
   "outputs": [],
   "source": []
  },
  {
   "cell_type": "code",
   "execution_count": null,
   "metadata": {},
   "outputs": [],
   "source": []
  },
  {
   "cell_type": "code",
   "execution_count": null,
   "metadata": {},
   "outputs": [],
   "source": []
  },
  {
   "cell_type": "code",
   "execution_count": null,
   "metadata": {},
   "outputs": [],
   "source": []
  },
  {
   "cell_type": "code",
   "execution_count": null,
   "metadata": {},
   "outputs": [],
   "source": []
  },
  {
   "cell_type": "code",
   "execution_count": null,
   "metadata": {},
   "outputs": [],
   "source": []
  },
  {
   "cell_type": "code",
   "execution_count": null,
   "metadata": {},
   "outputs": [],
   "source": []
  },
  {
   "cell_type": "code",
   "execution_count": null,
   "metadata": {},
   "outputs": [],
   "source": []
  },
  {
   "cell_type": "code",
   "execution_count": null,
   "metadata": {},
   "outputs": [],
   "source": []
  },
  {
   "cell_type": "code",
   "execution_count": null,
   "metadata": {},
   "outputs": [],
   "source": []
  },
  {
   "cell_type": "code",
   "execution_count": null,
   "metadata": {},
   "outputs": [],
   "source": []
  },
  {
   "cell_type": "code",
   "execution_count": null,
   "metadata": {},
   "outputs": [],
   "source": []
  },
  {
   "cell_type": "code",
   "execution_count": null,
   "metadata": {},
   "outputs": [],
   "source": []
  },
  {
   "cell_type": "code",
   "execution_count": null,
   "metadata": {},
   "outputs": [],
   "source": []
  },
  {
   "cell_type": "code",
   "execution_count": null,
   "metadata": {},
   "outputs": [],
   "source": []
  },
  {
   "cell_type": "code",
   "execution_count": null,
   "metadata": {},
   "outputs": [],
   "source": []
  }
 ],
 "metadata": {
  "kernelspec": {
   "display_name": "Python 3",
   "language": "python",
   "name": "python3"
  },
  "language_info": {
   "codemirror_mode": {
    "name": "ipython",
    "version": 3
   },
   "file_extension": ".py",
   "mimetype": "text/x-python",
   "name": "python",
   "nbconvert_exporter": "python",
   "pygments_lexer": "ipython3",
   "version": "3.5.5"
  }
 },
 "nbformat": 4,
 "nbformat_minor": 2
}
