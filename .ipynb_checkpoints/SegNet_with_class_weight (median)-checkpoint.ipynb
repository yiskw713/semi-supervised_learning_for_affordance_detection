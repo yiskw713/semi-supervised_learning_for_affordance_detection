{
 "cells": [
  {
   "cell_type": "code",
   "execution_count": 1,
   "metadata": {},
   "outputs": [],
   "source": [
    "import torch\n",
    "import torch.nn as nn\n",
    "import torch.optim as optim\n",
    "import torch.nn.functional as F\n",
    "import torch.utils.data\n",
    "import torchvision\n",
    "\n",
    "from torch.utils.data import Dataset, DataLoader\n",
    "from torchvision import transforms\n",
    "from torchvision.utils import save_image\n",
    "\n",
    "import pandas as pd\n",
    "import numpy as np\n",
    "import scipy.io\n",
    "import skimage.io\n",
    "\n",
    "from PIL import Image, ImageFilter"
   ]
  },
  {
   "cell_type": "markdown",
   "metadata": {},
   "source": [
    "# Define Model"
   ]
  },
  {
   "cell_type": "code",
   "execution_count": 2,
   "metadata": {},
   "outputs": [],
   "source": [
    "class Encoder(nn.Module):\n",
    "    def __init__(self, in_channel, out_channel):\n",
    "        super().__init__()\n",
    "        \n",
    "        self.conv = nn.Conv2d(in_channel, out_channel, kernel_size=3, padding=1)\n",
    "        self.bn = nn.BatchNorm2d(out_channel)\n",
    "        \n",
    "    def forward(self, x):\n",
    "        x = self.conv(x)\n",
    "        x = self.bn(x)\n",
    "        x = F.relu(x)\n",
    "        x, idx = F.max_pool2d(x, kernel_size=2, stride=2, return_indices=True)\n",
    "        return x, idx"
   ]
  },
  {
   "cell_type": "code",
   "execution_count": 3,
   "metadata": {},
   "outputs": [],
   "source": [
    "class Decoder(nn.Module):\n",
    "    def __init__(self, in_channel, out_channel):\n",
    "        super().__init__()\n",
    "        \n",
    "        self.conv = nn.Conv2d(in_channel, out_channel, kernel_size=3, padding=1)\n",
    "        self.bn = nn.BatchNorm2d(out_channel)\n",
    "        \n",
    "    def forward(self, x):\n",
    "        x = self.conv(x)\n",
    "        x = self.bn(x)\n",
    "        x = F.relu(x)\n",
    "        return x"
   ]
  },
  {
   "cell_type": "code",
   "execution_count": 4,
   "metadata": {},
   "outputs": [],
   "source": [
    "class SegNetBasic(nn.Module):\n",
    "    \"\"\" \n",
    "        SegNet Basic is a smaller version of SegNet\n",
    "        Please refer to this repository:\n",
    "        https://github.com/0bserver07/Keras-SegNet-Basic\n",
    "    \"\"\"\n",
    "    \n",
    "    def __init__(self, in_channel, out_channel):\n",
    "        super().__init__()\n",
    "        \n",
    "        self.encoder1 = Encoder(in_channel, 64)\n",
    "        self.encoder2 = Encoder(64, 80)\n",
    "        self.encoder3 = Encoder(80, 96)\n",
    "        self.encoder4 = Encoder(96, 128)\n",
    "        \n",
    "        self.decoder1 = Decoder(128, 96)\n",
    "        self.decoder2 = Decoder(96, 80)\n",
    "        self.decoder3 = Decoder(80, 64)\n",
    "        self.decoder4 = Decoder(64, out_channel)\n",
    "        \n",
    "    def forward(self, x):\n",
    "        size1 = x.size()\n",
    "        x, idx1 = self.encoder1(x)\n",
    "\n",
    "        size2 = x.size()\n",
    "        x, idx2 = self.encoder2(x)\n",
    "\n",
    "        size3 = x.size()\n",
    "        x, idx3 = self.encoder3(x)\n",
    "        \n",
    "        size4 = x.size()\n",
    "        x, idx4 = self.encoder4(x)\n",
    "\n",
    "        x = F.max_unpool2d(x, idx4, kernel_size=2, stride=2, output_size=size4)\n",
    "        x = self.decoder1(x)\n",
    "        \n",
    "        x = F.max_unpool2d(x, idx3, kernel_size=2, stride=2, output_size=size3)\n",
    "        x = self.decoder2(x)\n",
    "\n",
    "        x = F.max_unpool2d(x, idx2, kernel_size=2, stride=2, output_size=size2)\n",
    "        x = self.decoder3(x)\n",
    "\n",
    "        x = F.max_unpool2d(x, idx1, kernel_size=2, stride=2, output_size=size1)\n",
    "        x = self.decoder4(x)\n",
    "\n",
    "        return x"
   ]
  },
  {
   "cell_type": "markdown",
   "metadata": {},
   "source": [
    "# Dataset"
   ]
  },
  {
   "cell_type": "code",
   "execution_count": 5,
   "metadata": {
    "scrolled": true
   },
   "outputs": [
    {
     "name": "stdout",
     "output_type": "stream",
     "text": [
      "['./part-affordance-dataset/tools/mug_15', './part-affordance-dataset/tools/knife_12', './part-affordance-dataset/tools/spoon_01', './part-affordance-dataset/tools/ladle_04', './part-affordance-dataset/tools/trowel_02', './part-affordance-dataset/tools/scissors_01', './part-affordance-dataset/tools/bowl_08', './part-affordance-dataset/tools/tenderizer_02', './part-affordance-dataset/tools/shovel_02', './part-affordance-dataset/tools/bowl_07', './part-affordance-dataset/tools/spoon_02', './part-affordance-dataset/tools/saw_03', './part-affordance-dataset/tools/cup_04', './part-affordance-dataset/tools/spoon_06', './part-affordance-dataset/tools/spoon_04', './part-affordance-dataset/tools/spoon_08', './part-affordance-dataset/tools/mug_19', './part-affordance-dataset/tools/pot_01', './part-affordance-dataset/tools/knife_11', './part-affordance-dataset/tools/scoop_02', './part-affordance-dataset/tools/bowl_02', './part-affordance-dataset/tools/cup_05', './part-affordance-dataset/tools/mug_20', './part-affordance-dataset/tools/bowl_04', './part-affordance-dataset/tools/ladle_05', './part-affordance-dataset/tools/scissors_08', './part-affordance-dataset/tools/bowl_03', './part-affordance-dataset/tools/hammer_02', './part-affordance-dataset/tools/turner_03', './part-affordance-dataset/tools/turner_05', './part-affordance-dataset/tools/knife_04', './part-affordance-dataset/tools/mug_17', './part-affordance-dataset/tools/knife_07', './part-affordance-dataset/tools/cup_03', './part-affordance-dataset/tools/ladle_02', './part-affordance-dataset/tools/scissors_07', './part-affordance-dataset/tools/shears_01', './part-affordance-dataset/tools/scissors_05', './part-affordance-dataset/tools/turner_08', './part-affordance-dataset/tools/mallet_03', './part-affordance-dataset/tools/mug_10', './part-affordance-dataset/tools/mug_09', './part-affordance-dataset/tools/mug_14', './part-affordance-dataset/tools/mug_16', './part-affordance-dataset/tools/scissors_03', './part-affordance-dataset/tools/knife_03', './part-affordance-dataset/tools/ladle_03', './part-affordance-dataset/tools/shovel_01', './part-affordance-dataset/tools/mug_01', './part-affordance-dataset/tools/turner_04', './part-affordance-dataset/tools/spoon_05', './part-affordance-dataset/tools/ladle_01', './part-affordance-dataset/tools/knife_08', './part-affordance-dataset/tools/mug_12', './part-affordance-dataset/tools/tenderizer_01', './part-affordance-dataset/tools/mallet_04', './part-affordance-dataset/tools/saw_01', './part-affordance-dataset/tools/mug_07', './part-affordance-dataset/tools/trowel_03', './part-affordance-dataset/tools/spoon_09', './part-affordance-dataset/tools/scissors_06', './part-affordance-dataset/tools/mug_05', './part-affordance-dataset/tools/bowl_05', './part-affordance-dataset/tools/pot_02', './part-affordance-dataset/tools/knife_01', './part-affordance-dataset/tools/scoop_01', './part-affordance-dataset/tools/trowel_01', './part-affordance-dataset/tools/spoon_10', './part-affordance-dataset/tools/knife_10', './part-affordance-dataset/tools/knife_02', './part-affordance-dataset/tools/cup_06', './part-affordance-dataset/tools/turner_01', './part-affordance-dataset/tools/mug_11', './part-affordance-dataset/tools/knife_09', './part-affordance-dataset/tools/trowel_04', './part-affordance-dataset/tools/turner_06', './part-affordance-dataset/tools/bowl_09', './part-affordance-dataset/tools/cup_02', './part-affordance-dataset/tools/knife_06', './part-affordance-dataset/tools/saw_02', './part-affordance-dataset/tools/cup_01', './part-affordance-dataset/tools/hammer_03', './part-affordance-dataset/tools/mallet_01', './part-affordance-dataset/tools/mug_03', './part-affordance-dataset/tools/turner_02', './part-affordance-dataset/tools/shears_02', './part-affordance-dataset/tools/turner_07', './part-affordance-dataset/tools/mug_08', './part-affordance-dataset/tools/hammer_04', './part-affordance-dataset/tools/bowl_06', './part-affordance-dataset/tools/hammer_01', './part-affordance-dataset/tools/bowl_10', './part-affordance-dataset/tools/mug_04', './part-affordance-dataset/tools/trowel_05', './part-affordance-dataset/tools/mallet_02', './part-affordance-dataset/tools/mug_02', './part-affordance-dataset/tools/spoon_03', './part-affordance-dataset/tools/spoon_07', './part-affordance-dataset/tools/scissors_02', './part-affordance-dataset/tools/mug_06', './part-affordance-dataset/tools/mug_18', './part-affordance-dataset/tools/bowl_01', './part-affordance-dataset/tools/mug_13', './part-affordance-dataset/tools/knife_05', './part-affordance-dataset/tools/scissors_04']\n",
      "105\n"
     ]
    }
   ],
   "source": [
    "# count the number of pixels in each affordance\n",
    "import glob\n",
    "\n",
    "path_list = glob.glob('./part-affordance-dataset/tools/*', recursive=True)\n",
    "print(path_list)\n",
    "print(len(path_list))"
   ]
  },
  {
   "cell_type": "code",
   "execution_count": 6,
   "metadata": {
    "scrolled": true
   },
   "outputs": [],
   "source": [
    "image_path_list = []\n",
    "\n",
    "for path in path_list:\n",
    "    i = glob.glob(path + '/*rgb.jpg')\n",
    "    \n",
    "    image_path_list += i"
   ]
  },
  {
   "cell_type": "code",
   "execution_count": 7,
   "metadata": {},
   "outputs": [],
   "source": [
    "class_path_list = []\n",
    "\n",
    "for path in image_path_list:\n",
    "    c = path[:-7] + 'label.mat'\n",
    "    class_path_list.append(c)"
   ]
  },
  {
   "cell_type": "code",
   "execution_count": 11,
   "metadata": {},
   "outputs": [],
   "source": [
    "df = pd.DataFrame({\n",
    "    'image_path': image_path_list,\n",
    "    'class_path': class_path_list},\n",
    "    columns=['image_path', 'class_path']\n",
    ")"
   ]
  },
  {
   "cell_type": "code",
   "execution_count": 5,
   "metadata": {},
   "outputs": [],
   "source": [
    "# # write data as csv_file\n",
    "# df.to_csv('image_class_path.csv', index=None)"
   ]
  },
  {
   "cell_type": "code",
   "execution_count": 14,
   "metadata": {},
   "outputs": [],
   "source": [
    "df = pd.read_csv(\"image_class_path.csv\")"
   ]
  },
  {
   "cell_type": "code",
   "execution_count": 15,
   "metadata": {},
   "outputs": [],
   "source": [
    "df_s = df.sample(frac=1)"
   ]
  },
  {
   "cell_type": "code",
   "execution_count": 16,
   "metadata": {
    "scrolled": true
   },
   "outputs": [
    {
     "data": {
      "text/html": [
       "<div>\n",
       "<style scoped>\n",
       "    .dataframe tbody tr th:only-of-type {\n",
       "        vertical-align: middle;\n",
       "    }\n",
       "\n",
       "    .dataframe tbody tr th {\n",
       "        vertical-align: top;\n",
       "    }\n",
       "\n",
       "    .dataframe thead th {\n",
       "        text-align: right;\n",
       "    }\n",
       "</style>\n",
       "<table border=\"1\" class=\"dataframe\">\n",
       "  <thead>\n",
       "    <tr style=\"text-align: right;\">\n",
       "      <th></th>\n",
       "      <th>image_path</th>\n",
       "      <th>class_path</th>\n",
       "    </tr>\n",
       "  </thead>\n",
       "  <tbody>\n",
       "    <tr>\n",
       "      <th>24546</th>\n",
       "      <td>./part-affordance-dataset/tools/hammer_04/hamm...</td>\n",
       "      <td>./part-affordance-dataset/tools/hammer_04/hamm...</td>\n",
       "    </tr>\n",
       "    <tr>\n",
       "      <th>25558</th>\n",
       "      <td>./part-affordance-dataset/tools/mug_04/mug_04_...</td>\n",
       "      <td>./part-affordance-dataset/tools/mug_04/mug_04_...</td>\n",
       "    </tr>\n",
       "    <tr>\n",
       "      <th>17133</th>\n",
       "      <td>./part-affordance-dataset/tools/bowl_05/bowl_0...</td>\n",
       "      <td>./part-affordance-dataset/tools/bowl_05/bowl_0...</td>\n",
       "    </tr>\n",
       "    <tr>\n",
       "      <th>26672</th>\n",
       "      <td>./part-affordance-dataset/tools/spoon_03/spoon...</td>\n",
       "      <td>./part-affordance-dataset/tools/spoon_03/spoon...</td>\n",
       "    </tr>\n",
       "    <tr>\n",
       "      <th>10798</th>\n",
       "      <td>./part-affordance-dataset/tools/mallet_03/mall...</td>\n",
       "      <td>./part-affordance-dataset/tools/mallet_03/mall...</td>\n",
       "    </tr>\n",
       "    <tr>\n",
       "      <th>11685</th>\n",
       "      <td>./part-affordance-dataset/tools/mug_14/mug_14_...</td>\n",
       "      <td>./part-affordance-dataset/tools/mug_14/mug_14_...</td>\n",
       "    </tr>\n",
       "    <tr>\n",
       "      <th>5518</th>\n",
       "      <td>./part-affordance-dataset/tools/scoop_02/scoop...</td>\n",
       "      <td>./part-affordance-dataset/tools/scoop_02/scoop...</td>\n",
       "    </tr>\n",
       "    <tr>\n",
       "      <th>7302</th>\n",
       "      <td>./part-affordance-dataset/tools/bowl_03/bowl_0...</td>\n",
       "      <td>./part-affordance-dataset/tools/bowl_03/bowl_0...</td>\n",
       "    </tr>\n",
       "    <tr>\n",
       "      <th>28594</th>\n",
       "      <td>./part-affordance-dataset/tools/scissors_04/sc...</td>\n",
       "      <td>./part-affordance-dataset/tools/scissors_04/sc...</td>\n",
       "    </tr>\n",
       "    <tr>\n",
       "      <th>26333</th>\n",
       "      <td>./part-affordance-dataset/tools/mug_02/mug_02_...</td>\n",
       "      <td>./part-affordance-dataset/tools/mug_02/mug_02_...</td>\n",
       "    </tr>\n",
       "    <tr>\n",
       "      <th>22093</th>\n",
       "      <td>./part-affordance-dataset/tools/cup_01/cup_01_...</td>\n",
       "      <td>./part-affordance-dataset/tools/cup_01/cup_01_...</td>\n",
       "    </tr>\n",
       "    <tr>\n",
       "      <th>6303</th>\n",
       "      <td>./part-affordance-dataset/tools/mug_20/mug_20_...</td>\n",
       "      <td>./part-affordance-dataset/tools/mug_20/mug_20_...</td>\n",
       "    </tr>\n",
       "    <tr>\n",
       "      <th>15485</th>\n",
       "      <td>./part-affordance-dataset/tools/saw_01/saw_01_...</td>\n",
       "      <td>./part-affordance-dataset/tools/saw_01/saw_01_...</td>\n",
       "    </tr>\n",
       "    <tr>\n",
       "      <th>22057</th>\n",
       "      <td>./part-affordance-dataset/tools/cup_01/cup_01_...</td>\n",
       "      <td>./part-affordance-dataset/tools/cup_01/cup_01_...</td>\n",
       "    </tr>\n",
       "    <tr>\n",
       "      <th>9439</th>\n",
       "      <td>./part-affordance-dataset/tools/cup_03/cup_03_...</td>\n",
       "      <td>./part-affordance-dataset/tools/cup_03/cup_03_...</td>\n",
       "    </tr>\n",
       "    <tr>\n",
       "      <th>2715</th>\n",
       "      <td>./part-affordance-dataset/tools/bowl_07/bowl_0...</td>\n",
       "      <td>./part-affordance-dataset/tools/bowl_07/bowl_0...</td>\n",
       "    </tr>\n",
       "    <tr>\n",
       "      <th>2533</th>\n",
       "      <td>./part-affordance-dataset/tools/shovel_02/shov...</td>\n",
       "      <td>./part-affordance-dataset/tools/shovel_02/shov...</td>\n",
       "    </tr>\n",
       "    <tr>\n",
       "      <th>15034</th>\n",
       "      <td>./part-affordance-dataset/tools/tenderizer_01/...</td>\n",
       "      <td>./part-affordance-dataset/tools/tenderizer_01/...</td>\n",
       "    </tr>\n",
       "    <tr>\n",
       "      <th>3812</th>\n",
       "      <td>./part-affordance-dataset/tools/spoon_06/spoon...</td>\n",
       "      <td>./part-affordance-dataset/tools/spoon_06/spoon...</td>\n",
       "    </tr>\n",
       "    <tr>\n",
       "      <th>5922</th>\n",
       "      <td>./part-affordance-dataset/tools/cup_05/cup_05_...</td>\n",
       "      <td>./part-affordance-dataset/tools/cup_05/cup_05_...</td>\n",
       "    </tr>\n",
       "    <tr>\n",
       "      <th>22080</th>\n",
       "      <td>./part-affordance-dataset/tools/cup_01/cup_01_...</td>\n",
       "      <td>./part-affordance-dataset/tools/cup_01/cup_01_...</td>\n",
       "    </tr>\n",
       "    <tr>\n",
       "      <th>4960</th>\n",
       "      <td>./part-affordance-dataset/tools/pot_01/pot_01_...</td>\n",
       "      <td>./part-affordance-dataset/tools/pot_01/pot_01_...</td>\n",
       "    </tr>\n",
       "    <tr>\n",
       "      <th>9649</th>\n",
       "      <td>./part-affordance-dataset/tools/ladle_02/ladle...</td>\n",
       "      <td>./part-affordance-dataset/tools/ladle_02/ladle...</td>\n",
       "    </tr>\n",
       "    <tr>\n",
       "      <th>23829</th>\n",
       "      <td>./part-affordance-dataset/tools/turner_07/turn...</td>\n",
       "      <td>./part-affordance-dataset/tools/turner_07/turn...</td>\n",
       "    </tr>\n",
       "    <tr>\n",
       "      <th>24477</th>\n",
       "      <td>./part-affordance-dataset/tools/hammer_04/hamm...</td>\n",
       "      <td>./part-affordance-dataset/tools/hammer_04/hamm...</td>\n",
       "    </tr>\n",
       "    <tr>\n",
       "      <th>15718</th>\n",
       "      <td>./part-affordance-dataset/tools/mug_07/mug_07_...</td>\n",
       "      <td>./part-affordance-dataset/tools/mug_07/mug_07_...</td>\n",
       "    </tr>\n",
       "    <tr>\n",
       "      <th>264</th>\n",
       "      <td>./part-affordance-dataset/tools/knife_12/knife...</td>\n",
       "      <td>./part-affordance-dataset/tools/knife_12/knife...</td>\n",
       "    </tr>\n",
       "    <tr>\n",
       "      <th>25444</th>\n",
       "      <td>./part-affordance-dataset/tools/mug_04/mug_04_...</td>\n",
       "      <td>./part-affordance-dataset/tools/mug_04/mug_04_...</td>\n",
       "    </tr>\n",
       "    <tr>\n",
       "      <th>15740</th>\n",
       "      <td>./part-affordance-dataset/tools/mug_07/mug_07_...</td>\n",
       "      <td>./part-affordance-dataset/tools/mug_07/mug_07_...</td>\n",
       "    </tr>\n",
       "    <tr>\n",
       "      <th>8646</th>\n",
       "      <td>./part-affordance-dataset/tools/knife_04/knife...</td>\n",
       "      <td>./part-affordance-dataset/tools/knife_04/knife...</td>\n",
       "    </tr>\n",
       "    <tr>\n",
       "      <th>...</th>\n",
       "      <td>...</td>\n",
       "      <td>...</td>\n",
       "    </tr>\n",
       "    <tr>\n",
       "      <th>7359</th>\n",
       "      <td>./part-affordance-dataset/tools/bowl_03/bowl_0...</td>\n",
       "      <td>./part-affordance-dataset/tools/bowl_03/bowl_0...</td>\n",
       "    </tr>\n",
       "    <tr>\n",
       "      <th>150</th>\n",
       "      <td>./part-affordance-dataset/tools/mug_15/mug_15_...</td>\n",
       "      <td>./part-affordance-dataset/tools/mug_15/mug_15_...</td>\n",
       "    </tr>\n",
       "    <tr>\n",
       "      <th>3621</th>\n",
       "      <td>./part-affordance-dataset/tools/cup_04/cup_04_...</td>\n",
       "      <td>./part-affordance-dataset/tools/cup_04/cup_04_...</td>\n",
       "    </tr>\n",
       "    <tr>\n",
       "      <th>1610</th>\n",
       "      <td>./part-affordance-dataset/tools/scissors_01/sc...</td>\n",
       "      <td>./part-affordance-dataset/tools/scissors_01/sc...</td>\n",
       "    </tr>\n",
       "    <tr>\n",
       "      <th>26755</th>\n",
       "      <td>./part-affordance-dataset/tools/spoon_07/spoon...</td>\n",
       "      <td>./part-affordance-dataset/tools/spoon_07/spoon...</td>\n",
       "    </tr>\n",
       "    <tr>\n",
       "      <th>6999</th>\n",
       "      <td>./part-affordance-dataset/tools/ladle_05/ladle...</td>\n",
       "      <td>./part-affordance-dataset/tools/ladle_05/ladle...</td>\n",
       "    </tr>\n",
       "    <tr>\n",
       "      <th>18935</th>\n",
       "      <td>./part-affordance-dataset/tools/knife_10/knife...</td>\n",
       "      <td>./part-affordance-dataset/tools/knife_10/knife...</td>\n",
       "    </tr>\n",
       "    <tr>\n",
       "      <th>11952</th>\n",
       "      <td>./part-affordance-dataset/tools/mug_16/mug_16_...</td>\n",
       "      <td>./part-affordance-dataset/tools/mug_16/mug_16_...</td>\n",
       "    </tr>\n",
       "    <tr>\n",
       "      <th>26395</th>\n",
       "      <td>./part-affordance-dataset/tools/mug_02/mug_02_...</td>\n",
       "      <td>./part-affordance-dataset/tools/mug_02/mug_02_...</td>\n",
       "    </tr>\n",
       "    <tr>\n",
       "      <th>28006</th>\n",
       "      <td>./part-affordance-dataset/tools/mug_13/mug_13_...</td>\n",
       "      <td>./part-affordance-dataset/tools/mug_13/mug_13_...</td>\n",
       "    </tr>\n",
       "    <tr>\n",
       "      <th>7316</th>\n",
       "      <td>./part-affordance-dataset/tools/bowl_03/bowl_0...</td>\n",
       "      <td>./part-affordance-dataset/tools/bowl_03/bowl_0...</td>\n",
       "    </tr>\n",
       "    <tr>\n",
       "      <th>16485</th>\n",
       "      <td>./part-affordance-dataset/tools/spoon_09/spoon...</td>\n",
       "      <td>./part-affordance-dataset/tools/spoon_09/spoon...</td>\n",
       "    </tr>\n",
       "    <tr>\n",
       "      <th>24936</th>\n",
       "      <td>./part-affordance-dataset/tools/hammer_01/hamm...</td>\n",
       "      <td>./part-affordance-dataset/tools/hammer_01/hamm...</td>\n",
       "    </tr>\n",
       "    <tr>\n",
       "      <th>2438</th>\n",
       "      <td>./part-affordance-dataset/tools/shovel_02/shov...</td>\n",
       "      <td>./part-affordance-dataset/tools/shovel_02/shov...</td>\n",
       "    </tr>\n",
       "    <tr>\n",
       "      <th>21267</th>\n",
       "      <td>./part-affordance-dataset/tools/cup_02/cup_02_...</td>\n",
       "      <td>./part-affordance-dataset/tools/cup_02/cup_02_...</td>\n",
       "    </tr>\n",
       "    <tr>\n",
       "      <th>22006</th>\n",
       "      <td>./part-affordance-dataset/tools/cup_01/cup_01_...</td>\n",
       "      <td>./part-affordance-dataset/tools/cup_01/cup_01_...</td>\n",
       "    </tr>\n",
       "    <tr>\n",
       "      <th>26525</th>\n",
       "      <td>./part-affordance-dataset/tools/spoon_03/spoon...</td>\n",
       "      <td>./part-affordance-dataset/tools/spoon_03/spoon...</td>\n",
       "    </tr>\n",
       "    <tr>\n",
       "      <th>18743</th>\n",
       "      <td>./part-affordance-dataset/tools/spoon_10/spoon...</td>\n",
       "      <td>./part-affordance-dataset/tools/spoon_10/spoon...</td>\n",
       "    </tr>\n",
       "    <tr>\n",
       "      <th>26503</th>\n",
       "      <td>./part-affordance-dataset/tools/spoon_03/spoon...</td>\n",
       "      <td>./part-affordance-dataset/tools/spoon_03/spoon...</td>\n",
       "    </tr>\n",
       "    <tr>\n",
       "      <th>8044</th>\n",
       "      <td>./part-affordance-dataset/tools/turner_03/turn...</td>\n",
       "      <td>./part-affordance-dataset/tools/turner_03/turn...</td>\n",
       "    </tr>\n",
       "    <tr>\n",
       "      <th>8356</th>\n",
       "      <td>./part-affordance-dataset/tools/turner_05/turn...</td>\n",
       "      <td>./part-affordance-dataset/tools/turner_05/turn...</td>\n",
       "    </tr>\n",
       "    <tr>\n",
       "      <th>5857</th>\n",
       "      <td>./part-affordance-dataset/tools/bowl_02/bowl_0...</td>\n",
       "      <td>./part-affordance-dataset/tools/bowl_02/bowl_0...</td>\n",
       "    </tr>\n",
       "    <tr>\n",
       "      <th>5377</th>\n",
       "      <td>./part-affordance-dataset/tools/knife_11/knife...</td>\n",
       "      <td>./part-affordance-dataset/tools/knife_11/knife...</td>\n",
       "    </tr>\n",
       "    <tr>\n",
       "      <th>15850</th>\n",
       "      <td>./part-affordance-dataset/tools/mug_07/mug_07_...</td>\n",
       "      <td>./part-affordance-dataset/tools/mug_07/mug_07_...</td>\n",
       "    </tr>\n",
       "    <tr>\n",
       "      <th>27713</th>\n",
       "      <td>./part-affordance-dataset/tools/mug_18/mug_18_...</td>\n",
       "      <td>./part-affordance-dataset/tools/mug_18/mug_18_...</td>\n",
       "    </tr>\n",
       "    <tr>\n",
       "      <th>1767</th>\n",
       "      <td>./part-affordance-dataset/tools/scissors_01/sc...</td>\n",
       "      <td>./part-affordance-dataset/tools/scissors_01/sc...</td>\n",
       "    </tr>\n",
       "    <tr>\n",
       "      <th>7846</th>\n",
       "      <td>./part-affordance-dataset/tools/turner_03/turn...</td>\n",
       "      <td>./part-affordance-dataset/tools/turner_03/turn...</td>\n",
       "    </tr>\n",
       "    <tr>\n",
       "      <th>4847</th>\n",
       "      <td>./part-affordance-dataset/tools/pot_01/pot_01_...</td>\n",
       "      <td>./part-affordance-dataset/tools/pot_01/pot_01_...</td>\n",
       "    </tr>\n",
       "    <tr>\n",
       "      <th>8650</th>\n",
       "      <td>./part-affordance-dataset/tools/knife_04/knife...</td>\n",
       "      <td>./part-affordance-dataset/tools/knife_04/knife...</td>\n",
       "    </tr>\n",
       "    <tr>\n",
       "      <th>15607</th>\n",
       "      <td>./part-affordance-dataset/tools/saw_01/saw_01_...</td>\n",
       "      <td>./part-affordance-dataset/tools/saw_01/saw_01_...</td>\n",
       "    </tr>\n",
       "  </tbody>\n",
       "</table>\n",
       "<p>28843 rows × 2 columns</p>\n",
       "</div>"
      ],
      "text/plain": [
       "                                              image_path  \\\n",
       "24546  ./part-affordance-dataset/tools/hammer_04/hamm...   \n",
       "25558  ./part-affordance-dataset/tools/mug_04/mug_04_...   \n",
       "17133  ./part-affordance-dataset/tools/bowl_05/bowl_0...   \n",
       "26672  ./part-affordance-dataset/tools/spoon_03/spoon...   \n",
       "10798  ./part-affordance-dataset/tools/mallet_03/mall...   \n",
       "11685  ./part-affordance-dataset/tools/mug_14/mug_14_...   \n",
       "5518   ./part-affordance-dataset/tools/scoop_02/scoop...   \n",
       "7302   ./part-affordance-dataset/tools/bowl_03/bowl_0...   \n",
       "28594  ./part-affordance-dataset/tools/scissors_04/sc...   \n",
       "26333  ./part-affordance-dataset/tools/mug_02/mug_02_...   \n",
       "22093  ./part-affordance-dataset/tools/cup_01/cup_01_...   \n",
       "6303   ./part-affordance-dataset/tools/mug_20/mug_20_...   \n",
       "15485  ./part-affordance-dataset/tools/saw_01/saw_01_...   \n",
       "22057  ./part-affordance-dataset/tools/cup_01/cup_01_...   \n",
       "9439   ./part-affordance-dataset/tools/cup_03/cup_03_...   \n",
       "2715   ./part-affordance-dataset/tools/bowl_07/bowl_0...   \n",
       "2533   ./part-affordance-dataset/tools/shovel_02/shov...   \n",
       "15034  ./part-affordance-dataset/tools/tenderizer_01/...   \n",
       "3812   ./part-affordance-dataset/tools/spoon_06/spoon...   \n",
       "5922   ./part-affordance-dataset/tools/cup_05/cup_05_...   \n",
       "22080  ./part-affordance-dataset/tools/cup_01/cup_01_...   \n",
       "4960   ./part-affordance-dataset/tools/pot_01/pot_01_...   \n",
       "9649   ./part-affordance-dataset/tools/ladle_02/ladle...   \n",
       "23829  ./part-affordance-dataset/tools/turner_07/turn...   \n",
       "24477  ./part-affordance-dataset/tools/hammer_04/hamm...   \n",
       "15718  ./part-affordance-dataset/tools/mug_07/mug_07_...   \n",
       "264    ./part-affordance-dataset/tools/knife_12/knife...   \n",
       "25444  ./part-affordance-dataset/tools/mug_04/mug_04_...   \n",
       "15740  ./part-affordance-dataset/tools/mug_07/mug_07_...   \n",
       "8646   ./part-affordance-dataset/tools/knife_04/knife...   \n",
       "...                                                  ...   \n",
       "7359   ./part-affordance-dataset/tools/bowl_03/bowl_0...   \n",
       "150    ./part-affordance-dataset/tools/mug_15/mug_15_...   \n",
       "3621   ./part-affordance-dataset/tools/cup_04/cup_04_...   \n",
       "1610   ./part-affordance-dataset/tools/scissors_01/sc...   \n",
       "26755  ./part-affordance-dataset/tools/spoon_07/spoon...   \n",
       "6999   ./part-affordance-dataset/tools/ladle_05/ladle...   \n",
       "18935  ./part-affordance-dataset/tools/knife_10/knife...   \n",
       "11952  ./part-affordance-dataset/tools/mug_16/mug_16_...   \n",
       "26395  ./part-affordance-dataset/tools/mug_02/mug_02_...   \n",
       "28006  ./part-affordance-dataset/tools/mug_13/mug_13_...   \n",
       "7316   ./part-affordance-dataset/tools/bowl_03/bowl_0...   \n",
       "16485  ./part-affordance-dataset/tools/spoon_09/spoon...   \n",
       "24936  ./part-affordance-dataset/tools/hammer_01/hamm...   \n",
       "2438   ./part-affordance-dataset/tools/shovel_02/shov...   \n",
       "21267  ./part-affordance-dataset/tools/cup_02/cup_02_...   \n",
       "22006  ./part-affordance-dataset/tools/cup_01/cup_01_...   \n",
       "26525  ./part-affordance-dataset/tools/spoon_03/spoon...   \n",
       "18743  ./part-affordance-dataset/tools/spoon_10/spoon...   \n",
       "26503  ./part-affordance-dataset/tools/spoon_03/spoon...   \n",
       "8044   ./part-affordance-dataset/tools/turner_03/turn...   \n",
       "8356   ./part-affordance-dataset/tools/turner_05/turn...   \n",
       "5857   ./part-affordance-dataset/tools/bowl_02/bowl_0...   \n",
       "5377   ./part-affordance-dataset/tools/knife_11/knife...   \n",
       "15850  ./part-affordance-dataset/tools/mug_07/mug_07_...   \n",
       "27713  ./part-affordance-dataset/tools/mug_18/mug_18_...   \n",
       "1767   ./part-affordance-dataset/tools/scissors_01/sc...   \n",
       "7846   ./part-affordance-dataset/tools/turner_03/turn...   \n",
       "4847   ./part-affordance-dataset/tools/pot_01/pot_01_...   \n",
       "8650   ./part-affordance-dataset/tools/knife_04/knife...   \n",
       "15607  ./part-affordance-dataset/tools/saw_01/saw_01_...   \n",
       "\n",
       "                                              class_path  \n",
       "24546  ./part-affordance-dataset/tools/hammer_04/hamm...  \n",
       "25558  ./part-affordance-dataset/tools/mug_04/mug_04_...  \n",
       "17133  ./part-affordance-dataset/tools/bowl_05/bowl_0...  \n",
       "26672  ./part-affordance-dataset/tools/spoon_03/spoon...  \n",
       "10798  ./part-affordance-dataset/tools/mallet_03/mall...  \n",
       "11685  ./part-affordance-dataset/tools/mug_14/mug_14_...  \n",
       "5518   ./part-affordance-dataset/tools/scoop_02/scoop...  \n",
       "7302   ./part-affordance-dataset/tools/bowl_03/bowl_0...  \n",
       "28594  ./part-affordance-dataset/tools/scissors_04/sc...  \n",
       "26333  ./part-affordance-dataset/tools/mug_02/mug_02_...  \n",
       "22093  ./part-affordance-dataset/tools/cup_01/cup_01_...  \n",
       "6303   ./part-affordance-dataset/tools/mug_20/mug_20_...  \n",
       "15485  ./part-affordance-dataset/tools/saw_01/saw_01_...  \n",
       "22057  ./part-affordance-dataset/tools/cup_01/cup_01_...  \n",
       "9439   ./part-affordance-dataset/tools/cup_03/cup_03_...  \n",
       "2715   ./part-affordance-dataset/tools/bowl_07/bowl_0...  \n",
       "2533   ./part-affordance-dataset/tools/shovel_02/shov...  \n",
       "15034  ./part-affordance-dataset/tools/tenderizer_01/...  \n",
       "3812   ./part-affordance-dataset/tools/spoon_06/spoon...  \n",
       "5922   ./part-affordance-dataset/tools/cup_05/cup_05_...  \n",
       "22080  ./part-affordance-dataset/tools/cup_01/cup_01_...  \n",
       "4960   ./part-affordance-dataset/tools/pot_01/pot_01_...  \n",
       "9649   ./part-affordance-dataset/tools/ladle_02/ladle...  \n",
       "23829  ./part-affordance-dataset/tools/turner_07/turn...  \n",
       "24477  ./part-affordance-dataset/tools/hammer_04/hamm...  \n",
       "15718  ./part-affordance-dataset/tools/mug_07/mug_07_...  \n",
       "264    ./part-affordance-dataset/tools/knife_12/knife...  \n",
       "25444  ./part-affordance-dataset/tools/mug_04/mug_04_...  \n",
       "15740  ./part-affordance-dataset/tools/mug_07/mug_07_...  \n",
       "8646   ./part-affordance-dataset/tools/knife_04/knife...  \n",
       "...                                                  ...  \n",
       "7359   ./part-affordance-dataset/tools/bowl_03/bowl_0...  \n",
       "150    ./part-affordance-dataset/tools/mug_15/mug_15_...  \n",
       "3621   ./part-affordance-dataset/tools/cup_04/cup_04_...  \n",
       "1610   ./part-affordance-dataset/tools/scissors_01/sc...  \n",
       "26755  ./part-affordance-dataset/tools/spoon_07/spoon...  \n",
       "6999   ./part-affordance-dataset/tools/ladle_05/ladle...  \n",
       "18935  ./part-affordance-dataset/tools/knife_10/knife...  \n",
       "11952  ./part-affordance-dataset/tools/mug_16/mug_16_...  \n",
       "26395  ./part-affordance-dataset/tools/mug_02/mug_02_...  \n",
       "28006  ./part-affordance-dataset/tools/mug_13/mug_13_...  \n",
       "7316   ./part-affordance-dataset/tools/bowl_03/bowl_0...  \n",
       "16485  ./part-affordance-dataset/tools/spoon_09/spoon...  \n",
       "24936  ./part-affordance-dataset/tools/hammer_01/hamm...  \n",
       "2438   ./part-affordance-dataset/tools/shovel_02/shov...  \n",
       "21267  ./part-affordance-dataset/tools/cup_02/cup_02_...  \n",
       "22006  ./part-affordance-dataset/tools/cup_01/cup_01_...  \n",
       "26525  ./part-affordance-dataset/tools/spoon_03/spoon...  \n",
       "18743  ./part-affordance-dataset/tools/spoon_10/spoon...  \n",
       "26503  ./part-affordance-dataset/tools/spoon_03/spoon...  \n",
       "8044   ./part-affordance-dataset/tools/turner_03/turn...  \n",
       "8356   ./part-affordance-dataset/tools/turner_05/turn...  \n",
       "5857   ./part-affordance-dataset/tools/bowl_02/bowl_0...  \n",
       "5377   ./part-affordance-dataset/tools/knife_11/knife...  \n",
       "15850  ./part-affordance-dataset/tools/mug_07/mug_07_...  \n",
       "27713  ./part-affordance-dataset/tools/mug_18/mug_18_...  \n",
       "1767   ./part-affordance-dataset/tools/scissors_01/sc...  \n",
       "7846   ./part-affordance-dataset/tools/turner_03/turn...  \n",
       "4847   ./part-affordance-dataset/tools/pot_01/pot_01_...  \n",
       "8650   ./part-affordance-dataset/tools/knife_04/knife...  \n",
       "15607  ./part-affordance-dataset/tools/saw_01/saw_01_...  \n",
       "\n",
       "[28843 rows x 2 columns]"
      ]
     },
     "execution_count": 16,
     "metadata": {},
     "output_type": "execute_result"
    }
   ],
   "source": [
    "df_s"
   ]
  },
  {
   "cell_type": "code",
   "execution_count": 17,
   "metadata": {},
   "outputs": [
    {
     "data": {
      "text/plain": [
       "23074.4"
      ]
     },
     "execution_count": 17,
     "metadata": {},
     "output_type": "execute_result"
    }
   ],
   "source": [
    "28843*0.8"
   ]
  },
  {
   "cell_type": "code",
   "execution_count": 43,
   "metadata": {},
   "outputs": [],
   "source": [
    "df_train = df_s[:23100]"
   ]
  },
  {
   "cell_type": "code",
   "execution_count": 19,
   "metadata": {},
   "outputs": [],
   "source": [
    "df_train.to_csv('train.csv', index=None)"
   ]
  },
  {
   "cell_type": "code",
   "execution_count": 20,
   "metadata": {},
   "outputs": [],
   "source": [
    "df_test = df_s[23100:]"
   ]
  },
  {
   "cell_type": "code",
   "execution_count": 21,
   "metadata": {},
   "outputs": [],
   "source": [
    "df_test.to_csv('test.csv', index=None)"
   ]
  },
  {
   "cell_type": "markdown",
   "metadata": {},
   "source": [
    "### the number of the pixels before center crop"
   ]
  },
  {
   "cell_type": "code",
   "execution_count": 172,
   "metadata": {},
   "outputs": [],
   "source": [
    "# cnt_dict = {0:0, 1:0, 2:0, 3:0, 4:0, 5:0, 6:0, 7:0}\n",
    "\n",
    "# for path in class_path_list:\n",
    "#     mat = scipy.io.loadmat(path)\n",
    "#     num, cnt = np.unique(mat['gt_label'], return_counts=True)\n",
    "    \n",
    "#     for n, c in zip(num, cnt):\n",
    "#         cnt_dict[n] += c"
   ]
  },
  {
   "cell_type": "markdown",
   "metadata": {},
   "source": [
    "cnt_dict"
   ]
  },
  {
   "cell_type": "markdown",
   "metadata": {},
   "source": [
    "0: 8723340880,<br>\n",
    " 1: 34159284,<br>\n",
    " 2: 16009552,<br>\n",
    " 3: 12433420,<br>\n",
    " 4: 38476964,<br>\n",
    " 5: 6773540,<br>\n",
    " 6: 9273880,<br>\n",
    " 7: 20102080<br>"
   ]
  },
  {
   "cell_type": "markdown",
   "metadata": {},
   "source": [
    "# Define Dataset Class"
   ]
  },
  {
   "cell_type": "code",
   "execution_count": 5,
   "metadata": {},
   "outputs": [],
   "source": [
    "from torch.utils.data import Dataset, DataLoader\n",
    "from torchvision import transforms\n",
    "\n",
    "import pandas as pd\n",
    "import numpy as np\n",
    "import scipy.io\n",
    "import skimage.io\n",
    "from PIL import Image, ImageFilter\n",
    "from sklearn.model_selection import train_test_split"
   ]
  },
  {
   "cell_type": "code",
   "execution_count": 6,
   "metadata": {},
   "outputs": [],
   "source": [
    "class PartAffordanceDataset(Dataset):\n",
    "    \"\"\"Part Affordance Dataset\"\"\"\n",
    "    \n",
    "    def __init__(self, csv_file, transform=None):\n",
    "        super().__init__()\n",
    "        \n",
    "        self.image_class_path = pd.read_csv(csv_file)\n",
    "        self.transform = transform\n",
    "        \n",
    "    def __len__(self):\n",
    "        return len(self.image_class_path)\n",
    "    \n",
    "    def __getitem__(self, idx):\n",
    "        image_path = self.image_class_path.iloc[idx, 0]\n",
    "        class_path = self.image_class_path.iloc[idx, 1]\n",
    "        image = skimage.io.imread(image_path) # read as numpy array\n",
    "        cls = scipy.io.loadmat(class_path)[\"gt_label\"]\n",
    "        \n",
    "        sample = {'image': image, 'class': cls}\n",
    "        \n",
    "        if self.transform:\n",
    "            sample = self.transform(sample)\n",
    "            \n",
    "        return sample"
   ]
  },
  {
   "cell_type": "code",
   "execution_count": 7,
   "metadata": {},
   "outputs": [],
   "source": [
    "def crop_center_numpy(array, crop_height, crop_weight):\n",
    "    h, w = array.shape\n",
    "    return array[h//2 - crop_height//2: h//2 + crop_height//2,\n",
    "                 w//2 - crop_weight//2: w//2 + crop_weight//2\n",
    "                ]"
   ]
  },
  {
   "cell_type": "code",
   "execution_count": 8,
   "metadata": {},
   "outputs": [],
   "source": [
    "def crop_center_pil_image(pil_img, crop_width, crop_height):\n",
    "    img_width, img_height = pil_img.size\n",
    "    return pil_img.crop(((img_width - crop_width) // 2,\n",
    "                         (img_height - crop_height) // 2,\n",
    "                         (img_width + crop_width) // 2,\n",
    "                         (img_height + crop_height) // 2))"
   ]
  },
  {
   "cell_type": "code",
   "execution_count": 9,
   "metadata": {},
   "outputs": [],
   "source": [
    "class CenterCrop(object):\n",
    "    def __call__(self, sample):\n",
    "        image, cls = sample['image'], sample['class']\n",
    "        \n",
    "        image = Image.fromarray(np.uint8(image))\n",
    "        \n",
    "        image = crop_center_pil_image(image, 320, 240)\n",
    "        cls = crop_center_numpy(cls, 240, 320)\n",
    "        \n",
    "        image = np.asarray(image)\n",
    "        \n",
    "        return {'image': image, 'class': cls}"
   ]
  },
  {
   "cell_type": "code",
   "execution_count": 10,
   "metadata": {},
   "outputs": [],
   "source": [
    "class ToTensor(object):\n",
    "    def __call__(self, sample):\n",
    "        image, cls = sample['image'], sample['class']\n",
    "        \n",
    "        image = image.transpose((2, 0, 1))\n",
    "        return {'image': torch.from_numpy(image).float(), \n",
    "                'class': torch.from_numpy(cls).long()}"
   ]
  },
  {
   "cell_type": "code",
   "execution_count": 11,
   "metadata": {},
   "outputs": [],
   "source": [
    "# data = PartAffordanceDataset('image_class_path.csv',\n",
    "#                                 transform=transforms.Compose([\n",
    "#                                     CenterCrop(),\n",
    "#                                     ToTensor()\n",
    "#                                 ]))\n",
    "\n",
    "# data_loader = DataLoader(data, batch_size=10, shuffle=False)"
   ]
  },
  {
   "cell_type": "code",
   "execution_count": 12,
   "metadata": {},
   "outputs": [],
   "source": [
    "# mean = 0\n",
    "# std = 0\n",
    "# n = 0\n",
    "\n",
    "# for sample in data_loader:\n",
    "#     img = sample['image']   \n",
    "#     img = img.view(len(img), 3, -1)\n",
    "#     mean += img.mean(2).sum(0)\n",
    "#     std += img.std(2).sum(0)\n",
    "#     n += len(img)\n",
    "    \n",
    "# mean /= n\n",
    "# std /= n"
   ]
  },
  {
   "cell_type": "code",
   "execution_count": 13,
   "metadata": {},
   "outputs": [],
   "source": [
    "mean=[55.8630, 59.9099, 91.7419]\n",
    "std=[31.6852, 29.8496, 19.0835]"
   ]
  },
  {
   "cell_type": "code",
   "execution_count": 14,
   "metadata": {},
   "outputs": [],
   "source": [
    "class Normalize(object):\n",
    "    def __call__(self, sample):\n",
    "        image, cls = sample['image'], sample['class']\n",
    "        \n",
    "        image = transforms.functional.normalize(image, mean, std)\n",
    "        \n",
    "        return {'image': image, 'class': cls}"
   ]
  },
  {
   "cell_type": "code",
   "execution_count": 15,
   "metadata": {},
   "outputs": [],
   "source": [
    "train_data = PartAffordanceDataset('train.csv',\n",
    "                                transform=transforms.Compose([\n",
    "                                    CenterCrop(),\n",
    "                                    ToTensor(),\n",
    "                                    Normalize()\n",
    "                                ]))"
   ]
  },
  {
   "cell_type": "code",
   "execution_count": 16,
   "metadata": {},
   "outputs": [],
   "source": [
    "test_data = PartAffordanceDataset('test.csv',\n",
    "                                transform=transforms.Compose([\n",
    "                                    CenterCrop(),\n",
    "                                    ToTensor(),\n",
    "                                    Normalize()\n",
    "                                ]))"
   ]
  },
  {
   "cell_type": "code",
   "execution_count": 34,
   "metadata": {},
   "outputs": [],
   "source": [
    "train_loader = DataLoader(train_data, batch_size=10, shuffle=True)\n",
    "test_loader = DataLoader(test_data, batch_size=10, shuffle=False)\n",
    "pred_loader = DataLoader(test_data, batch_size=10, shuffle=True)"
   ]
  },
  {
   "cell_type": "markdown",
   "metadata": {},
   "source": [
    "### count the number of pixels in each class after center crop"
   ]
  },
  {
   "cell_type": "code",
   "execution_count": 35,
   "metadata": {},
   "outputs": [],
   "source": [
    "# dataset = PartAffordanceDataset('image_class_path.csv',\n",
    "#                                 transform=transforms.Compose([\n",
    "#                                     CenterCrop(),\n",
    "#                                     ToTensor()\n",
    "#                                 ]))\n",
    "# data_laoder = DataLoader(dataset, batch_size=100, shuffle=False)"
   ]
  },
  {
   "cell_type": "code",
   "execution_count": 36,
   "metadata": {},
   "outputs": [],
   "source": [
    "cnt_dict = {0:0, 1:0, 2:0, 3:0, 4:0, 5:0, 6:0, 7:0}\n",
    "\n",
    "for sample in data_laoder:\n",
    "    img = sample['class'].numpy()\n",
    "    \n",
    "    num, cnt = np.unique(img, return_counts=True)\n",
    "    \n",
    "    for n, c in zip(num, cnt):\n",
    "        cnt_dict[n] += c"
   ]
  },
  {
   "cell_type": "code",
   "execution_count": 37,
   "metadata": {},
   "outputs": [
    {
     "data": {
      "text/plain": [
       "{0: 2078085712,\n",
       " 1: 34078992,\n",
       " 2: 15921090,\n",
       " 3: 12433420,\n",
       " 4: 38473752,\n",
       " 5: 6773528,\n",
       " 6: 9273826,\n",
       " 7: 20102080}"
      ]
     },
     "execution_count": 37,
     "metadata": {},
     "output_type": "execute_result"
    }
   ],
   "source": [
    "cnt_dict"
   ]
  },
  {
   "cell_type": "markdown",
   "metadata": {},
   "source": [
    "cnt_dict"
   ]
  },
  {
   "cell_type": "markdown",
   "metadata": {},
   "source": [
    "0: 2078085712,  \n",
    " 1: 34078992,  \n",
    " 2: 15921090,  \n",
    " 3: 12433420,  \n",
    " 4: 38473752,  \n",
    " 5: 6773528,  \n",
    " 6: 9273826,  \n",
    " 7: 20102080  "
   ]
  },
  {
   "cell_type": "markdown",
   "metadata": {},
   "source": [
    "# Training"
   ]
  },
  {
   "cell_type": "markdown",
   "metadata": {},
   "source": [
    "### class weight"
   ]
  },
  {
   "cell_type": "code",
   "execution_count": 17,
   "metadata": {},
   "outputs": [
    {
     "name": "stdout",
     "output_type": "stream",
     "text": [
      "2215142400\n"
     ]
    }
   ],
   "source": [
    "class_num = torch.tensor([2078085712, 34078992, 15921090, 12433420, \n",
    "                          38473752, 6773528, 9273826, 20102080])\n",
    "\n",
    "total = class_num.sum().item()\n",
    "print(total)"
   ]
  },
  {
   "cell_type": "code",
   "execution_count": 18,
   "metadata": {},
   "outputs": [
    {
     "data": {
      "text/plain": [
       "tensor([0.0100, 0.6098, 1.3052, 1.6714, 0.5401, 3.0680, 2.2408, 1.0338])"
      ]
     },
     "execution_count": 18,
     "metadata": {},
     "output_type": "execute_result"
    }
   ],
   "source": [
    "class_num[0].float() / (100.0 * class_num.float())"
   ]
  },
  {
   "cell_type": "code",
   "execution_count": 19,
   "metadata": {},
   "outputs": [],
   "source": [
    "frequency = class_num.float() / total\n",
    "median = torch.median(frequency)"
   ]
  },
  {
   "cell_type": "code",
   "execution_count": 20,
   "metadata": {},
   "outputs": [],
   "source": [
    "class_weight = median / frequency"
   ]
  },
  {
   "cell_type": "code",
   "execution_count": 21,
   "metadata": {},
   "outputs": [
    {
     "data": {
      "text/plain": [
       "tensor([0.0077, 0.4672, 1.0000, 1.2805, 0.4138, 2.3505, 1.7168, 0.7920])"
      ]
     },
     "execution_count": 21,
     "metadata": {},
     "output_type": "execute_result"
    }
   ],
   "source": [
    "class_weight"
   ]
  },
  {
   "cell_type": "code",
   "execution_count": 22,
   "metadata": {},
   "outputs": [],
   "source": [
    "from tensorboardX import SummaryWriter\n",
    "import tqdm"
   ]
  },
  {
   "cell_type": "code",
   "execution_count": 40,
   "metadata": {},
   "outputs": [],
   "source": [
    "def eval_model(model, test_loader, device='cpu'):\n",
    "    model.eval()\n",
    "    \n",
    "    intersection = torch.zeros(8)   # the dataset has 8 classes including background\n",
    "    union = torch.zeros(8)\n",
    "    \n",
    "    for sample in test_loader:\n",
    "        x, y = sample['image'], sample['class']\n",
    "        \n",
    "        x = x.to(device)\n",
    "        y = y.to(device)\n",
    "        \n",
    "        with torch.no_grad():\n",
    "            _, ypred = model(x).max(1)    # y_pred.shape => (N, 240, 320)\n",
    "        \n",
    "        for i in range(8):\n",
    "            y_i = (y == i)           \n",
    "            ypred_i = (ypred == i)   \n",
    "            \n",
    "            inter = (y_i.byte() & ypred_i.byte()).float().sum().to('cpu')\n",
    "            intersection[i] += inter\n",
    "            union[i] += (y_i.float().sum() + ypred_i.float().sum()).to('cpu') - inter\n",
    "    \n",
    "    \"\"\" iou[i] is the IoU of class i \"\"\"\n",
    "    iou = intersection / union\n",
    "    \n",
    "    return iou"
   ]
  },
  {
   "cell_type": "code",
   "execution_count": 41,
   "metadata": {},
   "outputs": [],
   "source": [
    "def train_model(model, train_loader, test_loader, optimizer_cls=optim.Adam, \n",
    "                criterion=nn.CrossEntropyLoss(), max_epoch=200, device='cpu', writer=None):\n",
    "    \n",
    "    model.to(device)\n",
    "    \n",
    "    train_losses = []\n",
    "    val_iou = []\n",
    "    mean_iou = []\n",
    "    best_iou = 0.0\n",
    "    \n",
    "    optimizer = optimizer_cls(model.parameters(), lr=0.01)\n",
    "    \n",
    "    for epoch in range(max_epoch):\n",
    "        model.train()\n",
    "        running_loss = 0.0\n",
    "        \n",
    "        for i, sample in tqdm.tqdm(enumerate(train_loader), total=len(train_loader)):\n",
    "            optimizer.zero_grad()\n",
    "            \n",
    "            x, y = sample['image'], sample['class']\n",
    "            \n",
    "            x = x.to(device)\n",
    "            y = y.to(device)\n",
    "\n",
    "            h = model(x)\n",
    "            loss = criterion(h, y)\n",
    "            loss.backward()\n",
    "            optimizer.step()\n",
    "            \n",
    "            running_loss += loss.item()\n",
    "\n",
    "        train_losses.append(running_loss / i)\n",
    "        \n",
    "        val_iou.append(eval_model(model, test_loader, device))\n",
    "        mean_iou.append(val_iou[-1].mean().item())\n",
    "        \n",
    "        if best_iou < mean_iou[-1]:\n",
    "            best_iou = mean_iou[-1]\n",
    "            torch.save(model.state_dict(), \"./SegNet_with_class_weight(median)_results/best_iou_model.prm\")\n",
    "        \n",
    "        if writer is not None:\n",
    "            writer.add_scalar(\"train_loss\", train_losses[-1], epoch)\n",
    "            writer.add_scalar(\"mean_IoU\", mean_iou[-1], epoch)\n",
    "            writer.add_scalars(\"class_IoU\", {'iou of class 0': val_iou[-1][0],\n",
    "                                           'iou of class 1': val_iou[-1][1],\n",
    "                                           'iou of class 2': val_iou[-1][2],\n",
    "                                           'iou of class 3': val_iou[-1][3],\n",
    "                                           'iou of class 4': val_iou[-1][4],\n",
    "                                           'iou of class 5': val_iou[-1][5],\n",
    "                                           'iou of class 6': val_iou[-1][6],\n",
    "                                           'iou of class 7': val_iou[-1][7]}, epoch)\n",
    "            \n",
    "        print(epoch, train_losses[-1], mean_iou[-1])\n",
    "        \n",
    "    torch.save(model.state_dict(), \"./SegNet_with_class_weight(median)_results/final_model.prm\")"
   ]
  },
  {
   "cell_type": "code",
   "execution_count": 42,
   "metadata": {
    "scrolled": true
   },
   "outputs": [
    {
     "name": "stderr",
     "output_type": "stream",
     "text": [
      "100%|██████████| 2310/2310 [04:59<00:00,  7.52it/s]\n",
      "  0%|          | 1/2310 [00:00<05:22,  7.16it/s]"
     ]
    },
    {
     "name": "stdout",
     "output_type": "stream",
     "text": [
      "0 0.9479384233407925 0.4458967447280884\n"
     ]
    },
    {
     "name": "stderr",
     "output_type": "stream",
     "text": [
      "100%|██████████| 2310/2310 [07:20<00:00,  4.70it/s]\n",
      "  0%|          | 0/2310 [00:00<?, ?it/s]"
     ]
    },
    {
     "name": "stdout",
     "output_type": "stream",
     "text": [
      "1 0.31126673399898697 0.5815553069114685\n"
     ]
    },
    {
     "name": "stderr",
     "output_type": "stream",
     "text": [
      "100%|██████████| 2310/2310 [07:40<00:00,  6.37it/s]\n",
      "  0%|          | 0/2310 [00:00<?, ?it/s]"
     ]
    },
    {
     "name": "stdout",
     "output_type": "stream",
     "text": [
      "2 0.1859119769239023 0.5518877506256104\n"
     ]
    },
    {
     "name": "stderr",
     "output_type": "stream",
     "text": [
      "100%|██████████| 2310/2310 [07:42<00:00,  4.99it/s]\n",
      "  0%|          | 1/2310 [00:00<05:18,  7.26it/s]"
     ]
    },
    {
     "name": "stdout",
     "output_type": "stream",
     "text": [
      "3 0.13938977102107328 0.6321080923080444\n"
     ]
    },
    {
     "name": "stderr",
     "output_type": "stream",
     "text": [
      "100%|██████████| 2310/2310 [07:20<00:00,  6.36it/s]\n",
      "  0%|          | 1/2310 [00:00<05:23,  7.14it/s]"
     ]
    },
    {
     "name": "stdout",
     "output_type": "stream",
     "text": [
      "4 0.12219092433956755 0.6218795776367188\n"
     ]
    },
    {
     "name": "stderr",
     "output_type": "stream",
     "text": [
      "100%|██████████| 2310/2310 [07:42<00:00,  4.89it/s]\n",
      "  0%|          | 1/2310 [00:00<06:19,  6.09it/s]"
     ]
    },
    {
     "name": "stdout",
     "output_type": "stream",
     "text": [
      "5 0.10089501879234859 0.6404547095298767\n"
     ]
    },
    {
     "name": "stderr",
     "output_type": "stream",
     "text": [
      "100%|██████████| 2310/2310 [07:15<00:00,  4.93it/s]\n",
      "  0%|          | 1/2310 [00:00<05:25,  7.09it/s]"
     ]
    },
    {
     "name": "stdout",
     "output_type": "stream",
     "text": [
      "6 0.09608773276735792 0.6605692505836487\n"
     ]
    },
    {
     "name": "stderr",
     "output_type": "stream",
     "text": [
      "100%|██████████| 2310/2310 [07:44<00:00,  4.72it/s]\n",
      "  0%|          | 1/2310 [00:00<06:10,  6.23it/s]"
     ]
    },
    {
     "name": "stdout",
     "output_type": "stream",
     "text": [
      "7 0.08342502160411652 0.6491931676864624\n"
     ]
    },
    {
     "name": "stderr",
     "output_type": "stream",
     "text": [
      "100%|██████████| 2310/2310 [07:14<00:00,  4.88it/s]\n",
      "  0%|          | 0/2310 [00:00<?, ?it/s]"
     ]
    },
    {
     "name": "stdout",
     "output_type": "stream",
     "text": [
      "8 0.07898528751868379 0.6751347780227661\n"
     ]
    },
    {
     "name": "stderr",
     "output_type": "stream",
     "text": [
      "100%|██████████| 2310/2310 [07:42<00:00,  4.84it/s]\n",
      "  0%|          | 0/2310 [00:00<?, ?it/s]"
     ]
    },
    {
     "name": "stdout",
     "output_type": "stream",
     "text": [
      "9 0.07661883559621686 0.6486854553222656\n"
     ]
    },
    {
     "name": "stderr",
     "output_type": "stream",
     "text": [
      "100%|██████████| 2310/2310 [07:17<00:00,  4.72it/s]\n",
      "  0%|          | 1/2310 [00:00<06:03,  6.35it/s]"
     ]
    },
    {
     "name": "stdout",
     "output_type": "stream",
     "text": [
      "10 0.07431364761187097 0.6700063943862915\n"
     ]
    },
    {
     "name": "stderr",
     "output_type": "stream",
     "text": [
      "100%|██████████| 2310/2310 [07:43<00:00,  4.97it/s]\n",
      "  0%|          | 1/2310 [00:00<07:28,  5.15it/s]"
     ]
    },
    {
     "name": "stdout",
     "output_type": "stream",
     "text": [
      "11 0.06832222835733137 0.6523666381835938\n"
     ]
    },
    {
     "name": "stderr",
     "output_type": "stream",
     "text": [
      "100%|██████████| 2310/2310 [07:34<00:00,  5.04it/s]\n",
      "  0%|          | 0/2310 [00:00<?, ?it/s]"
     ]
    },
    {
     "name": "stdout",
     "output_type": "stream",
     "text": [
      "12 0.0678605081544985 0.6935240626335144\n"
     ]
    },
    {
     "name": "stderr",
     "output_type": "stream",
     "text": [
      "100%|██████████| 2310/2310 [07:38<00:00,  5.97it/s]\n",
      "  0%|          | 0/2310 [00:00<?, ?it/s]"
     ]
    },
    {
     "name": "stdout",
     "output_type": "stream",
     "text": [
      "13 0.06647871727355377 0.6817703247070312\n"
     ]
    },
    {
     "name": "stderr",
     "output_type": "stream",
     "text": [
      "100%|██████████| 2310/2310 [07:42<00:00,  5.13it/s]\n",
      "  0%|          | 1/2310 [00:00<07:23,  5.21it/s]"
     ]
    },
    {
     "name": "stdout",
     "output_type": "stream",
     "text": [
      "14 0.061074292369512784 0.6786307096481323\n"
     ]
    },
    {
     "name": "stderr",
     "output_type": "stream",
     "text": [
      "100%|██████████| 2310/2310 [07:14<00:00,  5.93it/s]\n",
      "  0%|          | 0/2310 [00:00<?, ?it/s]"
     ]
    },
    {
     "name": "stdout",
     "output_type": "stream",
     "text": [
      "15 0.056928208197844964 0.6548572182655334\n"
     ]
    },
    {
     "name": "stderr",
     "output_type": "stream",
     "text": [
      "100%|██████████| 2310/2310 [07:41<00:00,  4.79it/s]\n",
      "  0%|          | 1/2310 [00:00<06:37,  5.80it/s]"
     ]
    },
    {
     "name": "stdout",
     "output_type": "stream",
     "text": [
      "16 0.05800027023934735 0.6962262988090515\n"
     ]
    },
    {
     "name": "stderr",
     "output_type": "stream",
     "text": [
      "100%|██████████| 2310/2310 [07:14<00:00,  5.13it/s]\n",
      "  0%|          | 0/2310 [00:00<?, ?it/s]"
     ]
    },
    {
     "name": "stdout",
     "output_type": "stream",
     "text": [
      "17 0.054097605805445564 0.6845463514328003\n"
     ]
    },
    {
     "name": "stderr",
     "output_type": "stream",
     "text": [
      "100%|██████████| 2310/2310 [07:44<00:00,  5.04it/s]\n",
      "  0%|          | 1/2310 [00:00<06:10,  6.24it/s]"
     ]
    },
    {
     "name": "stdout",
     "output_type": "stream",
     "text": [
      "18 0.055184435907665814 0.6935293674468994\n"
     ]
    },
    {
     "name": "stderr",
     "output_type": "stream",
     "text": [
      "100%|██████████| 2310/2310 [07:14<00:00,  4.92it/s]\n",
      "  0%|          | 1/2310 [00:00<06:12,  6.19it/s]"
     ]
    },
    {
     "name": "stdout",
     "output_type": "stream",
     "text": [
      "19 0.053553013103595025 0.6814028024673462\n"
     ]
    },
    {
     "name": "stderr",
     "output_type": "stream",
     "text": [
      "100%|██████████| 2310/2310 [07:44<00:00,  5.16it/s]\n",
      "  0%|          | 1/2310 [00:00<07:28,  5.15it/s]"
     ]
    },
    {
     "name": "stdout",
     "output_type": "stream",
     "text": [
      "20 0.052105821639254216 0.677937388420105\n"
     ]
    },
    {
     "name": "stderr",
     "output_type": "stream",
     "text": [
      "100%|██████████| 2310/2310 [07:22<00:00,  5.00it/s]\n",
      "  0%|          | 0/2310 [00:00<?, ?it/s]"
     ]
    },
    {
     "name": "stdout",
     "output_type": "stream",
     "text": [
      "21 0.0533672124308753 0.7109189033508301\n"
     ]
    },
    {
     "name": "stderr",
     "output_type": "stream",
     "text": [
      "100%|██████████| 2310/2310 [07:40<00:00,  5.50it/s]\n",
      "  0%|          | 1/2310 [00:00<07:36,  5.06it/s]"
     ]
    },
    {
     "name": "stdout",
     "output_type": "stream",
     "text": [
      "22 0.04990191492923621 0.6725143194198608\n"
     ]
    },
    {
     "name": "stderr",
     "output_type": "stream",
     "text": [
      "100%|██████████| 2310/2310 [07:35<00:00,  4.72it/s]\n",
      "  0%|          | 1/2310 [00:00<06:29,  5.92it/s]"
     ]
    },
    {
     "name": "stdout",
     "output_type": "stream",
     "text": [
      "23 0.049677440373895744 0.6799400448799133\n"
     ]
    },
    {
     "name": "stderr",
     "output_type": "stream",
     "text": [
      "100%|██████████| 2310/2310 [07:32<00:00,  6.13it/s]\n",
      "  0%|          | 1/2310 [00:00<05:20,  7.21it/s]"
     ]
    },
    {
     "name": "stdout",
     "output_type": "stream",
     "text": [
      "24 0.04876134100447955 0.6339251399040222\n"
     ]
    },
    {
     "name": "stderr",
     "output_type": "stream",
     "text": [
      "100%|██████████| 2310/2310 [07:44<00:00,  5.04it/s]\n",
      "  0%|          | 0/2310 [00:00<?, ?it/s]"
     ]
    },
    {
     "name": "stdout",
     "output_type": "stream",
     "text": [
      "25 0.046119414063815097 0.6976977586746216\n"
     ]
    },
    {
     "name": "stderr",
     "output_type": "stream",
     "text": [
      "100%|██████████| 2310/2310 [07:15<00:00,  4.75it/s]\n",
      "  0%|          | 1/2310 [00:00<05:49,  6.62it/s]"
     ]
    },
    {
     "name": "stdout",
     "output_type": "stream",
     "text": [
      "26 0.04984900370988819 0.6871145367622375\n"
     ]
    },
    {
     "name": "stderr",
     "output_type": "stream",
     "text": [
      "100%|██████████| 2310/2310 [07:45<00:00,  4.87it/s]\n",
      "  0%|          | 0/2310 [00:00<?, ?it/s]"
     ]
    },
    {
     "name": "stdout",
     "output_type": "stream",
     "text": [
      "27 0.045758156151453906 0.7020561099052429\n"
     ]
    },
    {
     "name": "stderr",
     "output_type": "stream",
     "text": [
      "100%|██████████| 2310/2310 [07:14<00:00,  4.58it/s]\n",
      "  0%|          | 0/2310 [00:00<?, ?it/s]"
     ]
    },
    {
     "name": "stdout",
     "output_type": "stream",
     "text": [
      "28 0.04664090252612488 0.6794081330299377\n"
     ]
    },
    {
     "name": "stderr",
     "output_type": "stream",
     "text": [
      "100%|██████████| 2310/2310 [07:42<00:00,  4.85it/s]\n",
      "  0%|          | 1/2310 [00:00<06:24,  6.00it/s]"
     ]
    },
    {
     "name": "stdout",
     "output_type": "stream",
     "text": [
      "29 0.04519900467832427 0.7040132880210876\n"
     ]
    },
    {
     "name": "stderr",
     "output_type": "stream",
     "text": [
      "100%|██████████| 2310/2310 [07:16<00:00,  5.24it/s]\n",
      "  0%|          | 1/2310 [00:00<06:49,  5.64it/s]"
     ]
    },
    {
     "name": "stdout",
     "output_type": "stream",
     "text": [
      "30 0.04501014156206545 0.6974311470985413\n"
     ]
    },
    {
     "name": "stderr",
     "output_type": "stream",
     "text": [
      "100%|██████████| 2310/2310 [07:43<00:00,  4.77it/s]\n",
      "  0%|          | 1/2310 [00:00<05:51,  6.56it/s]"
     ]
    },
    {
     "name": "stdout",
     "output_type": "stream",
     "text": [
      "31 0.04526663488103823 0.7046093940734863\n"
     ]
    },
    {
     "name": "stderr",
     "output_type": "stream",
     "text": [
      "100%|██████████| 2310/2310 [07:32<00:00,  4.61it/s]\n",
      "  0%|          | 0/2310 [00:00<?, ?it/s]"
     ]
    },
    {
     "name": "stdout",
     "output_type": "stream",
     "text": [
      "32 0.045994942183390536 0.7031357884407043\n"
     ]
    },
    {
     "name": "stderr",
     "output_type": "stream",
     "text": [
      "100%|██████████| 2310/2310 [07:39<00:00,  5.83it/s]\n",
      "  0%|          | 0/2310 [00:00<?, ?it/s]"
     ]
    },
    {
     "name": "stdout",
     "output_type": "stream",
     "text": [
      "33 0.04100392541322565 0.7112332582473755\n"
     ]
    },
    {
     "name": "stderr",
     "output_type": "stream",
     "text": [
      "100%|██████████| 2310/2310 [07:41<00:00,  4.88it/s]\n",
      "  0%|          | 1/2310 [00:00<06:28,  5.94it/s]"
     ]
    },
    {
     "name": "stdout",
     "output_type": "stream",
     "text": [
      "34 0.043919590768884686 0.6917855739593506\n"
     ]
    },
    {
     "name": "stderr",
     "output_type": "stream",
     "text": [
      "100%|██████████| 2310/2310 [07:17<00:00,  6.15it/s]\n",
      "  0%|          | 0/2310 [00:00<?, ?it/s]"
     ]
    },
    {
     "name": "stdout",
     "output_type": "stream",
     "text": [
      "35 0.04166660578933538 0.706326425075531\n"
     ]
    },
    {
     "name": "stderr",
     "output_type": "stream",
     "text": [
      "100%|██████████| 2310/2310 [07:44<00:00,  4.87it/s]\n",
      "  0%|          | 0/2310 [00:00<?, ?it/s]"
     ]
    },
    {
     "name": "stdout",
     "output_type": "stream",
     "text": [
      "36 0.04129197061684623 0.7290657758712769\n"
     ]
    },
    {
     "name": "stderr",
     "output_type": "stream",
     "text": [
      "100%|██████████| 2310/2310 [07:14<00:00,  5.29it/s]\n",
      "  0%|          | 1/2310 [00:00<06:14,  6.17it/s]"
     ]
    },
    {
     "name": "stdout",
     "output_type": "stream",
     "text": [
      "37 0.04186017051356897 0.7046337127685547\n"
     ]
    },
    {
     "name": "stderr",
     "output_type": "stream",
     "text": [
      "100%|██████████| 2310/2310 [07:42<00:00,  4.70it/s]\n",
      "  0%|          | 1/2310 [00:00<06:22,  6.03it/s]"
     ]
    },
    {
     "name": "stdout",
     "output_type": "stream",
     "text": [
      "38 0.04153247029250734 0.721276581287384\n"
     ]
    },
    {
     "name": "stderr",
     "output_type": "stream",
     "text": [
      "100%|██████████| 2310/2310 [07:13<00:00,  4.94it/s]\n",
      "  0%|          | 0/2310 [00:00<?, ?it/s]"
     ]
    },
    {
     "name": "stdout",
     "output_type": "stream",
     "text": [
      "39 0.04215184145842204 0.6967706084251404\n"
     ]
    },
    {
     "name": "stderr",
     "output_type": "stream",
     "text": [
      "100%|██████████| 2310/2310 [07:44<00:00,  4.98it/s]\n",
      "  0%|          | 0/2310 [00:00<?, ?it/s]"
     ]
    },
    {
     "name": "stdout",
     "output_type": "stream",
     "text": [
      "40 0.03851284468671547 0.6907954216003418\n"
     ]
    },
    {
     "name": "stderr",
     "output_type": "stream",
     "text": [
      "100%|██████████| 2310/2310 [07:25<00:00,  4.69it/s]\n",
      "  0%|          | 0/2310 [00:00<?, ?it/s]"
     ]
    },
    {
     "name": "stdout",
     "output_type": "stream",
     "text": [
      "41 0.039737517019792674 0.7173754572868347\n"
     ]
    },
    {
     "name": "stderr",
     "output_type": "stream",
     "text": [
      "100%|██████████| 2310/2310 [07:41<00:00,  4.76it/s]\n",
      "  0%|          | 0/2310 [00:00<?, ?it/s]"
     ]
    },
    {
     "name": "stdout",
     "output_type": "stream",
     "text": [
      "42 0.04092348965216427 0.704993486404419\n"
     ]
    },
    {
     "name": "stderr",
     "output_type": "stream",
     "text": [
      "100%|██████████| 2310/2310 [07:39<00:00,  4.83it/s]\n",
      "  0%|          | 0/2310 [00:00<?, ?it/s]"
     ]
    },
    {
     "name": "stdout",
     "output_type": "stream",
     "text": [
      "43 0.03746678321325854 0.7154452204704285\n"
     ]
    },
    {
     "name": "stderr",
     "output_type": "stream",
     "text": [
      "100%|██████████| 2310/2310 [07:24<00:00,  5.88it/s]\n",
      "  0%|          | 1/2310 [00:00<05:09,  7.47it/s]"
     ]
    },
    {
     "name": "stdout",
     "output_type": "stream",
     "text": [
      "44 0.0394193580303133 0.6968002319335938\n"
     ]
    },
    {
     "name": "stderr",
     "output_type": "stream",
     "text": [
      "100%|██████████| 2310/2310 [07:41<00:00,  4.78it/s]\n",
      "  0%|          | 0/2310 [00:00<?, ?it/s]"
     ]
    },
    {
     "name": "stdout",
     "output_type": "stream",
     "text": [
      "45 0.039217261364381 0.7231190204620361\n"
     ]
    },
    {
     "name": "stderr",
     "output_type": "stream",
     "text": [
      "100%|██████████| 2310/2310 [07:13<00:00,  4.93it/s]\n",
      "  0%|          | 1/2310 [00:00<06:50,  5.62it/s]"
     ]
    },
    {
     "name": "stdout",
     "output_type": "stream",
     "text": [
      "46 0.03713117645034585 0.7030229568481445\n"
     ]
    },
    {
     "name": "stderr",
     "output_type": "stream",
     "text": [
      "100%|██████████| 2310/2310 [07:43<00:00,  4.92it/s]\n",
      "  0%|          | 0/2310 [00:00<?, ?it/s]"
     ]
    },
    {
     "name": "stdout",
     "output_type": "stream",
     "text": [
      "47 0.03903379186466756 0.711388111114502\n"
     ]
    },
    {
     "name": "stderr",
     "output_type": "stream",
     "text": [
      "100%|██████████| 2310/2310 [07:13<00:00,  4.83it/s]\n",
      "  0%|          | 1/2310 [00:00<06:03,  6.34it/s]"
     ]
    },
    {
     "name": "stdout",
     "output_type": "stream",
     "text": [
      "48 0.03596191996835162 0.7213131189346313\n"
     ]
    },
    {
     "name": "stderr",
     "output_type": "stream",
     "text": [
      "100%|██████████| 2310/2310 [07:44<00:00,  5.43it/s]\n",
      "  0%|          | 1/2310 [00:00<05:42,  6.75it/s]"
     ]
    },
    {
     "name": "stdout",
     "output_type": "stream",
     "text": [
      "49 0.038100232014044534 0.7187646627426147\n"
     ]
    },
    {
     "name": "stderr",
     "output_type": "stream",
     "text": [
      "100%|██████████| 2310/2310 [07:16<00:00,  4.76it/s]\n",
      "  0%|          | 1/2310 [00:00<06:11,  6.21it/s]"
     ]
    },
    {
     "name": "stdout",
     "output_type": "stream",
     "text": [
      "50 0.03594690179085257 0.7120652794837952\n"
     ]
    },
    {
     "name": "stderr",
     "output_type": "stream",
     "text": [
      "100%|██████████| 2310/2310 [07:42<00:00,  4.61it/s]\n",
      "  0%|          | 0/2310 [00:00<?, ?it/s]"
     ]
    },
    {
     "name": "stdout",
     "output_type": "stream",
     "text": [
      "51 0.038133805521694084 0.7239380478858948\n"
     ]
    },
    {
     "name": "stderr",
     "output_type": "stream",
     "text": [
      "100%|██████████| 2310/2310 [07:31<00:00,  4.81it/s]\n",
      "  0%|          | 1/2310 [00:00<05:41,  6.75it/s]"
     ]
    },
    {
     "name": "stdout",
     "output_type": "stream",
     "text": [
      "52 0.03502317256386557 0.6882578730583191\n"
     ]
    },
    {
     "name": "stderr",
     "output_type": "stream",
     "text": [
      "100%|██████████| 2310/2310 [07:38<00:00,  6.16it/s]\n",
      "  0%|          | 1/2310 [00:00<05:53,  6.54it/s]"
     ]
    },
    {
     "name": "stdout",
     "output_type": "stream",
     "text": [
      "53 0.03618180622407604 0.7408170104026794\n"
     ]
    },
    {
     "name": "stderr",
     "output_type": "stream",
     "text": [
      "100%|██████████| 2310/2310 [07:41<00:00,  4.69it/s]\n",
      "  0%|          | 1/2310 [00:00<05:44,  6.70it/s]"
     ]
    },
    {
     "name": "stdout",
     "output_type": "stream",
     "text": [
      "54 0.03904643326944515 0.7428799271583557\n"
     ]
    },
    {
     "name": "stderr",
     "output_type": "stream",
     "text": [
      "100%|██████████| 2310/2310 [07:15<00:00,  6.14it/s]\n",
      "  0%|          | 0/2310 [00:00<?, ?it/s]"
     ]
    },
    {
     "name": "stdout",
     "output_type": "stream",
     "text": [
      "55 0.037762125523259964 0.6992014646530151\n"
     ]
    },
    {
     "name": "stderr",
     "output_type": "stream",
     "text": [
      "100%|██████████| 2310/2310 [07:43<00:00,  4.70it/s]\n",
      "  0%|          | 0/2310 [00:00<?, ?it/s]"
     ]
    },
    {
     "name": "stdout",
     "output_type": "stream",
     "text": [
      "56 0.035952637906619074 0.7103115320205688\n"
     ]
    },
    {
     "name": "stderr",
     "output_type": "stream",
     "text": [
      "100%|██████████| 2310/2310 [07:15<00:00,  5.05it/s]\n",
      "  0%|          | 0/2310 [00:00<?, ?it/s]"
     ]
    },
    {
     "name": "stdout",
     "output_type": "stream",
     "text": [
      "57 0.03431552154971581 0.7185770273208618\n"
     ]
    },
    {
     "name": "stderr",
     "output_type": "stream",
     "text": [
      "100%|██████████| 2310/2310 [07:44<00:00,  4.64it/s]\n",
      "  0%|          | 1/2310 [00:00<06:22,  6.03it/s]"
     ]
    },
    {
     "name": "stdout",
     "output_type": "stream",
     "text": [
      "58 0.03762117844041084 0.7136328220367432\n"
     ]
    },
    {
     "name": "stderr",
     "output_type": "stream",
     "text": [
      "100%|██████████| 2310/2310 [07:14<00:00,  5.14it/s]\n",
      "  0%|          | 1/2310 [00:00<05:28,  7.03it/s]"
     ]
    },
    {
     "name": "stdout",
     "output_type": "stream",
     "text": [
      "59 0.0346130906624801 0.7297396659851074\n"
     ]
    },
    {
     "name": "stderr",
     "output_type": "stream",
     "text": [
      "100%|██████████| 2310/2310 [07:43<00:00,  4.70it/s]\n",
      "  0%|          | 1/2310 [00:00<05:36,  6.86it/s]"
     ]
    },
    {
     "name": "stdout",
     "output_type": "stream",
     "text": [
      "60 0.034976318864181684 0.7186569571495056\n"
     ]
    },
    {
     "name": "stderr",
     "output_type": "stream",
     "text": [
      "100%|██████████| 2310/2310 [07:25<00:00,  5.37it/s]\n",
      "  0%|          | 0/2310 [00:00<?, ?it/s]"
     ]
    },
    {
     "name": "stdout",
     "output_type": "stream",
     "text": [
      "61 0.033668282237702525 0.7406005859375\n"
     ]
    },
    {
     "name": "stderr",
     "output_type": "stream",
     "text": [
      "100%|██████████| 2310/2310 [07:44<00:00,  4.93it/s]\n",
      "  0%|          | 0/2310 [00:00<?, ?it/s]"
     ]
    },
    {
     "name": "stdout",
     "output_type": "stream",
     "text": [
      "62 0.035178541133624744 0.7240380644798279\n"
     ]
    },
    {
     "name": "stderr",
     "output_type": "stream",
     "text": [
      "100%|██████████| 2310/2310 [07:44<00:00,  4.80it/s]\n",
      "  0%|          | 1/2310 [00:00<05:21,  7.17it/s]"
     ]
    },
    {
     "name": "stdout",
     "output_type": "stream",
     "text": [
      "63 0.03297044756354812 0.7249711155891418\n"
     ]
    },
    {
     "name": "stderr",
     "output_type": "stream",
     "text": [
      "100%|██████████| 2310/2310 [07:20<00:00,  5.93it/s]\n",
      "  0%|          | 1/2310 [00:00<07:30,  5.13it/s]"
     ]
    },
    {
     "name": "stdout",
     "output_type": "stream",
     "text": [
      "64 0.03383999320707857 0.7084926962852478\n"
     ]
    },
    {
     "name": "stderr",
     "output_type": "stream",
     "text": [
      "100%|██████████| 2310/2310 [07:43<00:00,  4.66it/s]\n",
      "  0%|          | 0/2310 [00:00<?, ?it/s]"
     ]
    },
    {
     "name": "stdout",
     "output_type": "stream",
     "text": [
      "65 0.03427696725915861 0.7231460213661194\n"
     ]
    },
    {
     "name": "stderr",
     "output_type": "stream",
     "text": [
      "100%|██████████| 2310/2310 [07:12<00:00,  5.17it/s]\n",
      "  0%|          | 1/2310 [00:00<07:25,  5.18it/s]"
     ]
    },
    {
     "name": "stdout",
     "output_type": "stream",
     "text": [
      "66 0.03527513094167332 0.7373120784759521\n"
     ]
    },
    {
     "name": "stderr",
     "output_type": "stream",
     "text": [
      "100%|██████████| 2310/2310 [07:42<00:00,  5.04it/s]\n",
      "  0%|          | 1/2310 [00:00<05:49,  6.61it/s]"
     ]
    },
    {
     "name": "stdout",
     "output_type": "stream",
     "text": [
      "67 0.03227746438544813 0.7181694507598877\n"
     ]
    },
    {
     "name": "stderr",
     "output_type": "stream",
     "text": [
      "100%|██████████| 2310/2310 [07:14<00:00,  4.90it/s]\n",
      "  0%|          | 0/2310 [00:00<?, ?it/s]"
     ]
    },
    {
     "name": "stdout",
     "output_type": "stream",
     "text": [
      "68 0.03284424947491646 0.7446251511573792\n"
     ]
    },
    {
     "name": "stderr",
     "output_type": "stream",
     "text": [
      "100%|██████████| 2310/2310 [07:42<00:00,  4.84it/s]\n",
      "  0%|          | 0/2310 [00:00<?, ?it/s]"
     ]
    },
    {
     "name": "stdout",
     "output_type": "stream",
     "text": [
      "69 0.03453888057583065 0.7289090752601624\n"
     ]
    },
    {
     "name": "stderr",
     "output_type": "stream",
     "text": [
      "100%|██████████| 2310/2310 [07:19<00:00,  4.85it/s]\n",
      "  0%|          | 0/2310 [00:00<?, ?it/s]"
     ]
    },
    {
     "name": "stdout",
     "output_type": "stream",
     "text": [
      "70 0.03393802315927639 0.7320225834846497\n"
     ]
    },
    {
     "name": "stderr",
     "output_type": "stream",
     "text": [
      "100%|██████████| 2310/2310 [07:43<00:00,  5.08it/s]\n",
      "  0%|          | 1/2310 [00:00<05:38,  6.82it/s]"
     ]
    },
    {
     "name": "stdout",
     "output_type": "stream",
     "text": [
      "71 0.032130280500314176 0.7229412198066711\n"
     ]
    },
    {
     "name": "stderr",
     "output_type": "stream",
     "text": [
      "100%|██████████| 2310/2310 [07:31<00:00,  4.92it/s]\n",
      "  0%|          | 1/2310 [00:00<06:25,  5.99it/s]"
     ]
    },
    {
     "name": "stdout",
     "output_type": "stream",
     "text": [
      "72 0.03206861813239279 0.7368724346160889\n"
     ]
    },
    {
     "name": "stderr",
     "output_type": "stream",
     "text": [
      "100%|██████████| 2310/2310 [07:32<00:00,  5.98it/s]\n",
      "  0%|          | 0/2310 [00:00<?, ?it/s]"
     ]
    },
    {
     "name": "stdout",
     "output_type": "stream",
     "text": [
      "73 0.03383351478567561 0.7244682908058167\n"
     ]
    },
    {
     "name": "stderr",
     "output_type": "stream",
     "text": [
      "100%|██████████| 2310/2310 [07:44<00:00,  4.96it/s]\n",
      "  0%|          | 0/2310 [00:00<?, ?it/s]"
     ]
    },
    {
     "name": "stdout",
     "output_type": "stream",
     "text": [
      "74 0.03184839886935462 0.7307894825935364\n"
     ]
    },
    {
     "name": "stderr",
     "output_type": "stream",
     "text": [
      "100%|██████████| 2310/2310 [07:12<00:00,  6.14it/s]\n",
      "  0%|          | 0/2310 [00:00<?, ?it/s]"
     ]
    },
    {
     "name": "stdout",
     "output_type": "stream",
     "text": [
      "75 0.03193812599206394 0.7334988713264465\n"
     ]
    },
    {
     "name": "stderr",
     "output_type": "stream",
     "text": [
      "100%|██████████| 2310/2310 [07:46<00:00,  4.63it/s]\n",
      "  0%|          | 0/2310 [00:00<?, ?it/s]"
     ]
    },
    {
     "name": "stdout",
     "output_type": "stream",
     "text": [
      "76 0.03206331752952157 0.7275597453117371\n"
     ]
    },
    {
     "name": "stderr",
     "output_type": "stream",
     "text": [
      "100%|██████████| 2310/2310 [07:03<00:00,  5.50it/s]\n",
      "  0%|          | 1/2310 [00:00<04:59,  7.70it/s]"
     ]
    },
    {
     "name": "stdout",
     "output_type": "stream",
     "text": [
      "77 0.03249730727316279 0.7248004674911499\n"
     ]
    },
    {
     "name": "stderr",
     "output_type": "stream",
     "text": [
      "100%|██████████| 2310/2310 [06:42<00:00,  5.38it/s]\n",
      "  0%|          | 1/2310 [00:00<05:32,  6.93it/s]"
     ]
    },
    {
     "name": "stdout",
     "output_type": "stream",
     "text": [
      "78 0.030587992003294828 0.7218435406684875\n"
     ]
    },
    {
     "name": "stderr",
     "output_type": "stream",
     "text": [
      "100%|██████████| 2310/2310 [06:20<00:00,  5.95it/s]\n",
      "  0%|          | 1/2310 [00:00<05:57,  6.46it/s]"
     ]
    },
    {
     "name": "stdout",
     "output_type": "stream",
     "text": [
      "79 0.033033733938216854 0.7243591547012329\n"
     ]
    },
    {
     "name": "stderr",
     "output_type": "stream",
     "text": [
      "100%|██████████| 2310/2310 [06:42<00:00,  7.22it/s]\n",
      "  0%|          | 1/2310 [00:00<06:50,  5.63it/s]"
     ]
    },
    {
     "name": "stdout",
     "output_type": "stream",
     "text": [
      "80 0.030518262579330456 0.727026104927063\n"
     ]
    },
    {
     "name": "stderr",
     "output_type": "stream",
     "text": [
      "100%|██████████| 2310/2310 [06:41<00:00,  5.69it/s]\n",
      "  0%|          | 0/2310 [00:00<?, ?it/s]"
     ]
    },
    {
     "name": "stdout",
     "output_type": "stream",
     "text": [
      "81 0.032245386335006544 0.7461102604866028\n"
     ]
    },
    {
     "name": "stderr",
     "output_type": "stream",
     "text": [
      "100%|██████████| 2310/2310 [06:26<00:00,  5.66it/s]\n",
      "  0%|          | 1/2310 [00:00<05:19,  7.23it/s]"
     ]
    },
    {
     "name": "stdout",
     "output_type": "stream",
     "text": [
      "82 0.03053059380770943 0.7346011996269226\n"
     ]
    },
    {
     "name": "stderr",
     "output_type": "stream",
     "text": [
      "100%|██████████| 2310/2310 [06:52<00:00,  5.07it/s]\n",
      "  0%|          | 1/2310 [00:00<04:53,  7.88it/s]"
     ]
    },
    {
     "name": "stdout",
     "output_type": "stream",
     "text": [
      "83 0.032464177425161826 0.7272863388061523\n"
     ]
    },
    {
     "name": "stderr",
     "output_type": "stream",
     "text": [
      "100%|██████████| 2310/2310 [07:20<00:00,  4.98it/s]\n",
      "  0%|          | 1/2310 [00:00<06:19,  6.09it/s]"
     ]
    },
    {
     "name": "stdout",
     "output_type": "stream",
     "text": [
      "84 0.030251535835473013 0.7294768691062927\n"
     ]
    },
    {
     "name": "stderr",
     "output_type": "stream",
     "text": [
      "100%|██████████| 2310/2310 [07:23<00:00,  5.15it/s]\n",
      "  0%|          | 0/2310 [00:00<?, ?it/s]"
     ]
    },
    {
     "name": "stdout",
     "output_type": "stream",
     "text": [
      "85 0.03210581162998484 0.7196683883666992\n"
     ]
    },
    {
     "name": "stderr",
     "output_type": "stream",
     "text": [
      "100%|██████████| 2310/2310 [07:21<00:00,  4.86it/s]\n",
      "  0%|          | 0/2310 [00:00<?, ?it/s]"
     ]
    },
    {
     "name": "stdout",
     "output_type": "stream",
     "text": [
      "86 0.030315036995956758 0.748259961605072\n"
     ]
    },
    {
     "name": "stderr",
     "output_type": "stream",
     "text": [
      "100%|██████████| 2310/2310 [07:41<00:00,  5.73it/s]\n",
      "  0%|          | 0/2310 [00:00<?, ?it/s]"
     ]
    },
    {
     "name": "stdout",
     "output_type": "stream",
     "text": [
      "87 0.030861124468522832 0.7646054029464722\n"
     ]
    },
    {
     "name": "stderr",
     "output_type": "stream",
     "text": [
      "100%|██████████| 2310/2310 [07:34<00:00,  5.27it/s]\n",
      "  0%|          | 0/2310 [00:00<?, ?it/s]"
     ]
    },
    {
     "name": "stdout",
     "output_type": "stream",
     "text": [
      "88 0.030556252731624208 0.7313066720962524\n"
     ]
    },
    {
     "name": "stderr",
     "output_type": "stream",
     "text": [
      "100%|██████████| 2310/2310 [07:24<00:00,  6.36it/s]\n",
      "  0%|          | 0/2310 [00:00<?, ?it/s]"
     ]
    },
    {
     "name": "stdout",
     "output_type": "stream",
     "text": [
      "89 0.030463209733505716 0.7356234192848206\n"
     ]
    },
    {
     "name": "stderr",
     "output_type": "stream",
     "text": [
      "100%|██████████| 2310/2310 [07:27<00:00,  4.84it/s]\n",
      "  0%|          | 0/2310 [00:00<?, ?it/s]"
     ]
    },
    {
     "name": "stdout",
     "output_type": "stream",
     "text": [
      "90 0.030361222244005354 0.7574634552001953\n"
     ]
    },
    {
     "name": "stderr",
     "output_type": "stream",
     "text": [
      "100%|██████████| 2310/2310 [07:10<00:00,  5.63it/s]\n",
      "  0%|          | 1/2310 [00:00<06:14,  6.16it/s]"
     ]
    },
    {
     "name": "stdout",
     "output_type": "stream",
     "text": [
      "91 0.03203776574602061 0.7273143529891968\n"
     ]
    },
    {
     "name": "stderr",
     "output_type": "stream",
     "text": [
      "100%|██████████| 2310/2310 [06:49<00:00,  5.97it/s]\n",
      "  0%|          | 1/2310 [00:00<05:00,  7.69it/s]"
     ]
    },
    {
     "name": "stdout",
     "output_type": "stream",
     "text": [
      "92 0.02941849574304701 0.7254880666732788\n"
     ]
    },
    {
     "name": "stderr",
     "output_type": "stream",
     "text": [
      "100%|██████████| 2310/2310 [06:29<00:00,  6.03it/s]\n",
      "  0%|          | 1/2310 [00:00<04:58,  7.73it/s]"
     ]
    },
    {
     "name": "stdout",
     "output_type": "stream",
     "text": [
      "93 0.03137677091211339 0.7294725775718689\n"
     ]
    },
    {
     "name": "stderr",
     "output_type": "stream",
     "text": [
      "100%|██████████| 2310/2310 [06:45<00:00,  5.37it/s]\n",
      "  0%|          | 1/2310 [00:00<05:45,  6.68it/s]"
     ]
    },
    {
     "name": "stdout",
     "output_type": "stream",
     "text": [
      "94 0.02975113943441831 0.7303140163421631\n"
     ]
    },
    {
     "name": "stderr",
     "output_type": "stream",
     "text": [
      "100%|██████████| 2310/2310 [06:37<00:00,  5.56it/s]\n",
      "  0%|          | 1/2310 [00:00<06:00,  6.41it/s]"
     ]
    },
    {
     "name": "stdout",
     "output_type": "stream",
     "text": [
      "95 0.029431225160026303 0.7414294481277466\n"
     ]
    },
    {
     "name": "stderr",
     "output_type": "stream",
     "text": [
      "100%|██████████| 2310/2310 [06:30<00:00,  5.54it/s]\n",
      "  0%|          | 0/2310 [00:00<?, ?it/s]"
     ]
    },
    {
     "name": "stdout",
     "output_type": "stream",
     "text": [
      "96 0.030052001126217035 0.7403866648674011\n"
     ]
    },
    {
     "name": "stderr",
     "output_type": "stream",
     "text": [
      "100%|██████████| 2310/2310 [06:43<00:00,  6.02it/s]\n",
      "  0%|          | 1/2310 [00:00<05:03,  7.60it/s]"
     ]
    },
    {
     "name": "stdout",
     "output_type": "stream",
     "text": [
      "97 0.031279906855582316 0.7459648847579956\n"
     ]
    },
    {
     "name": "stderr",
     "output_type": "stream",
     "text": [
      "100%|██████████| 2310/2310 [06:27<00:00,  5.85it/s]\n",
      "  0%|          | 1/2310 [00:00<04:58,  7.73it/s]"
     ]
    },
    {
     "name": "stdout",
     "output_type": "stream",
     "text": [
      "98 0.030007797064265294 0.7523114681243896\n"
     ]
    },
    {
     "name": "stderr",
     "output_type": "stream",
     "text": [
      "100%|██████████| 2310/2310 [06:43<00:00,  5.65it/s]\n",
      "  0%|          | 1/2310 [00:00<05:51,  6.58it/s]"
     ]
    },
    {
     "name": "stdout",
     "output_type": "stream",
     "text": [
      "99 0.02872577156861877 0.7741700410842896\n"
     ]
    },
    {
     "name": "stderr",
     "output_type": "stream",
     "text": [
      "100%|██████████| 2310/2310 [06:29<00:00,  5.60it/s]\n",
      "  0%|          | 1/2310 [00:00<06:02,  6.37it/s]"
     ]
    },
    {
     "name": "stdout",
     "output_type": "stream",
     "text": [
      "100 0.029172442131867368 0.7559229135513306\n"
     ]
    },
    {
     "name": "stderr",
     "output_type": "stream",
     "text": [
      "100%|██████████| 2310/2310 [06:31<00:00,  6.77it/s]\n",
      "  0%|          | 1/2310 [00:00<04:57,  7.77it/s]"
     ]
    },
    {
     "name": "stdout",
     "output_type": "stream",
     "text": [
      "101 0.030364951390681096 0.7693836092948914\n"
     ]
    },
    {
     "name": "stderr",
     "output_type": "stream",
     "text": [
      "100%|██████████| 2310/2310 [06:43<00:00,  5.95it/s]\n",
      "  0%|          | 1/2310 [00:00<04:58,  7.75it/s]"
     ]
    },
    {
     "name": "stdout",
     "output_type": "stream",
     "text": [
      "102 0.02935160442439766 0.7352402210235596\n"
     ]
    },
    {
     "name": "stderr",
     "output_type": "stream",
     "text": [
      "100%|██████████| 2310/2310 [06:27<00:00,  5.67it/s]\n",
      "  0%|          | 1/2310 [00:00<05:48,  6.63it/s]"
     ]
    },
    {
     "name": "stdout",
     "output_type": "stream",
     "text": [
      "103 0.029085391218826053 0.7280812859535217\n"
     ]
    },
    {
     "name": "stderr",
     "output_type": "stream",
     "text": [
      "100%|██████████| 2310/2310 [06:43<00:00,  6.00it/s]\n",
      "  0%|          | 1/2310 [00:00<05:01,  7.66it/s]"
     ]
    },
    {
     "name": "stdout",
     "output_type": "stream",
     "text": [
      "104 0.0291607588321461 0.6648954749107361\n"
     ]
    },
    {
     "name": "stderr",
     "output_type": "stream",
     "text": [
      "100%|██████████| 2310/2310 [06:26<00:00,  5.68it/s]\n",
      "  0%|          | 1/2310 [00:00<06:00,  6.41it/s]"
     ]
    },
    {
     "name": "stdout",
     "output_type": "stream",
     "text": [
      "105 0.02979427307840935 0.7388861775398254\n"
     ]
    },
    {
     "name": "stderr",
     "output_type": "stream",
     "text": [
      "100%|██████████| 2310/2310 [06:36<00:00,  6.75it/s]\n",
      "  0%|          | 1/2310 [00:00<05:12,  7.40it/s]"
     ]
    },
    {
     "name": "stdout",
     "output_type": "stream",
     "text": [
      "106 0.028653001312316496 0.7420180439949036\n"
     ]
    },
    {
     "name": "stderr",
     "output_type": "stream",
     "text": [
      "100%|██████████| 2310/2310 [06:43<00:00,  5.45it/s]\n",
      "  0%|          | 0/2310 [00:00<?, ?it/s]"
     ]
    },
    {
     "name": "stdout",
     "output_type": "stream",
     "text": [
      "107 0.028549411857235273 0.7339214086532593\n"
     ]
    },
    {
     "name": "stderr",
     "output_type": "stream",
     "text": [
      "100%|██████████| 2310/2310 [06:27<00:00,  5.66it/s]\n",
      "  0%|          | 1/2310 [00:00<05:53,  6.53it/s]"
     ]
    },
    {
     "name": "stdout",
     "output_type": "stream",
     "text": [
      "108 0.03038755149631763 0.7373933792114258\n"
     ]
    },
    {
     "name": "stderr",
     "output_type": "stream",
     "text": [
      "100%|██████████| 2310/2310 [06:43<00:00,  5.58it/s]\n",
      "  0%|          | 1/2310 [00:00<06:00,  6.41it/s]"
     ]
    },
    {
     "name": "stdout",
     "output_type": "stream",
     "text": [
      "109 0.02826561794352898 0.7197709679603577\n"
     ]
    },
    {
     "name": "stderr",
     "output_type": "stream",
     "text": [
      "100%|██████████| 2310/2310 [06:52<00:00,  5.12it/s]\n",
      "  0%|          | 0/2310 [00:00<?, ?it/s]"
     ]
    },
    {
     "name": "stdout",
     "output_type": "stream",
     "text": [
      "110 0.02784992360311083 0.753833532333374\n"
     ]
    },
    {
     "name": "stderr",
     "output_type": "stream",
     "text": [
      "100%|██████████| 2310/2310 [07:43<00:00,  4.18it/s]\n",
      "  0%|          | 1/2310 [00:00<07:00,  5.49it/s]"
     ]
    },
    {
     "name": "stdout",
     "output_type": "stream",
     "text": [
      "111 0.028374506056957325 0.7310289740562439\n"
     ]
    },
    {
     "name": "stderr",
     "output_type": "stream",
     "text": [
      "100%|██████████| 2310/2310 [07:32<00:00,  4.89it/s]\n",
      "  0%|          | 1/2310 [00:00<06:08,  6.27it/s]"
     ]
    },
    {
     "name": "stdout",
     "output_type": "stream",
     "text": [
      "112 0.02950834440960415 0.7710450887680054\n"
     ]
    },
    {
     "name": "stderr",
     "output_type": "stream",
     "text": [
      "100%|██████████| 2310/2310 [07:45<00:00,  6.31it/s]\n",
      "  0%|          | 1/2310 [00:00<06:21,  6.05it/s]"
     ]
    },
    {
     "name": "stdout",
     "output_type": "stream",
     "text": [
      "113 0.028480794901111363 0.7506764531135559\n"
     ]
    },
    {
     "name": "stderr",
     "output_type": "stream",
     "text": [
      "100%|██████████| 2310/2310 [07:46<00:00,  5.00it/s]\n",
      "  0%|          | 0/2310 [00:00<?, ?it/s]"
     ]
    },
    {
     "name": "stdout",
     "output_type": "stream",
     "text": [
      "114 0.027800569280936844 0.7382298707962036\n"
     ]
    },
    {
     "name": "stderr",
     "output_type": "stream",
     "text": [
      "100%|██████████| 2310/2310 [07:27<00:00,  6.05it/s]\n",
      "  0%|          | 1/2310 [00:00<05:10,  7.44it/s]"
     ]
    },
    {
     "name": "stdout",
     "output_type": "stream",
     "text": [
      "115 0.02793845068179345 0.7310258746147156\n"
     ]
    },
    {
     "name": "stderr",
     "output_type": "stream",
     "text": [
      "100%|██████████| 2310/2310 [07:44<00:00,  4.92it/s]\n",
      "  0%|          | 0/2310 [00:00<?, ?it/s]"
     ]
    },
    {
     "name": "stdout",
     "output_type": "stream",
     "text": [
      "116 0.030168495074417902 0.7711393237113953\n"
     ]
    },
    {
     "name": "stderr",
     "output_type": "stream",
     "text": [
      "100%|██████████| 2310/2310 [07:17<00:00,  5.07it/s]\n",
      "  0%|          | 0/2310 [00:00<?, ?it/s]"
     ]
    },
    {
     "name": "stdout",
     "output_type": "stream",
     "text": [
      "117 0.027430484135505723 0.7662345170974731\n"
     ]
    },
    {
     "name": "stderr",
     "output_type": "stream",
     "text": [
      "100%|██████████| 2310/2310 [07:42<00:00,  5.01it/s]\n",
      "  0%|          | 1/2310 [00:00<07:13,  5.33it/s]"
     ]
    },
    {
     "name": "stdout",
     "output_type": "stream",
     "text": [
      "118 0.02773906188081642 0.7271172404289246\n"
     ]
    },
    {
     "name": "stderr",
     "output_type": "stream",
     "text": [
      "100%|██████████| 2310/2310 [07:14<00:00,  5.18it/s]\n",
      "  0%|          | 1/2310 [00:00<06:04,  6.33it/s]"
     ]
    },
    {
     "name": "stdout",
     "output_type": "stream",
     "text": [
      "119 0.03154453129179682 0.7273355722427368\n"
     ]
    },
    {
     "name": "stderr",
     "output_type": "stream",
     "text": [
      "100%|██████████| 2310/2310 [07:43<00:00,  4.77it/s]\n",
      "  0%|          | 1/2310 [00:00<05:20,  7.19it/s]"
     ]
    },
    {
     "name": "stdout",
     "output_type": "stream",
     "text": [
      "120 0.026800041529440734 0.7365738749504089\n"
     ]
    },
    {
     "name": "stderr",
     "output_type": "stream",
     "text": [
      "100%|██████████| 2310/2310 [07:16<00:00,  5.09it/s]\n",
      "  0%|          | 0/2310 [00:00<?, ?it/s]"
     ]
    },
    {
     "name": "stdout",
     "output_type": "stream",
     "text": [
      "121 0.027883037724304297 0.745805561542511\n"
     ]
    },
    {
     "name": "stderr",
     "output_type": "stream",
     "text": [
      "100%|██████████| 2310/2310 [07:45<00:00,  4.79it/s]\n",
      "  0%|          | 1/2310 [00:00<05:36,  6.85it/s]"
     ]
    },
    {
     "name": "stdout",
     "output_type": "stream",
     "text": [
      "122 0.027966668636926508 0.7469882965087891\n"
     ]
    },
    {
     "name": "stderr",
     "output_type": "stream",
     "text": [
      "100%|██████████| 2310/2310 [07:18<00:00,  4.60it/s]\n",
      "  0%|          | 0/2310 [00:00<?, ?it/s]"
     ]
    },
    {
     "name": "stdout",
     "output_type": "stream",
     "text": [
      "123 0.02699457453309702 0.730517566204071\n"
     ]
    },
    {
     "name": "stderr",
     "output_type": "stream",
     "text": [
      "100%|██████████| 2310/2310 [07:43<00:00,  4.96it/s]\n",
      "  0%|          | 1/2310 [00:00<07:13,  5.33it/s]"
     ]
    },
    {
     "name": "stdout",
     "output_type": "stream",
     "text": [
      "124 0.027548249714938064 0.7666043639183044\n"
     ]
    },
    {
     "name": "stderr",
     "output_type": "stream",
     "text": [
      "100%|██████████| 2310/2310 [07:35<00:00,  5.14it/s]\n",
      "  0%|          | 0/2310 [00:00<?, ?it/s]"
     ]
    },
    {
     "name": "stdout",
     "output_type": "stream",
     "text": [
      "125 0.0278002876113179 0.7330780625343323\n"
     ]
    },
    {
     "name": "stderr",
     "output_type": "stream",
     "text": [
      "100%|██████████| 2310/2310 [07:41<00:00,  6.23it/s]\n",
      "  0%|          | 0/2310 [00:00<?, ?it/s]"
     ]
    },
    {
     "name": "stdout",
     "output_type": "stream",
     "text": [
      "126 0.02673958278038882 0.7417932748794556\n"
     ]
    },
    {
     "name": "stderr",
     "output_type": "stream",
     "text": [
      "100%|██████████| 2310/2310 [07:44<00:00,  5.06it/s]\n",
      "  0%|          | 0/2310 [00:00<?, ?it/s]"
     ]
    },
    {
     "name": "stdout",
     "output_type": "stream",
     "text": [
      "127 0.028862149342926822 0.7374913692474365\n"
     ]
    },
    {
     "name": "stderr",
     "output_type": "stream",
     "text": [
      "100%|██████████| 2310/2310 [07:21<00:00,  6.07it/s]\n",
      "  0%|          | 0/2310 [00:00<?, ?it/s]"
     ]
    },
    {
     "name": "stdout",
     "output_type": "stream",
     "text": [
      "128 0.026488964055451467 0.7592865228652954\n"
     ]
    },
    {
     "name": "stderr",
     "output_type": "stream",
     "text": [
      "100%|██████████| 2310/2310 [07:45<00:00,  4.94it/s]\n",
      "  0%|          | 1/2310 [00:00<06:32,  5.88it/s]"
     ]
    },
    {
     "name": "stdout",
     "output_type": "stream",
     "text": [
      "129 0.02823660710657918 0.7763395309448242\n"
     ]
    },
    {
     "name": "stderr",
     "output_type": "stream",
     "text": [
      "100%|██████████| 2310/2310 [07:18<00:00,  5.12it/s]\n",
      "  0%|          | 1/2310 [00:00<06:59,  5.51it/s]"
     ]
    },
    {
     "name": "stdout",
     "output_type": "stream",
     "text": [
      "130 0.026513482751740217 0.7588056325912476\n"
     ]
    },
    {
     "name": "stderr",
     "output_type": "stream",
     "text": [
      "100%|██████████| 2310/2310 [07:46<00:00,  5.10it/s]\n",
      "  0%|          | 0/2310 [00:00<?, ?it/s]"
     ]
    },
    {
     "name": "stdout",
     "output_type": "stream",
     "text": [
      "131 0.027629662682243813 0.7911058068275452\n"
     ]
    },
    {
     "name": "stderr",
     "output_type": "stream",
     "text": [
      "100%|██████████| 2310/2310 [07:17<00:00,  5.03it/s]\n",
      "  0%|          | 0/2310 [00:00<?, ?it/s]"
     ]
    },
    {
     "name": "stdout",
     "output_type": "stream",
     "text": [
      "132 0.027171659607225652 0.7691518664360046\n"
     ]
    },
    {
     "name": "stderr",
     "output_type": "stream",
     "text": [
      "100%|██████████| 2310/2310 [07:46<00:00,  5.17it/s]\n",
      "  0%|          | 0/2310 [00:00<?, ?it/s]"
     ]
    },
    {
     "name": "stdout",
     "output_type": "stream",
     "text": [
      "133 0.02696572022126151 0.7628541588783264\n"
     ]
    },
    {
     "name": "stderr",
     "output_type": "stream",
     "text": [
      "100%|██████████| 2310/2310 [07:15<00:00,  4.84it/s]\n",
      "  0%|          | 1/2310 [00:00<05:13,  7.36it/s]"
     ]
    },
    {
     "name": "stdout",
     "output_type": "stream",
     "text": [
      "134 0.02801531563150374 0.7228161692619324\n"
     ]
    },
    {
     "name": "stderr",
     "output_type": "stream",
     "text": [
      "100%|██████████| 2310/2310 [07:43<00:00,  5.11it/s]\n",
      "  0%|          | 1/2310 [00:00<07:27,  5.16it/s]"
     ]
    },
    {
     "name": "stdout",
     "output_type": "stream",
     "text": [
      "135 0.025945602356742193 0.7241033315658569\n"
     ]
    },
    {
     "name": "stderr",
     "output_type": "stream",
     "text": [
      "100%|██████████| 2310/2310 [07:23<00:00,  4.79it/s]\n",
      "  0%|          | 0/2310 [00:00<?, ?it/s]"
     ]
    },
    {
     "name": "stdout",
     "output_type": "stream",
     "text": [
      "136 0.028743105915513403 0.7549447417259216\n"
     ]
    },
    {
     "name": "stderr",
     "output_type": "stream",
     "text": [
      "100%|██████████| 2310/2310 [07:45<00:00,  4.63it/s]\n",
      "  0%|          | 1/2310 [00:00<05:57,  6.46it/s]"
     ]
    },
    {
     "name": "stdout",
     "output_type": "stream",
     "text": [
      "137 0.0263949355946256 0.7494614124298096\n"
     ]
    },
    {
     "name": "stderr",
     "output_type": "stream",
     "text": [
      "100%|██████████| 2310/2310 [07:42<00:00,  5.18it/s]\n",
      "  0%|          | 1/2310 [00:00<07:28,  5.15it/s]"
     ]
    },
    {
     "name": "stdout",
     "output_type": "stream",
     "text": [
      "138 0.026181241228366604 0.7476997375488281\n"
     ]
    },
    {
     "name": "stderr",
     "output_type": "stream",
     "text": [
      "100%|██████████| 2310/2310 [07:32<00:00,  5.86it/s]\n",
      "  0%|          | 0/2310 [00:00<?, ?it/s]"
     ]
    },
    {
     "name": "stdout",
     "output_type": "stream",
     "text": [
      "139 0.027417177866842644 0.7503105401992798\n"
     ]
    },
    {
     "name": "stderr",
     "output_type": "stream",
     "text": [
      "100%|██████████| 2310/2310 [07:43<00:00,  4.87it/s]\n",
      "  0%|          | 1/2310 [00:00<04:52,  7.89it/s]"
     ]
    },
    {
     "name": "stdout",
     "output_type": "stream",
     "text": [
      "140 0.026815203703768897 0.7411831021308899\n"
     ]
    },
    {
     "name": "stderr",
     "output_type": "stream",
     "text": [
      "100%|██████████| 2310/2310 [07:18<00:00,  5.02it/s]\n",
      "  0%|          | 0/2310 [00:00<?, ?it/s]"
     ]
    },
    {
     "name": "stdout",
     "output_type": "stream",
     "text": [
      "141 0.026674937469753263 0.7722437381744385\n"
     ]
    },
    {
     "name": "stderr",
     "output_type": "stream",
     "text": [
      "100%|██████████| 2310/2310 [07:42<00:00,  4.88it/s]\n",
      "  0%|          | 1/2310 [00:00<06:01,  6.39it/s]"
     ]
    },
    {
     "name": "stdout",
     "output_type": "stream",
     "text": [
      "142 0.02642611980610864 0.7546193599700928\n"
     ]
    },
    {
     "name": "stderr",
     "output_type": "stream",
     "text": [
      "100%|██████████| 2310/2310 [07:13<00:00,  5.19it/s]\n",
      "  0%|          | 1/2310 [00:00<06:26,  5.97it/s]"
     ]
    },
    {
     "name": "stdout",
     "output_type": "stream",
     "text": [
      "143 0.028085818079019095 0.7666022777557373\n"
     ]
    },
    {
     "name": "stderr",
     "output_type": "stream",
     "text": [
      "100%|██████████| 2310/2310 [07:45<00:00,  5.14it/s]\n",
      "  0%|          | 1/2310 [00:00<06:14,  6.17it/s]"
     ]
    },
    {
     "name": "stdout",
     "output_type": "stream",
     "text": [
      "144 0.025482097942738653 0.7334880232810974\n"
     ]
    },
    {
     "name": "stderr",
     "output_type": "stream",
     "text": [
      "100%|██████████| 2310/2310 [07:16<00:00,  5.24it/s]\n",
      "  0%|          | 0/2310 [00:00<?, ?it/s]"
     ]
    },
    {
     "name": "stdout",
     "output_type": "stream",
     "text": [
      "145 0.026114381125762302 0.7652950286865234\n"
     ]
    },
    {
     "name": "stderr",
     "output_type": "stream",
     "text": [
      "100%|██████████| 2310/2310 [07:46<00:00,  4.97it/s]\n",
      "  0%|          | 1/2310 [00:00<05:51,  6.57it/s]"
     ]
    },
    {
     "name": "stdout",
     "output_type": "stream",
     "text": [
      "146 0.0275622837736738 0.7363050580024719\n"
     ]
    },
    {
     "name": "stderr",
     "output_type": "stream",
     "text": [
      "100%|██████████| 2310/2310 [07:16<00:00,  4.81it/s]\n",
      "  0%|          | 0/2310 [00:00<?, ?it/s]"
     ]
    },
    {
     "name": "stdout",
     "output_type": "stream",
     "text": [
      "147 0.02597076574283188 0.7609251737594604\n"
     ]
    },
    {
     "name": "stderr",
     "output_type": "stream",
     "text": [
      "100%|██████████| 2310/2310 [07:46<00:00,  5.09it/s]\n",
      "  0%|          | 1/2310 [00:00<07:08,  5.39it/s]"
     ]
    },
    {
     "name": "stdout",
     "output_type": "stream",
     "text": [
      "148 0.02834781066055949 0.7414460778236389\n"
     ]
    },
    {
     "name": "stderr",
     "output_type": "stream",
     "text": [
      "100%|██████████| 2310/2310 [07:30<00:00,  5.21it/s]\n",
      "  0%|          | 1/2310 [00:00<07:04,  5.44it/s]"
     ]
    },
    {
     "name": "stdout",
     "output_type": "stream",
     "text": [
      "149 0.02555752897069613 0.7869117856025696\n"
     ]
    },
    {
     "name": "stderr",
     "output_type": "stream",
     "text": [
      "100%|██████████| 2310/2310 [07:45<00:00,  5.69it/s]\n",
      "  0%|          | 1/2310 [00:00<06:11,  6.22it/s]"
     ]
    },
    {
     "name": "stdout",
     "output_type": "stream",
     "text": [
      "150 0.02578579471678497 0.7437182664871216\n"
     ]
    },
    {
     "name": "stderr",
     "output_type": "stream",
     "text": [
      "100%|██████████| 2310/2310 [07:45<00:00,  5.08it/s]\n",
      "  0%|          | 1/2310 [00:00<07:37,  5.05it/s]"
     ]
    },
    {
     "name": "stdout",
     "output_type": "stream",
     "text": [
      "151 0.026149000085151367 0.7740800380706787\n"
     ]
    },
    {
     "name": "stderr",
     "output_type": "stream",
     "text": [
      "100%|██████████| 2310/2310 [07:28<00:00,  6.11it/s]\n",
      "  0%|          | 0/2310 [00:00<?, ?it/s]"
     ]
    },
    {
     "name": "stdout",
     "output_type": "stream",
     "text": [
      "152 0.027649003222194286 0.7686397433280945\n"
     ]
    },
    {
     "name": "stderr",
     "output_type": "stream",
     "text": [
      "100%|██████████| 2310/2310 [07:46<00:00,  5.11it/s]\n",
      "  0%|          | 0/2310 [00:00<?, ?it/s]"
     ]
    },
    {
     "name": "stdout",
     "output_type": "stream",
     "text": [
      "153 0.024821489964256482 0.779561460018158\n"
     ]
    },
    {
     "name": "stderr",
     "output_type": "stream",
     "text": [
      "100%|██████████| 2310/2310 [07:18<00:00,  4.80it/s]\n",
      "  0%|          | 0/2310 [00:00<?, ?it/s]"
     ]
    },
    {
     "name": "stdout",
     "output_type": "stream",
     "text": [
      "154 0.026811352222690002 0.7747917175292969\n"
     ]
    },
    {
     "name": "stderr",
     "output_type": "stream",
     "text": [
      "100%|██████████| 2310/2310 [07:46<00:00,  4.86it/s]\n",
      "  0%|          | 0/2310 [00:00<?, ?it/s]"
     ]
    },
    {
     "name": "stdout",
     "output_type": "stream",
     "text": [
      "155 0.025404104629782383 0.741504967212677\n"
     ]
    },
    {
     "name": "stderr",
     "output_type": "stream",
     "text": [
      "100%|██████████| 2310/2310 [07:16<00:00,  4.86it/s]\n",
      "  0%|          | 0/2310 [00:00<?, ?it/s]"
     ]
    },
    {
     "name": "stdout",
     "output_type": "stream",
     "text": [
      "156 0.025952772879485008 0.7589824795722961\n"
     ]
    },
    {
     "name": "stderr",
     "output_type": "stream",
     "text": [
      "100%|██████████| 2310/2310 [08:26<00:00,  4.57it/s]\n",
      "  0%|          | 0/2310 [00:00<?, ?it/s]"
     ]
    },
    {
     "name": "stdout",
     "output_type": "stream",
     "text": [
      "157 0.02535039606117335 0.7204545736312866\n"
     ]
    },
    {
     "name": "stderr",
     "output_type": "stream",
     "text": [
      "100%|██████████| 2310/2310 [07:58<00:00,  4.26it/s]\n",
      "  0%|          | 1/2310 [00:00<05:39,  6.80it/s]"
     ]
    },
    {
     "name": "stdout",
     "output_type": "stream",
     "text": [
      "158 0.028620505177901132 0.7599985599517822\n"
     ]
    },
    {
     "name": "stderr",
     "output_type": "stream",
     "text": [
      "100%|██████████| 2310/2310 [08:34<00:00,  4.65it/s]\n",
      "  0%|          | 0/2310 [00:00<?, ?it/s]"
     ]
    },
    {
     "name": "stdout",
     "output_type": "stream",
     "text": [
      "159 0.02536254843286347 0.7882809638977051\n"
     ]
    },
    {
     "name": "stderr",
     "output_type": "stream",
     "text": [
      "100%|██████████| 2310/2310 [08:17<00:00,  4.68it/s]\n",
      "  0%|          | 0/2310 [00:00<?, ?it/s]"
     ]
    },
    {
     "name": "stdout",
     "output_type": "stream",
     "text": [
      "160 0.02576647201555407 0.76485276222229\n"
     ]
    },
    {
     "name": "stderr",
     "output_type": "stream",
     "text": [
      "100%|██████████| 2310/2310 [08:24<00:00,  5.55it/s]\n",
      "  0%|          | 0/2310 [00:00<?, ?it/s]"
     ]
    },
    {
     "name": "stdout",
     "output_type": "stream",
     "text": [
      "161 0.025456762083291028 0.7687813639640808\n"
     ]
    },
    {
     "name": "stderr",
     "output_type": "stream",
     "text": [
      "100%|██████████| 2310/2310 [08:35<00:00,  4.56it/s]\n",
      "  0%|          | 0/2310 [00:00<?, ?it/s]"
     ]
    },
    {
     "name": "stdout",
     "output_type": "stream",
     "text": [
      "162 0.025401042776739716 0.7591294050216675\n"
     ]
    },
    {
     "name": "stderr",
     "output_type": "stream",
     "text": [
      "100%|██████████| 2310/2310 [07:59<00:00,  4.65it/s]\n",
      "  0%|          | 1/2310 [00:00<06:57,  5.53it/s]"
     ]
    },
    {
     "name": "stdout",
     "output_type": "stream",
     "text": [
      "163 0.026175998935807496 0.7623401284217834\n"
     ]
    },
    {
     "name": "stderr",
     "output_type": "stream",
     "text": [
      "100%|██████████| 2310/2310 [08:35<00:00,  4.55it/s]\n",
      "  0%|          | 0/2310 [00:00<?, ?it/s]"
     ]
    },
    {
     "name": "stdout",
     "output_type": "stream",
     "text": [
      "164 0.02630393099380216 0.7628633975982666\n"
     ]
    },
    {
     "name": "stderr",
     "output_type": "stream",
     "text": [
      "100%|██████████| 2310/2310 [08:00<00:00,  4.75it/s]\n",
      "  0%|          | 0/2310 [00:00<?, ?it/s]"
     ]
    },
    {
     "name": "stdout",
     "output_type": "stream",
     "text": [
      "165 0.02522295518165584 0.7774348258972168\n"
     ]
    },
    {
     "name": "stderr",
     "output_type": "stream",
     "text": [
      "100%|██████████| 2310/2310 [08:32<00:00,  4.36it/s]\n",
      "  0%|          | 0/2310 [00:00<?, ?it/s]"
     ]
    },
    {
     "name": "stdout",
     "output_type": "stream",
     "text": [
      "166 0.025294492408010467 0.7623269557952881\n"
     ]
    },
    {
     "name": "stderr",
     "output_type": "stream",
     "text": [
      "100%|██████████| 2310/2310 [08:00<00:00,  4.29it/s]\n",
      "  0%|          | 0/2310 [00:00<?, ?it/s]"
     ]
    },
    {
     "name": "stdout",
     "output_type": "stream",
     "text": [
      "167 0.02516186709450005 0.7683058381080627\n"
     ]
    },
    {
     "name": "stderr",
     "output_type": "stream",
     "text": [
      "100%|██████████| 2310/2310 [08:34<00:00,  4.31it/s]\n",
      "  0%|          | 0/2310 [00:00<?, ?it/s]"
     ]
    },
    {
     "name": "stdout",
     "output_type": "stream",
     "text": [
      "168 0.02509807794519824 0.7679992914199829\n"
     ]
    },
    {
     "name": "stderr",
     "output_type": "stream",
     "text": [
      "100%|██████████| 2310/2310 [08:20<00:00,  4.41it/s]\n",
      "  0%|          | 0/2310 [00:00<?, ?it/s]"
     ]
    },
    {
     "name": "stdout",
     "output_type": "stream",
     "text": [
      "169 0.02657000006137407 0.7734635472297668\n"
     ]
    },
    {
     "name": "stderr",
     "output_type": "stream",
     "text": [
      "100%|██████████| 2310/2310 [08:19<00:00,  5.66it/s]\n",
      "  0%|          | 0/2310 [00:00<?, ?it/s]"
     ]
    },
    {
     "name": "stdout",
     "output_type": "stream",
     "text": [
      "170 0.02570997963422702 0.763621985912323\n"
     ]
    },
    {
     "name": "stderr",
     "output_type": "stream",
     "text": [
      "100%|██████████| 2310/2310 [08:34<00:00,  4.39it/s]\n",
      "  0%|          | 1/2310 [00:00<06:47,  5.67it/s]"
     ]
    },
    {
     "name": "stdout",
     "output_type": "stream",
     "text": [
      "171 0.024416964560837497 0.7515972256660461\n"
     ]
    },
    {
     "name": "stderr",
     "output_type": "stream",
     "text": [
      "100%|██████████| 2310/2310 [07:58<00:00,  4.43it/s]\n",
      "  0%|          | 1/2310 [00:00<06:55,  5.56it/s]"
     ]
    },
    {
     "name": "stdout",
     "output_type": "stream",
     "text": [
      "172 0.02528871755583971 0.7372146844863892\n"
     ]
    },
    {
     "name": "stderr",
     "output_type": "stream",
     "text": [
      "100%|██████████| 2310/2310 [08:33<00:00,  4.37it/s]\n",
      "  0%|          | 0/2310 [00:00<?, ?it/s]"
     ]
    },
    {
     "name": "stdout",
     "output_type": "stream",
     "text": [
      "173 0.026562318573280324 0.6158245205879211\n"
     ]
    },
    {
     "name": "stderr",
     "output_type": "stream",
     "text": [
      "100%|██████████| 2310/2310 [07:58<00:00,  4.22it/s]\n",
      "  0%|          | 0/2310 [00:00<?, ?it/s]"
     ]
    },
    {
     "name": "stdout",
     "output_type": "stream",
     "text": [
      "174 0.026651302982975182 0.7663036584854126\n"
     ]
    },
    {
     "name": "stderr",
     "output_type": "stream",
     "text": [
      "100%|██████████| 2310/2310 [08:34<00:00,  4.51it/s]\n",
      "  0%|          | 0/2310 [00:00<?, ?it/s]"
     ]
    },
    {
     "name": "stdout",
     "output_type": "stream",
     "text": [
      "175 0.02417632769196322 0.7537404894828796\n"
     ]
    },
    {
     "name": "stderr",
     "output_type": "stream",
     "text": [
      "100%|██████████| 2310/2310 [08:00<00:00,  4.42it/s]\n",
      "  0%|          | 1/2310 [00:00<06:55,  5.56it/s]"
     ]
    },
    {
     "name": "stdout",
     "output_type": "stream",
     "text": [
      "176 0.026074068974130803 0.7496300935745239\n"
     ]
    },
    {
     "name": "stderr",
     "output_type": "stream",
     "text": [
      "100%|██████████| 2310/2310 [08:33<00:00,  4.37it/s]\n",
      "  0%|          | 1/2310 [00:00<07:10,  5.36it/s]"
     ]
    },
    {
     "name": "stdout",
     "output_type": "stream",
     "text": [
      "177 0.02477791428165861 0.7801429033279419\n"
     ]
    },
    {
     "name": "stderr",
     "output_type": "stream",
     "text": [
      "100%|██████████| 2310/2310 [08:21<00:00,  4.48it/s]\n",
      "  0%|          | 0/2310 [00:00<?, ?it/s]"
     ]
    },
    {
     "name": "stdout",
     "output_type": "stream",
     "text": [
      "178 0.024591794391168743 0.7748480439186096\n"
     ]
    },
    {
     "name": "stderr",
     "output_type": "stream",
     "text": [
      "100%|██████████| 2310/2310 [08:19<00:00,  5.68it/s]\n",
      "  0%|          | 1/2310 [00:00<07:17,  5.27it/s]"
     ]
    },
    {
     "name": "stdout",
     "output_type": "stream",
     "text": [
      "179 0.02586299811613707 0.781362771987915\n"
     ]
    },
    {
     "name": "stderr",
     "output_type": "stream",
     "text": [
      "100%|██████████| 2310/2310 [08:33<00:00,  4.70it/s]\n",
      "  0%|          | 1/2310 [00:00<07:10,  5.37it/s]"
     ]
    },
    {
     "name": "stdout",
     "output_type": "stream",
     "text": [
      "180 0.02457407482925136 0.7467730045318604\n"
     ]
    },
    {
     "name": "stderr",
     "output_type": "stream",
     "text": [
      "100%|██████████| 2310/2310 [07:58<00:00,  4.46it/s]\n",
      "  0%|          | 1/2310 [00:00<06:54,  5.57it/s]"
     ]
    },
    {
     "name": "stdout",
     "output_type": "stream",
     "text": [
      "181 0.025150394147837145 0.7859334349632263\n"
     ]
    },
    {
     "name": "stderr",
     "output_type": "stream",
     "text": [
      "100%|██████████| 2310/2310 [08:34<00:00,  4.48it/s]\n",
      "  0%|          | 1/2310 [00:00<07:17,  5.28it/s]"
     ]
    },
    {
     "name": "stdout",
     "output_type": "stream",
     "text": [
      "182 0.024891965868876785 0.7409635782241821\n"
     ]
    },
    {
     "name": "stderr",
     "output_type": "stream",
     "text": [
      "100%|██████████| 2310/2310 [07:58<00:00,  4.32it/s]\n",
      "  0%|          | 0/2310 [00:00<?, ?it/s]"
     ]
    },
    {
     "name": "stdout",
     "output_type": "stream",
     "text": [
      "183 0.024264250424577204 0.721518337726593\n"
     ]
    },
    {
     "name": "stderr",
     "output_type": "stream",
     "text": [
      "100%|██████████| 2310/2310 [08:35<00:00,  4.30it/s]\n",
      "  0%|          | 0/2310 [00:00<?, ?it/s]"
     ]
    },
    {
     "name": "stdout",
     "output_type": "stream",
     "text": [
      "184 0.025264636834864754 0.790497899055481\n"
     ]
    },
    {
     "name": "stderr",
     "output_type": "stream",
     "text": [
      "100%|██████████| 2310/2310 [07:58<00:00,  4.37it/s]\n",
      "  0%|          | 0/2310 [00:00<?, ?it/s]"
     ]
    },
    {
     "name": "stdout",
     "output_type": "stream",
     "text": [
      "185 0.024134873448447162 0.7132746577262878\n"
     ]
    },
    {
     "name": "stderr",
     "output_type": "stream",
     "text": [
      "100%|██████████| 2310/2310 [08:32<00:00,  4.46it/s]\n",
      "  0%|          | 0/2310 [00:00<?, ?it/s]"
     ]
    },
    {
     "name": "stdout",
     "output_type": "stream",
     "text": [
      "186 0.02595774906103799 0.7457727193832397\n"
     ]
    },
    {
     "name": "stderr",
     "output_type": "stream",
     "text": [
      "100%|██████████| 2310/2310 [08:18<00:00,  4.26it/s]\n",
      "  0%|          | 1/2310 [00:00<06:58,  5.52it/s]"
     ]
    },
    {
     "name": "stdout",
     "output_type": "stream",
     "text": [
      "187 0.02396119598883308 0.7730768322944641\n"
     ]
    },
    {
     "name": "stderr",
     "output_type": "stream",
     "text": [
      "100%|██████████| 2310/2310 [08:22<00:00,  5.62it/s]\n",
      "  0%|          | 0/2310 [00:00<?, ?it/s]"
     ]
    },
    {
     "name": "stdout",
     "output_type": "stream",
     "text": [
      "188 0.024268883693077545 0.665178120136261\n"
     ]
    },
    {
     "name": "stderr",
     "output_type": "stream",
     "text": [
      "100%|██████████| 2310/2310 [08:32<00:00,  4.68it/s]\n",
      "  0%|          | 1/2310 [00:00<07:04,  5.44it/s]"
     ]
    },
    {
     "name": "stdout",
     "output_type": "stream",
     "text": [
      "189 0.025793601195709098 0.7866300940513611\n"
     ]
    },
    {
     "name": "stderr",
     "output_type": "stream",
     "text": [
      "100%|██████████| 2310/2310 [07:58<00:00,  4.80it/s]\n",
      "  0%|          | 1/2310 [00:00<07:18,  5.26it/s]"
     ]
    },
    {
     "name": "stdout",
     "output_type": "stream",
     "text": [
      "190 0.023995439267054608 0.7652312517166138\n"
     ]
    },
    {
     "name": "stderr",
     "output_type": "stream",
     "text": [
      "100%|██████████| 2310/2310 [08:34<00:00,  4.39it/s]\n",
      "  0%|          | 0/2310 [00:00<?, ?it/s]"
     ]
    },
    {
     "name": "stdout",
     "output_type": "stream",
     "text": [
      "191 0.0243918428817847 0.7445462942123413\n"
     ]
    },
    {
     "name": "stderr",
     "output_type": "stream",
     "text": [
      "100%|██████████| 2310/2310 [07:59<00:00,  4.38it/s]\n",
      "  0%|          | 0/2310 [00:00<?, ?it/s]"
     ]
    },
    {
     "name": "stdout",
     "output_type": "stream",
     "text": [
      "192 0.024235503301960195 0.6899592876434326\n"
     ]
    },
    {
     "name": "stderr",
     "output_type": "stream",
     "text": [
      "100%|██████████| 2310/2310 [08:31<00:00,  4.55it/s]\n",
      "  0%|          | 0/2310 [00:00<?, ?it/s]"
     ]
    },
    {
     "name": "stdout",
     "output_type": "stream",
     "text": [
      "193 0.025057132918131126 0.7429038286209106\n"
     ]
    },
    {
     "name": "stderr",
     "output_type": "stream",
     "text": [
      "100%|██████████| 2310/2310 [07:58<00:00,  4.93it/s]\n",
      "  0%|          | 1/2310 [00:00<05:44,  6.71it/s]"
     ]
    },
    {
     "name": "stdout",
     "output_type": "stream",
     "text": [
      "194 0.024778159557901816 0.7846518754959106\n"
     ]
    },
    {
     "name": "stderr",
     "output_type": "stream",
     "text": [
      "100%|██████████| 2310/2310 [08:34<00:00,  4.23it/s]\n",
      "  0%|          | 0/2310 [00:00<?, ?it/s]"
     ]
    },
    {
     "name": "stdout",
     "output_type": "stream",
     "text": [
      "195 0.023914748428074013 0.7382233738899231\n"
     ]
    },
    {
     "name": "stderr",
     "output_type": "stream",
     "text": [
      "100%|██████████| 2310/2310 [08:18<00:00,  4.38it/s]\n",
      "  0%|          | 0/2310 [00:00<?, ?it/s]"
     ]
    },
    {
     "name": "stdout",
     "output_type": "stream",
     "text": [
      "196 0.024232091793960672 0.7607142925262451\n"
     ]
    },
    {
     "name": "stderr",
     "output_type": "stream",
     "text": [
      "100%|██████████| 2310/2310 [08:20<00:00,  5.61it/s]\n",
      "  0%|          | 1/2310 [00:00<07:05,  5.43it/s]"
     ]
    },
    {
     "name": "stdout",
     "output_type": "stream",
     "text": [
      "197 0.025764800707784218 0.7745466232299805\n"
     ]
    },
    {
     "name": "stderr",
     "output_type": "stream",
     "text": [
      "100%|██████████| 2310/2310 [08:34<00:00,  4.66it/s]\n",
      "  0%|          | 0/2310 [00:00<?, ?it/s]"
     ]
    },
    {
     "name": "stdout",
     "output_type": "stream",
     "text": [
      "198 0.023398797412960755 0.7772853374481201\n"
     ]
    },
    {
     "name": "stderr",
     "output_type": "stream",
     "text": [
      "100%|██████████| 2310/2310 [07:59<00:00,  4.31it/s]\n"
     ]
    },
    {
     "name": "stdout",
     "output_type": "stream",
     "text": [
      "199 0.025647739554287913 0.7147150039672852\n"
     ]
    }
   ],
   "source": [
    "model = SegNetBasic(3, 8)\n",
    "writer = SummaryWriter(\"./SegNet_with_class_weight(median)_results/\")\n",
    "train_model(model, train_loader, test_loader, criterion=nn.CrossEntropyLoss(weight=class_weight.to('cuda')), device=\"cuda\", writer=writer)"
   ]
  },
  {
   "cell_type": "code",
   "execution_count": 16,
   "metadata": {},
   "outputs": [],
   "source": [
    "colors = torch.tensor([[0, 0, 0],         # class 0 'background'  black\n",
    "                       [255, 0, 0],       # class 1 'grasp'       red\n",
    "                       [255, 255, 0],     # class 2 'cut'         yellow\n",
    "                       [0, 255, 0],       # class 3 'scoop'       green\n",
    "                       [0, 255, 255],     # class 4 'contain'     sky blue\n",
    "                       [0, 0, 255],       # class 5 'pound'       blue\n",
    "                       [255, 0, 255],     # class 6 'support'     purple\n",
    "                       [255, 255, 255]    # class 7 'wrap grasp'  white\n",
    "                      ])"
   ]
  },
  {
   "cell_type": "code",
   "execution_count": 17,
   "metadata": {},
   "outputs": [],
   "source": [
    "def class_to_mask(cls):\n",
    "    \n",
    "    mask = colors[cls].transpose(1, 2).transpose(1, 3)\n",
    "    \n",
    "    return mask"
   ]
  },
  {
   "cell_type": "code",
   "execution_count": 18,
   "metadata": {},
   "outputs": [],
   "source": [
    "def predict(model, sample, device='cpu'):\n",
    "    model.eval()\n",
    "    model.to(device)\n",
    "    \n",
    "    x, y = sample['image'], sample['class']\n",
    "    \n",
    "    x = x.to(device)\n",
    "    y = y.to(device)\n",
    "\n",
    "    with torch.no_grad():\n",
    "        _, y_pred = model(x).max(1)    # y_pred.shape => (N, 240, 320)\n",
    "    \n",
    "    true_mask = class_to_mask(y).to('cpu')\n",
    "    pred_mask = class_to_mask(y_pred).to('cpu')\n",
    "    \n",
    "    save_image(true_mask, \"./SegNet_with_class_weight(median)_results/true_mask_with_SegNet_with_class_weight(median).jpg\")\n",
    "    save_image(pred_mask, \"./SegNet_with_class_weight(median)_results/pred_mask_with_SegNet_with_class_weight(median).jpg\")"
   ]
  },
  {
   "cell_type": "code",
   "execution_count": 40,
   "metadata": {},
   "outputs": [],
   "source": [
    "trained_model = SegNetBasic(3, 8)\n",
    "trained_model.load_state_dict(torch.load(\"./SegNet_with_class_weight(median)_results/best_iou_model.prm\"))"
   ]
  },
  {
   "cell_type": "code",
   "execution_count": 41,
   "metadata": {},
   "outputs": [],
   "source": [
    "eval_data = PartAffordanceDataset('eval.csv',\n",
    "                                transform=transforms.Compose([\n",
    "                                    CenterCrop(),\n",
    "                                    ToTensor(),\n",
    "                                    Normalize()\n",
    "                                ]))"
   ]
  },
  {
   "cell_type": "code",
   "execution_count": 42,
   "metadata": {},
   "outputs": [],
   "source": [
    "def reverse_normalize(x, mean, std):\n",
    "    x[:, 0, :, :] = x[:, 0, :, :] * std[0] + mean[0]\n",
    "    x[:, 1, :, :] = x[:, 1, :, :] * std[1] + mean[1]\n",
    "    x[:, 2, :, :] = x[:, 2, :, :] * std[2] + mean[2]\n",
    "    return x"
   ]
  },
  {
   "cell_type": "code",
   "execution_count": 43,
   "metadata": {},
   "outputs": [],
   "source": [
    "eval_loader = DataLoader(eval_data, batch_size=8, shuffle=False)"
   ]
  },
  {
   "cell_type": "code",
   "execution_count": 46,
   "metadata": {},
   "outputs": [],
   "source": [
    "mean=[55.8630, 59.9099, 91.7419]\n",
    "std=[31.6852, 29.8496, 19.0835]\n",
    "\n",
    "for sample in eval_loader:\n",
    "    trained_model.eval()\n",
    "    \n",
    "    predict(trained_model, sample)\n",
    "    \n",
    "    x = sample[\"image\"]\n",
    "    x = reverse_normalize(x, mean, std)\n",
    "    save_image(x/255, \"./SegNet_with_class_weight(median)_results/original_img_with_SegNet_with_class_weight(median).jpg\")\n",
    "    \n",
    "    break"
   ]
  },
  {
   "cell_type": "code",
   "execution_count": null,
   "metadata": {},
   "outputs": [],
   "source": []
  }
 ],
 "metadata": {
  "kernelspec": {
   "display_name": "Python 3",
   "language": "python",
   "name": "python3"
  },
  "language_info": {
   "codemirror_mode": {
    "name": "ipython",
    "version": 3
   },
   "file_extension": ".py",
   "mimetype": "text/x-python",
   "name": "python",
   "nbconvert_exporter": "python",
   "pygments_lexer": "ipython3",
   "version": "3.5.5"
  }
 },
 "nbformat": 4,
 "nbformat_minor": 2
}
