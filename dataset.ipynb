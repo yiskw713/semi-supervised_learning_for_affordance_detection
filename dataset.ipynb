{
 "cells": [
  {
   "cell_type": "code",
   "execution_count": 24,
   "metadata": {},
   "outputs": [],
   "source": [
    "import glob\n",
    "import numpy as np\n",
    "import scipy.io"
   ]
  },
  {
   "cell_type": "code",
   "execution_count": 12,
   "metadata": {},
   "outputs": [],
   "source": [
    "def list_func(category):\n",
    "    a = glob.glob('./part-affordance-dataset/tools/' + category + '*')\n",
    "    b = []\n",
    "    for path in a:\n",
    "        i = glob.glob(path + '/*label.mat')\n",
    "        b += i\n",
    "        \n",
    "    return b"
   ]
  },
  {
   "cell_type": "code",
   "execution_count": 15,
   "metadata": {},
   "outputs": [],
   "source": [
    "category = ['bowl', 'cup', 'hammer', 'knife', 'ladle', 'mallet', 'mug', 'pot', 'saw', 'scissors', 'scoop', 'shears', 'shovel', 'spoon', 'tenderizer', 'trowel', 'turner']"
   ]
  },
  {
   "cell_type": "code",
   "execution_count": 16,
   "metadata": {},
   "outputs": [],
   "source": [
    "d ={}\n",
    "for c in category:\n",
    "    d[c] = list_func(c)"
   ]
  },
  {
   "cell_type": "code",
   "execution_count": 26,
   "metadata": {},
   "outputs": [],
   "source": [
    "dd = {}\n",
    "for key, val in d.items():\n",
    "    cnt_dict = {0:0, 1:0, 2:0, 3:0, 4:0, 5:0, 6:0, 7:0}\n",
    "    \n",
    "    for i in val:\n",
    "        cls = scipy.io.loadmat(i)['gt_label']\n",
    "        num, cnt = np.unique(cls, return_counts=True)\n",
    "        \n",
    "        for n, c in zip(num, cnt):\n",
    "            cnt_dict[n] += c\n",
    "            \n",
    "    dd[key] = cnt_dict"
   ]
  },
  {
   "cell_type": "code",
   "execution_count": 28,
   "metadata": {},
   "outputs": [
    {
     "data": {
      "text/plain": [
       "17"
      ]
     },
     "execution_count": 28,
     "metadata": {},
     "output_type": "execute_result"
    }
   ],
   "source": [
    "len(dd)"
   ]
  },
  {
   "cell_type": "markdown",
   "metadata": {},
   "source": [
    "1 - 'grasp'<br>\n",
    "2 - 'cut'　　<br>\n",
    "3 - 'scoop'　　<br>\n",
    "4 - 'contain'　　<br>\n",
    "5 - 'pound'　　<br>\n",
    "6 - 'support'　　<br>\n",
    "7 - 'wrap-grasp'　　<br>\n",
    "\n",
    "'bowl':   \n",
    "{0: 793959020, 1: 0, 2: 0, 3: 0, 4: 16741780, 5: 0, 6: 0, 7: 0},  \n",
    "  \n",
    "'cup':   \n",
    "{0: 470000356, 1: 0, 2: 0, 3: 0, 4: 3920748, 5: 0, 6: 0, 7: 3774896},\n",
    "\n",
    " 'hammer':  \n",
    " {0: 335793632, 1: 4285156, 2: 0, 3: 0, 4: 0, 5: 2756412, 6: 0, 7: 0},\n",
    " \n",
    " 'knife':  \n",
    " {0: 1047125020, 1: 5187420, 2: 6913160, 3: 0, 4: 0, 5: 0, 6: 0,  7: 0},  \n",
    " \n",
    " 'ladle':  \n",
    " {0: 454445732, 1: 2316204, 2: 0, 3: 0, 4: 2809264, 5: 0, 6: 0, 7: 0},\n",
    " \n",
    " 'mallet':  \n",
    " {0: 345163132,1: 2329548, 2: 0, 3: 0, 4: 0, 5: 3022520, 6: 0, 7: 0},\n",
    " \n",
    " 'mug':  \n",
    " {0: 1582217120, 1: 2472008, 2: 0, 3: 0, 4: 13112348, 5: 0, 6: 0, 7: 14998524},  \n",
    "   \n",
    " 'pot':  \n",
    " {0: 145770516, 1: 0, 2: 0, 3: 0, 4: 1892824, 5: 0, 6: 0, 7: 1328660},  \n",
    "  \n",
    "'saw':   \n",
    "{0: 265594612, 1: 1919836, 2: 7429552, 3: 0, 4: 0, 5: 0, 6: 0, 7: 0},  \n",
    "\n",
    "'scissors':  \n",
    "{0: 638535228, 1: 3475904, 2: 1265668, 3: 0, 4: 0, 5: 0, 6: 0, 7: 0},\n",
    " \n",
    " 'scoop':  \n",
    " {0: 180015900, 1: 493960, 2: 0, 3: 2274140, 4: 0, 5: 0, 6: 0, 7: 0},  \n",
    " \n",
    " 'shears':   \n",
    " {0: 186856496, 1: 1055932, 2: 401172, 3: 0, 4: 0, 5: 0, 6: 0, 7: 0},  \n",
    "   \n",
    " 'shovel':   \n",
    " {0: 130055460, 1: 364936, 2: 0, 3: 0, 4: 0, 5: 0, 6: 1061204, 7: 0},  \n",
    " \n",
    " 'spoon':  \n",
    " {0: 871487500, 1: 3742936, 2: 0, 3: 6126364, 4: 0, 5: 0, 6: 0, 7: 0},\n",
    " \n",
    " 'tenderizer':  \n",
    " {0: 194462860, 1: 536132, 2: 0, 3: 0, 4: 0, 5: 994608, 6: 0, 7: 0},\n",
    " \n",
    " 'trowel':   \n",
    " {0: 382218496, 1: 2049388, 2: 0, 3: 4032916, 4: 0, 5: 0, 6: 0, 7: 0},\n",
    " \n",
    " 'turner':  \n",
    " {0: 699639800, 1: 3929924, 2: 0, 3: 0, 4: 0, 5: 0, 6: 8212676, 7: 0}}"
   ]
  },
  {
   "cell_type": "code",
   "execution_count": null,
   "metadata": {},
   "outputs": [],
   "source": []
  }
 ],
 "metadata": {
  "kernelspec": {
   "display_name": "Python 3",
   "language": "python",
   "name": "python3"
  },
  "language_info": {
   "codemirror_mode": {
    "name": "ipython",
    "version": 3
   },
   "file_extension": ".py",
   "mimetype": "text/x-python",
   "name": "python",
   "nbconvert_exporter": "python",
   "pygments_lexer": "ipython3",
   "version": "3.6.6"
  }
 },
 "nbformat": 4,
 "nbformat_minor": 2
}
